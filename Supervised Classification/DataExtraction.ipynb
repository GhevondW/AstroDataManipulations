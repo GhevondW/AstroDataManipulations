{
 "cells": [
  {
   "cell_type": "code",
   "execution_count": 75,
   "metadata": {},
   "outputs": [],
   "source": [
    "import numpy as np\n",
    "import pandas as pd\n",
    "import seaborn as sns\n",
    "from sklearn.linear_model import LinearRegression\n",
    "import matplotlib.pyplot as plt\n",
    "from sklearn.model_selection import train_test_split\n",
    "from sklearn.feature_selection import RFE\n",
    "from sklearn.metrics import mean_squared_error, r2_score\n",
    "import os, fnmatch\n",
    "from sklearn.cluster import KMeans\n",
    "from sklearn.preprocessing import PolynomialFeatures \n",
    "import seaborn as sns\n",
    "%matplotlib inline\n",
    "from keras.layers import Input, Dense\n",
    "from keras.models import Model\n",
    "# from keras.op\n",
    "from keras import optimizers\n",
    "from keras import regularizers\n",
    "from PIL import Image\n",
    "from sklearn import preprocessing\n",
    "from sklearn.model_selection import train_test_split\n",
    "\n",
    "import keras\n",
    "from keras.models import load_model\n",
    "from keras.datasets import cifar10\n",
    "from keras.layers import Input, Dense, Conv2D, MaxPooling2D, UpSampling2D, BatchNormalization, Activation\n",
    "from keras.models import Model\n",
    "from keras.callbacks import EarlyStopping, ModelCheckpoint\n",
    "from keras.optimizers import Adam\n",
    "import os\n",
    "import pickle\n",
    "import numpy as np\n",
    "from astropy import units as u\n",
    "from astropy.coordinates import SkyCoord\n",
    "from astropy.time import Time\n",
    "from astropy.coordinates import FK5\n",
    "from astropy import wcs\n",
    "from astropy.io import fits\n",
    "import sys\n",
    "from astropy import units as u\n",
    "from astropy.coordinates import SkyCoord"
   ]
  },
  {
   "cell_type": "code",
   "execution_count": 76,
   "metadata": {},
   "outputs": [],
   "source": [
    "data = pd.read_csv(\"./DFBS.csv\")"
   ]
  },
  {
   "cell_type": "code",
   "execution_count": 93,
   "metadata": {},
   "outputs": [
    {
     "name": "stdout",
     "output_type": "stream",
     "text": [
      "(7358, 9)\n"
     ]
    }
   ],
   "source": [
    "data.head(20)\n",
    "print(data.shape)"
   ]
  },
  {
   "cell_type": "code",
   "execution_count": 78,
   "metadata": {},
   "outputs": [],
   "source": [
    "all_hdr_files = []\n",
    "listOfFiles = os.listdir('./fits headers')\n",
    "pattern = \"*.hdr\"\n",
    "for entry in listOfFiles:\n",
    "    if fnmatch.fnmatch(entry, pattern):\n",
    "            all_hdr_files.append('./fits headers/'+entry)"
   ]
  },
  {
   "cell_type": "code",
   "execution_count": 79,
   "metadata": {},
   "outputs": [
    {
     "name": "stdout",
     "output_type": "stream",
     "text": [
      "1700\n"
     ]
    }
   ],
   "source": [
    "print(len(all_hdr_files))"
   ]
  },
  {
   "cell_type": "code",
   "execution_count": 80,
   "metadata": {},
   "outputs": [],
   "source": [
    "#hdulist = fits.open(all_hdr_files[0])"
   ]
  },
  {
   "cell_type": "code",
   "execution_count": 81,
   "metadata": {},
   "outputs": [],
   "source": [
    "#w = wcs.WCS(hdulist[0].header)"
   ]
  },
  {
   "cell_type": "code",
   "execution_count": 82,
   "metadata": {},
   "outputs": [],
   "source": [
    "#pixcrd = np.array([[0, 0], [24, 38], [4801 * 2, 4701 * 2]], dtype=np.float64)\n",
    "#world = w.wcs_pix2world(pixcrd, 0)\n",
    "\n",
    "#print(world)"
   ]
  },
  {
   "cell_type": "code",
   "execution_count": 83,
   "metadata": {},
   "outputs": [],
   "source": [
    "#w"
   ]
  },
  {
   "cell_type": "code",
   "execution_count": 84,
   "metadata": {},
   "outputs": [],
   "source": [
    "#c = SkyCoord(100.174423, -55.203358, frame='icrs', unit='deg')"
   ]
  },
  {
   "cell_type": "code",
   "execution_count": 100,
   "metadata": {},
   "outputs": [],
   "source": [
    "#dx, dy = w.wcs_world2pix(100.174423, -55.203358, 0)\n",
    "#print(dx, dy)"
   ]
  },
  {
   "cell_type": "code",
   "execution_count": 92,
   "metadata": {},
   "outputs": [],
   "source": [
    "data[\"plate\"] = np.nan"
   ]
  },
  {
   "cell_type": "code",
   "execution_count": 94,
   "metadata": {},
   "outputs": [],
   "source": [
    "data[\"dx\"] = np.zeros(data.shape[0])"
   ]
  },
  {
   "cell_type": "code",
   "execution_count": 95,
   "metadata": {},
   "outputs": [],
   "source": [
    "data[\"dy\"] = np.zeros(data.shape[0])"
   ]
  },
  {
   "cell_type": "code",
   "execution_count": 96,
   "metadata": {},
   "outputs": [
    {
     "data": {
      "text/html": [
       "<div>\n",
       "<style scoped>\n",
       "    .dataframe tbody tr th:only-of-type {\n",
       "        vertical-align: middle;\n",
       "    }\n",
       "\n",
       "    .dataframe tbody tr th {\n",
       "        vertical-align: top;\n",
       "    }\n",
       "\n",
       "    .dataframe thead th {\n",
       "        text-align: right;\n",
       "    }\n",
       "</style>\n",
       "<table border=\"1\" class=\"dataframe\">\n",
       "  <thead>\n",
       "    <tr style=\"text-align: right;\">\n",
       "      <th></th>\n",
       "      <th>_Glon</th>\n",
       "      <th>_Glat</th>\n",
       "      <th>_RAJ2000</th>\n",
       "      <th>_DEJ2000</th>\n",
       "      <th>Cl</th>\n",
       "      <th>Name</th>\n",
       "      <th>Vmag</th>\n",
       "      <th>z</th>\n",
       "      <th>plate</th>\n",
       "      <th>dx</th>\n",
       "      <th>dy</th>\n",
       "    </tr>\n",
       "  </thead>\n",
       "  <tbody>\n",
       "    <tr>\n",
       "      <td>0</td>\n",
       "      <td>deg</td>\n",
       "      <td>deg</td>\n",
       "      <td>deg</td>\n",
       "      <td>deg</td>\n",
       "      <td>NaN</td>\n",
       "      <td>NaN</td>\n",
       "      <td>mag</td>\n",
       "      <td>NaN</td>\n",
       "      <td>NaN</td>\n",
       "      <td>0.0</td>\n",
       "      <td>0.0</td>\n",
       "    </tr>\n",
       "    <tr>\n",
       "      <td>1</td>\n",
       "      <td>100.174423</td>\n",
       "      <td>-55.203358</td>\n",
       "      <td>0.04875</td>\n",
       "      <td>5.388056</td>\n",
       "      <td>Sy1</td>\n",
       "      <td>RXS J00001+0523</td>\n",
       "      <td>16.4</td>\n",
       "      <td>0.040</td>\n",
       "      <td>NaN</td>\n",
       "      <td>0.0</td>\n",
       "      <td>0.0</td>\n",
       "    </tr>\n",
       "    <tr>\n",
       "      <td>2</td>\n",
       "      <td>99.844434</td>\n",
       "      <td>-57.30727</td>\n",
       "      <td>0.61</td>\n",
       "      <td>3.351667</td>\n",
       "      <td>Sy1</td>\n",
       "      <td>MARK 543</td>\n",
       "      <td>14.68</td>\n",
       "      <td>0.026</td>\n",
       "      <td>NaN</td>\n",
       "      <td>0.0</td>\n",
       "      <td>0.0</td>\n",
       "    </tr>\n",
       "    <tr>\n",
       "      <td>3</td>\n",
       "      <td>86.112841</td>\n",
       "      <td>-70.112882</td>\n",
       "      <td>0.88375</td>\n",
       "      <td>-10.744722</td>\n",
       "      <td>Sy1</td>\n",
       "      <td>NGC 7808</td>\n",
       "      <td>15.4</td>\n",
       "      <td>0.029</td>\n",
       "      <td>NaN</td>\n",
       "      <td>0.0</td>\n",
       "      <td>0.0</td>\n",
       "    </tr>\n",
       "    <tr>\n",
       "      <td>4</td>\n",
       "      <td>114.304767</td>\n",
       "      <td>-16.638006</td>\n",
       "      <td>1.039583</td>\n",
       "      <td>45.440278</td>\n",
       "      <td>Sy1</td>\n",
       "      <td>RXS J00041+4526</td>\n",
       "      <td>16.9</td>\n",
       "      <td>0.120</td>\n",
       "      <td>NaN</td>\n",
       "      <td>0.0</td>\n",
       "      <td>0.0</td>\n",
       "    </tr>\n",
       "  </tbody>\n",
       "</table>\n",
       "</div>"
      ],
      "text/plain": [
       "        _Glon       _Glat  _RAJ2000    _DEJ2000   Cl             Name   Vmag  \\\n",
       "0         deg         deg       deg         deg  NaN              NaN    mag   \n",
       "1  100.174423  -55.203358   0.04875    5.388056  Sy1  RXS J00001+0523   16.4   \n",
       "2   99.844434   -57.30727      0.61    3.351667  Sy1         MARK 543  14.68   \n",
       "3   86.112841  -70.112882   0.88375  -10.744722  Sy1         NGC 7808   15.4   \n",
       "4  114.304767  -16.638006  1.039583   45.440278  Sy1  RXS J00041+4526   16.9   \n",
       "\n",
       "       z  plate   dx   dy  \n",
       "0    NaN    NaN  0.0  0.0  \n",
       "1  0.040    NaN  0.0  0.0  \n",
       "2  0.026    NaN  0.0  0.0  \n",
       "3  0.029    NaN  0.0  0.0  \n",
       "4  0.120    NaN  0.0  0.0  "
      ]
     },
     "execution_count": 96,
     "metadata": {},
     "output_type": "execute_result"
    }
   ],
   "source": [
    "data.head()"
   ]
  },
  {
   "cell_type": "code",
   "execution_count": null,
   "metadata": {},
   "outputs": [],
   "source": [
    "def isNaN(x):\n",
    "    return str(x) == str(1e400*0)\n",
    "count = 0\n",
    "for index, row in data.iterrows():\n",
    "    if index == 0: continue\n",
    "    lon = float(row[\"_Glon\"])\n",
    "    lat = float(row[\"_Glat\"])\n",
    "    #print(lon, lat)\n",
    "    for i in range(len(all_hdr_files)):\n",
    "        hdulist = fits.open(all_hdr_files[i])\n",
    "        w = wcs.WCS(hdulist[0].header)\n",
    "        dx, dy = w.wcs_world2pix(lon, lat, 1)\n",
    "        if not(isNaN(dx)) and not(isNaN(dy)) and dx >= 0 and dy >= 0 and dx < 10000 and dy < 10000:\n",
    "            print(dx, dy)\n",
    "            count += 1\n",
    "        #else:\n",
    "        #    print(\"no\")\n",
    "    \n",
    "    break"
   ]
  },
  {
   "cell_type": "code",
   "execution_count": 121,
   "metadata": {},
   "outputs": [
    {
     "data": {
      "text/plain": [
       "SIMPLE  =                    T                                                  \n",
       "BITPIX  =                    8 / Array data type                                \n",
       "NAXIS   =                    0                                                  \n",
       "EXTEND  =                    T                                                  \n",
       "        -------------------- Original data of observation                       \n",
       "DATEORIG= '1975-05-02'         / Original recorded date of the observation      \n",
       "TMS-ORIG= 'UT 00:00'           / Start of the observation (logs)                \n",
       "TIMEFLAG= 'missing '           / Quality flag of the recorded observation time  \n",
       "RA-ORIG = '12:11:05.999'       / RA of plate center as given in source          \n",
       "DEC-ORIG= '+81:51:39.96'       / Dec of plate center as given in source         \n",
       "OBJECT  = 'FBS 1254'           / Observed object or field                       \n",
       "OBJTYPE = 'field   '           / Object type as in WFPDB                        \n",
       "EXPTIME =                 1200 /  [s] Exposure time of the first exposure       \n",
       "NUMEXP  =                    1 / Number of exposures                            \n",
       "        -------------------- Observatory and instrument                         \n",
       "OBSERVAT= 'Byurakan Astrophysical Observatory' / Observatory name               \n",
       "SITELONG=              44.2917 /  [deg] East longitude of observatory           \n",
       "SITELAT =              40.1455 /  [deg] Latitude of observatory                 \n",
       "SITEELEV=                 1490 /  [m] Elevation of the observatory              \n",
       "TELESCOP= 'Byurakan 1 m Schmidt' / Telescope name                               \n",
       "TELAPER =                    1 /  [m] Clear aperture of the telescope           \n",
       "TELFOC  =                 2.13 /  [m] Focal length of the telescope             \n",
       "TELSCALE=                 96.8 /  [arcsec/mm] Plate scale                       \n",
       "DETNAM  = 'Photographic Plate' / Detector name                                  \n",
       "METHOD  = 'objective prism'    / Observation method as in WFPDB                 \n",
       "PRISMANG= '1:30    '           /  [deg] Angle of the objective prism            \n",
       "DISPERS =                 2000 /  [Angstrom/mm] Dispersion                      \n",
       "        -------------------- Photographic plate                                 \n",
       "PLATENUM= 'fbs1254 '           / Plate number in logs                           \n",
       "WFPDB-ID= 'BYU102A005942'      / Plate identifier in WFPDB                      \n",
       "SERIES  = 'FBS     '           / Series or survey of plate                      \n",
       "PLATEFMT= '16x16   '           / Informal designation of plate format           \n",
       "PLATESZ1=                   16 /  [cm] Plate size along axis1                   \n",
       "PLATESZ2=                   16 /  [cm] Plate size along axis2                   \n",
       "FOV1    =                  4.1 / Field of view along axis 1                     \n",
       "FOV2    =                  4.1 / Field of view along axis 2                     \n",
       "EMULSION= 'IIaF    '           / Type of the photographic emulsion              \n",
       "        -------------------- Derived observation data                           \n",
       "DATE-OBS= '1975-05-02'         / UT date and time of obs. start                 \n",
       "YEAR-AVG=     1975.33059548255 / Julian year at mid-point of obs                \n",
       "RA      = '12 12 07.462'       / ICRS center of plate RA h:m:s                  \n",
       "DEC     = '+81 56 46.95'       / ICRS center of plate Dec d:m:s                 \n",
       "RA_DEG  =    183.0310904035745 / [deg] ICRS center of plate RA                  \n",
       "DEC_DEG =    81.94637633219145 / [deg] ICRS center of plate Dec                 \n",
       "        -------------------- Scan details                                       \n",
       "SCANRES1=                 1600 /  [in-1] Scan resolution along axis 1           \n",
       "SCANRES2=                 1600 /  [in-1] Scan resolution along axis 2           \n",
       "PIXSIZE1=               15.875 /  [um] Pixel size along axis 1                  \n",
       "PIXSIZE2=               15.875 /  [um] Pixel size along axis 2                  \n",
       "SCANAUTH= 'Areg Mickaelian'    / Author of the scan                             \n",
       "        -------------------- Data files                                         \n",
       "ORIGIN  = 'Byurakan'           / Origin of this file                            \n",
       "        -------------------- Spatial WCS                                        \n",
       "RADESYS = 'ICRS    '           / Reference System used for RA and Dec           \n",
       "WCSAXES =                    2 / Number of FITS axes covered by WCS             \n",
       "CTYPE1  = 'RA---TAN-SIP'       / Projection on axis 1                           \n",
       "CTYPE2  = 'DEC--TAN-SIP'       / Projection on axis 2                           \n",
       "LONPOLE =                180.0 / See sect 2.4 of WCS paper II                   \n",
       "LATPOLE =                  0.0 / See sect 2.4 of WCS paper II                   \n",
       "CRVAL1  =        183.018654439 / Longitude  of reference point                  \n",
       "CRVAL2  =        81.9035967273 / Latitude of reference point                    \n",
       "CRPIX1  =                 4801 / X reference pixel                              \n",
       "CRPIX2  =                 4701 / Y reference pixel                              \n",
       "CUNIT1  = 'deg     '           / X pixel scale units                            \n",
       "CUNIT2  = 'deg     '           / Y pixel scale units                            \n",
       "CD1_1   =   -0.000430947365147 / (1,1) Full transformation matrix               \n",
       "CD1_2   =    1.52691533597E-05 / (1,2) Full transformation matrix               \n",
       "CD2_1   =    1.52413022511E-05 / (2,1) Full transformation matrix               \n",
       "CD2_2   =    0.000427869049526 / (2,2) Full transformation matrix               \n",
       "A_ORDER =                    2 / Correction polynomial order, axis 1            \n",
       "A_0_0   =                    0 / Axis 1 correction polynomial, coefficient      \n",
       "A_0_1   =                    0 / Axis 1 correction polynomial, coefficient      \n",
       "A_0_2   =    3.00004143824E-08 / Axis 1 correction polynomial, coefficient      \n",
       "A_1_0   =                    0 / Axis 1 correction polynomial, coefficient      \n",
       "A_1_1   =   -3.82771279156E-08 / Axis 1 correction polynomial, coefficient      \n",
       "A_2_0   =    1.28761411204E-07 / Axis 1 correction polynomial, coefficient      \n",
       "B_ORDER =                    2 / Correction polynomial order, axis 2            \n",
       "B_0_0   =                    0 / Axis 2 correction polynomial, coefficient      \n",
       "B_0_1   =                    0 / Axis 2 correction polynomial, coefficient      \n",
       "B_0_2   =    1.19016624094E-07 / Axis 2 correction polynomial, coefficient      \n",
       "B_1_0   =                    0 / Axis 2 correction polynomial, coefficient      \n",
       "B_1_1   = -8.8949280403499E-08 / Axis 2 correction polynomial, coefficient      \n",
       "B_2_0   =     1.2900592743E-07 / Axis 2 correction polynomial, coefficient      \n",
       "AP_ORDER=                    3 / Inverse polynomial order, axis 1               \n",
       "AP_0_0  =    7.20111787969E-07 / Axis 1 inverse polynomial, coefficient         \n",
       "AP_0_1  =    1.27359692503E-11 / Axis 1 inverse polynomial, coefficient         \n",
       "AP_0_2  =   -3.00004761479E-08 / Axis 1 inverse polynomial, coefficient         \n",
       "AP_1_0  =   -5.52814046431E-12 / Axis 1 inverse polynomial, coefficient         \n",
       "AP_1_1  =    3.82771860955E-08 / Axis 1 inverse polynomial, coefficient         \n",
       "AP_2_0  =   -1.28761612279E-07 / Axis 1 inverse polynomial, coefficient         \n",
       "BP_ORDER=                    3 / Inverse polynomial order, axis 2               \n",
       "BP_0_0  =    1.39435526587E-06 / Axis 2 inverse polynomial, coefficient         \n",
       "BP_0_1  =    4.65863910085E-11 / Axis 2 inverse polynomial, coefficient         \n",
       "BP_0_2  =   -1.19016849605E-07 / Axis 2 inverse polynomial, coefficient         \n",
       "BP_1_0  =   -1.46061298051E-11 / Axis 2 inverse polynomial, coefficient         \n",
       "BP_1_1  =    8.89494270193E-08 / Axis 2 inverse polynomial, coefficient         \n",
       "BP_2_0  =   -1.29006172548E-07 / Axis 2 inverse polynomial, coefficient         \n",
       "        -------------------- Other header cards                                 \n",
       "                                                                                \n",
       "HISTORY GAVO DaCHS template used: wfpdb                                         \n",
       "HISTORY Astrometric calibration translated from DSS to proper WCS by addstandard\n",
       "HISTORY headers.py, gavo@ari.uni-heidelberg.de                                  "
      ]
     },
     "execution_count": 121,
     "metadata": {},
     "output_type": "execute_result"
    }
   ],
   "source": [
    "hdulist[0].header"
   ]
  },
  {
   "cell_type": "code",
   "execution_count": null,
   "metadata": {},
   "outputs": [],
   "source": []
  }
 ],
 "metadata": {
  "kernelspec": {
   "display_name": "Python 3",
   "language": "python",
   "name": "python3"
  },
  "language_info": {
   "codemirror_mode": {
    "name": "ipython",
    "version": 3
   },
   "file_extension": ".py",
   "mimetype": "text/x-python",
   "name": "python",
   "nbconvert_exporter": "python",
   "pygments_lexer": "ipython3",
   "version": "3.7.4"
  }
 },
 "nbformat": 4,
 "nbformat_minor": 2
}
