{
 "cells": [
  {
   "cell_type": "code",
   "execution_count": 1,
   "metadata": {},
   "outputs": [
    {
     "name": "stderr",
     "output_type": "stream",
     "text": [
      "Using TensorFlow backend.\n"
     ]
    }
   ],
   "source": [
    "import numpy as np\n",
    "import pandas as pd\n",
    "import seaborn as sns\n",
    "from sklearn.linear_model import LinearRegression\n",
    "import matplotlib.pyplot as plt\n",
    "from sklearn.model_selection import train_test_split\n",
    "from sklearn.feature_selection import RFE\n",
    "from sklearn.metrics import mean_squared_error, r2_score\n",
    "import os, fnmatch\n",
    "from sklearn.cluster import KMeans\n",
    "from sklearn.preprocessing import PolynomialFeatures \n",
    "import seaborn as sns\n",
    "%matplotlib inline\n",
    "from keras.layers import Input, Dense\n",
    "from keras.models import Model\n",
    "# from keras.op\n",
    "from keras import optimizers\n",
    "from keras import regularizers\n",
    "from PIL import Image\n",
    "from sklearn import preprocessing\n",
    "from sklearn.model_selection import train_test_split\n",
    "\n",
    "import keras\n",
    "from keras.models import load_model\n",
    "from keras.datasets import cifar10\n",
    "from keras.layers import Input, Dense, Conv2D, MaxPooling2D, UpSampling2D, BatchNormalization, Activation\n",
    "from keras.models import Model\n",
    "from keras.callbacks import EarlyStopping, ModelCheckpoint\n",
    "from keras.optimizers import Adam\n",
    "import os\n",
    "import pickle\n",
    "import numpy as np"
   ]
  },
  {
   "cell_type": "code",
   "execution_count": 2,
   "metadata": {},
   "outputs": [],
   "source": [
    "from keras.preprocessing.image import ImageDataGenerator, array_to_img, img_to_array"
   ]
  },
  {
   "cell_type": "code",
   "execution_count": 41,
   "metadata": {},
   "outputs": [],
   "source": [
    "class_n = \"WD\"\n",
    "examples_count = 5\n",
    "class_path = \"./Class/\"+class_n+\"/\"\n",
    "all_tiff_files = []\n",
    "listOfFiles = os.listdir(class_path)\n",
    "pattern = \"*.tiff\"\n",
    "for entry in listOfFiles:\n",
    "    if fnmatch.fnmatch(entry, pattern):\n",
    "            all_tiff_files.append(class_path+entry)"
   ]
  },
  {
   "cell_type": "code",
   "execution_count": 42,
   "metadata": {},
   "outputs": [
    {
     "data": {
      "text/plain": [
       "289"
      ]
     },
     "execution_count": 42,
     "metadata": {},
     "output_type": "execute_result"
    }
   ],
   "source": [
    "len(all_tiff_files)"
   ]
  },
  {
   "cell_type": "code",
   "execution_count": null,
   "metadata": {},
   "outputs": [],
   "source": []
  },
  {
   "cell_type": "code",
   "execution_count": 43,
   "metadata": {},
   "outputs": [],
   "source": [
    "datagen = ImageDataGenerator(\n",
    "    rotation_range=2,\n",
    "    width_shift_range=0.1,\n",
    "    height_shift_range=0.1,\n",
    "    shear_range=0.2,\n",
    "    zoom_range=0.2,\n",
    "    horizontal_flip=True,\n",
    "    vertical_flip=False,\n",
    "    fill_mode=\"nearest\",\n",
    "    rescale = 1./0xffff\n",
    ")"
   ]
  },
  {
   "cell_type": "code",
   "execution_count": 44,
   "metadata": {},
   "outputs": [],
   "source": [
    "for i in range(len(all_tiff_files)):\n",
    "    im = Image.open(all_tiff_files[i])\n",
    "    \n",
    "    name = (all_tiff_files[i].split(\"/\")[3]).split(\".tiff\")[0]\n",
    "    \n",
    "    arr = np.array(im)#.flatten()\n",
    "    data = np.copy(arr)\n",
    "    \n",
    "    vmin = np.min(arr)\n",
    "    vmax = np.max(arr)\n",
    "    \n",
    "    arr = (arr - vmin)/(vmax - vmin)\n",
    "    arr = (0xff * arr).astype(np.uint8)\n",
    "    \n",
    "    arr = arr.reshape(arr.shape[0], arr.shape[1], 1)\n",
    "    arr = arr.reshape((1,) + arr.shape) \n",
    "    \n",
    "    i = 0\n",
    "    for batch in datagen.flow(arr, batch_size=1, save_to_dir=\"./Class/pw_8bit\", save_prefix=class_n+\"~\"+name, save_format=\"tiff\"):\n",
    "        i += 1\n",
    "        if i > examples_count :\n",
    "            break\n",
    "    \n",
    "    vmin = np.min(data)\n",
    "    vmax = np.max(data)\n",
    "    data = (data - vmin)/(vmax - vmin)\n",
    "    data = (0xff * data).astype(np.uint8)\n",
    "    image = Image.fromarray(data)\n",
    "    image.save(\"./Class/pw_8bit/\"+class_n+\"~\"+name+\".tiff\")"
   ]
  },
  {
   "cell_type": "code",
   "execution_count": 45,
   "metadata": {},
   "outputs": [],
   "source": [
    "im = Image.open(\"./Class/C/0445+0107.tiff\")\n",
    "arr = np.array(im)#.flatten()\n"
   ]
  },
  {
   "cell_type": "code",
   "execution_count": 46,
   "metadata": {},
   "outputs": [
    {
     "data": {
      "text/plain": [
       "(140, 20)"
      ]
     },
     "execution_count": 46,
     "metadata": {},
     "output_type": "execute_result"
    }
   ],
   "source": [
    "arr.shape"
   ]
  },
  {
   "cell_type": "code",
   "execution_count": 47,
   "metadata": {},
   "outputs": [],
   "source": [
    "arr = arr.reshape(arr.shape[0], arr.shape[1], 1)"
   ]
  },
  {
   "cell_type": "code",
   "execution_count": 48,
   "metadata": {},
   "outputs": [
    {
     "data": {
      "text/plain": [
       "(140, 20, 1)"
      ]
     },
     "execution_count": 48,
     "metadata": {},
     "output_type": "execute_result"
    }
   ],
   "source": [
    "arr.shape"
   ]
  },
  {
   "cell_type": "code",
   "execution_count": 49,
   "metadata": {},
   "outputs": [],
   "source": [
    "arr = arr.reshape((1,) + arr.shape) "
   ]
  },
  {
   "cell_type": "code",
   "execution_count": 50,
   "metadata": {},
   "outputs": [
    {
     "data": {
      "text/plain": [
       "(1, 140, 20, 1)"
      ]
     },
     "execution_count": 50,
     "metadata": {},
     "output_type": "execute_result"
    }
   ],
   "source": [
    "arr.shape"
   ]
  },
  {
   "cell_type": "code",
   "execution_count": 51,
   "metadata": {},
   "outputs": [],
   "source": [
    "i = 0\n",
    "for batch in datagen.flow(arr, batch_size=1, save_to_dir=\"./Class/pw_8bit\", save_prefix=\"C~0445+0107\", save_format=\"tiff\"):\n",
    "    i += 1\n",
    "    if i > 50 :\n",
    "        break"
   ]
  },
  {
   "cell_type": "code",
   "execution_count": 78,
   "metadata": {},
   "outputs": [],
   "source": [
    "#NGC 7009_0_5583\n",
    "im_2 = Image.open(\"./Class/pw/NGC 7009_0_2884.tiff\")\n",
    "arr_2 = np.array(im_2)#.flatten()"
   ]
  },
  {
   "cell_type": "code",
   "execution_count": 69,
   "metadata": {},
   "outputs": [
    {
     "data": {
      "text/plain": [
       "array([[110, 109, 108, ..., 115, 113, 113],\n",
       "       [110, 109, 108, ..., 119, 117, 117],\n",
       "       [115, 111, 105, ..., 118, 117, 116],\n",
       "       ...,\n",
       "       [106, 103, 108, ..., 103, 103, 106],\n",
       "       [106, 104, 107, ..., 103, 103, 106],\n",
       "       [106, 104, 107, ..., 103, 103, 106]], dtype=uint8)"
      ]
     },
     "execution_count": 69,
     "metadata": {},
     "output_type": "execute_result"
    }
   ],
   "source": [
    "arr_2"
   ]
  },
  {
   "cell_type": "code",
   "execution_count": null,
   "metadata": {},
   "outputs": [],
   "source": []
  }
 ],
 "metadata": {
  "kernelspec": {
   "display_name": "Python 3",
   "language": "python",
   "name": "python3"
  },
  "language_info": {
   "codemirror_mode": {
    "name": "ipython",
    "version": 3
   },
   "file_extension": ".py",
   "mimetype": "text/x-python",
   "name": "python",
   "nbconvert_exporter": "python",
   "pygments_lexer": "ipython3",
   "version": "3.7.4"
  }
 },
 "nbformat": 4,
 "nbformat_minor": 2
}
