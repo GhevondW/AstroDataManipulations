{
 "cells": [
  {
   "cell_type": "code",
   "execution_count": 128,
   "metadata": {},
   "outputs": [],
   "source": [
    "import numpy as np\n",
    "import pandas as pd\n",
    "import seaborn as sns\n",
    "from sklearn.linear_model import LinearRegression\n",
    "import matplotlib.pyplot as plt\n",
    "from sklearn.model_selection import train_test_split\n",
    "from sklearn.feature_selection import RFE\n",
    "from sklearn.metrics import mean_squared_error, r2_score\n",
    "import os, fnmatch\n",
    "from sklearn.cluster import KMeans\n",
    "from sklearn.preprocessing import PolynomialFeatures \n",
    "import seaborn as sns\n",
    "%matplotlib inline\n",
    "from keras.layers import Input, Dense\n",
    "from keras.models import Model\n",
    "# from keras.op\n",
    "from keras import optimizers\n",
    "from keras import regularizers\n",
    "from PIL import Image\n",
    "from sklearn import preprocessing\n",
    "from sklearn.model_selection import train_test_split\n",
    "\n",
    "import keras\n",
    "from keras.models import load_model\n",
    "from keras.datasets import cifar10\n",
    "from keras.layers import Input, Dense, Conv2D, MaxPooling2D, UpSampling2D, BatchNormalization, Activation\n",
    "from keras.models import Model\n",
    "from keras.callbacks import EarlyStopping, ModelCheckpoint\n",
    "from keras.optimizers import Adam\n",
    "import os\n",
    "import pickle\n",
    "import numpy as np"
   ]
  },
  {
   "cell_type": "code",
   "execution_count": 129,
   "metadata": {},
   "outputs": [],
   "source": [
    "all_tiff_files = []\n",
    "listOfFiles = os.listdir('./clean_data/obj_test_res')\n",
    "pattern = \"*.tiff\"\n",
    "for entry in listOfFiles:\n",
    "    if fnmatch.fnmatch(entry, pattern):\n",
    "            all_tiff_files.append('./clean_data/obj_test_res/'+entry)"
   ]
  },
  {
   "cell_type": "code",
   "execution_count": 105,
   "metadata": {},
   "outputs": [
    {
     "name": "stdout",
     "output_type": "stream",
     "text": [
      "42165\n"
     ]
    }
   ],
   "source": [
    "print(len(all_tiff_files))"
   ]
  },
  {
   "cell_type": "code",
   "execution_count": 106,
   "metadata": {},
   "outputs": [],
   "source": [
    "images_list = []\n",
    "half_size = int(len(all_tiff_files) / 2)\n",
    "max_size = 0\n",
    "max_width = 0\n",
    "max_height = 0\n",
    "ind = 0\n",
    "for i in range(half_size):\n",
    "#    if(i == 25232):\n",
    "#        print(all_tiff_files[i])\n",
    "    im = Image.open(all_tiff_files[i])\n",
    "    arr = np.array(im)#.flatten()\n",
    "    s = arr.shape\n",
    "    if s[0] > max_height:\n",
    "        max_height = s[0]\n",
    "    if s[1] > max_width:\n",
    "        max_width = s[1]\n",
    "        ind = i\n",
    "    images_list.append(arr)\n",
    "\n",
    "for i in range(half_size, len(all_tiff_files)):\n",
    "#    if(i == 25232):\n",
    "#        print(all_tiff_files[i])\n",
    "    im = Image.open(all_tiff_files[i])\n",
    "    arr = np.array(im)#.flatten()\n",
    "    s = arr.shape\n",
    "    if s[0] > max_height:\n",
    "        max_height = s[0]\n",
    "    if s[1] > max_width:\n",
    "        max_width = s[1]\n",
    "        ind = i\n",
    "    images_list.append(arr)   "
   ]
  },
  {
   "cell_type": "code",
   "execution_count": 107,
   "metadata": {},
   "outputs": [
    {
     "name": "stdout",
     "output_type": "stream",
     "text": [
      "27 140 7748\n"
     ]
    }
   ],
   "source": [
    "print(max_width, max_height, ind)"
   ]
  },
  {
   "cell_type": "code",
   "execution_count": 108,
   "metadata": {},
   "outputs": [],
   "source": [
    "for i in range(len(images_list)):\n",
    "    s = images_list[i].shape\n",
    "    d_width = (max_width - s[1])\n",
    "    d_height = (max_height - s[0])\n",
    "    \n",
    "    d_top = int(d_height / 2)\n",
    "    d_bottom = int(d_height - d_top)\n",
    "    \n",
    "    d_left = int(d_width / 2)\n",
    "    d_right = int(d_width - d_left)\n",
    "    #print(d_top, d_bottom, d_left, d_right)\n",
    "    \n",
    "    arr = images_list[i]\n",
    "    for l in range(d_left):\n",
    "        arr = np.insert(arr, 0, 0, axis = 1)\n",
    "    \n",
    "    for r in range(d_right):\n",
    "        b = np.zeros((s[0],1))\n",
    "        arr = np.append(arr, b, axis = 1)\n",
    "    \n",
    "    for t in range(d_top):\n",
    "        arr = np.insert(arr, 0, 0, axis = 0)\n",
    "    \n",
    "    for b in range(d_bottom):\n",
    "        b = np.zeros((1, arr.shape[1],))\n",
    "        arr = np.append(arr, b, axis = 0)\n",
    "    \n",
    "    images_list[i] = arr\n",
    "    \n",
    "    #if i == 1024:\n",
    "    #    plt.imshow(arr)\n",
    "    "
   ]
  },
  {
   "cell_type": "code",
   "execution_count": 109,
   "metadata": {},
   "outputs": [
    {
     "name": "stdout",
     "output_type": "stream",
     "text": [
      "27 140\n"
     ]
    }
   ],
   "source": [
    "width = max_width\n",
    "height = max_height\n",
    "print(width, height)"
   ]
  },
  {
   "cell_type": "code",
   "execution_count": 110,
   "metadata": {},
   "outputs": [],
   "source": [
    "for i in range(len(images_list)):\n",
    "    images_list[i] = images_list[i].flatten()"
   ]
  },
  {
   "cell_type": "code",
   "execution_count": 111,
   "metadata": {},
   "outputs": [],
   "source": [
    "images_np = np.array(images_list)"
   ]
  },
  {
   "cell_type": "code",
   "execution_count": 112,
   "metadata": {},
   "outputs": [
    {
     "data": {
      "text/plain": [
       "(42165, 3780)"
      ]
     },
     "execution_count": 112,
     "metadata": {},
     "output_type": "execute_result"
    }
   ],
   "source": [
    "images_np.shape"
   ]
  },
  {
   "cell_type": "code",
   "execution_count": 113,
   "metadata": {},
   "outputs": [
    {
     "data": {
      "text/plain": [
       "(42165, 3780)"
      ]
     },
     "execution_count": 113,
     "metadata": {},
     "output_type": "execute_result"
    }
   ],
   "source": [
    "min_max_scaler = preprocessing.MinMaxScaler()\n",
    "X_train_minmax = min_max_scaler.fit_transform(images_np)\n",
    "X_train_minmax.shape"
   ]
  },
  {
   "cell_type": "code",
   "execution_count": 114,
   "metadata": {},
   "outputs": [],
   "source": [
    "from sklearn.decomposition import PCA\n",
    "pca = PCA(.98)\n",
    "principalComponents = pca.fit_transform(X_train_minmax)"
   ]
  },
  {
   "cell_type": "code",
   "execution_count": 115,
   "metadata": {},
   "outputs": [
    {
     "data": {
      "text/plain": [
       "(42165, 866)"
      ]
     },
     "execution_count": 115,
     "metadata": {},
     "output_type": "execute_result"
    }
   ],
   "source": [
    "principalComponents.shape"
   ]
  },
  {
   "cell_type": "code",
   "execution_count": null,
   "metadata": {},
   "outputs": [],
   "source": []
  },
  {
   "cell_type": "code",
   "execution_count": 132,
   "metadata": {},
   "outputs": [
    {
     "data": {
      "text/plain": [
       "array([-8.64270104e-01, -1.37873725e+00,  2.74400939e-01,  1.59450394e-01,\n",
       "       -1.11682812e-01,  5.97243506e-01, -1.44577040e-01, -5.73569095e-02,\n",
       "       -2.57951152e-01, -2.40288490e-01, -3.69254567e-01,  3.84244905e-01,\n",
       "       -8.00756950e-02, -1.10574115e-01, -3.03946720e-01, -3.08027460e-01,\n",
       "       -9.56319739e-02,  1.22000764e-01,  3.36373285e-03,  1.26696868e-01,\n",
       "       -5.96999165e-02, -3.72730879e-02, -1.17719294e-01, -1.48231696e-01,\n",
       "        1.78319570e-01, -9.87903330e-02, -6.10334303e-02, -2.21081459e-01,\n",
       "       -1.66414557e-01,  3.49963522e-02,  9.37072828e-02, -1.34543421e-02,\n",
       "       -6.84809368e-02,  8.07474439e-02,  7.38459402e-03,  6.51424745e-02,\n",
       "        2.25555010e-01,  7.36241084e-02,  5.94132674e-02,  5.38672726e-03,\n",
       "        2.66311004e-02,  1.09297413e-01, -5.84446799e-03,  1.41361044e-01,\n",
       "        6.03357546e-02,  1.42690537e-01,  4.13125518e-02,  1.37248116e-02,\n",
       "        1.06080396e-02,  1.30937121e-01,  5.71492959e-02, -6.70775734e-02,\n",
       "        5.14071645e-02,  1.25374976e-01,  8.58007880e-02,  4.14700723e-02,\n",
       "       -3.08881218e-02, -8.41277545e-02,  4.80254376e-02,  3.10365359e-03,\n",
       "       -1.23504154e-02, -1.56322974e-02,  1.90314756e-02,  5.02759844e-02,\n",
       "       -1.52585350e-01,  1.88076635e-01, -1.59473328e-01, -1.93248891e-02,\n",
       "       -2.09807247e-02, -1.82889234e-02, -6.58984853e-02,  1.13853725e-02,\n",
       "        3.37286444e-02, -1.63024864e-01, -1.16468941e-01, -9.04251060e-02,\n",
       "       -1.76872113e-02, -3.11398459e-02, -4.36563019e-02,  1.41412957e-02,\n",
       "       -7.63541150e-02,  1.43689844e-02, -1.63559039e-02,  2.41570939e-02,\n",
       "       -8.05474604e-02, -3.24847458e-02,  3.69738630e-02, -1.02166276e-01,\n",
       "        4.85700296e-02, -7.24944311e-02,  1.64943640e-01,  4.42569488e-02,\n",
       "        1.08999460e-01, -6.06653556e-02,  6.08485555e-02, -1.31969923e-01,\n",
       "        5.56840497e-02, -2.45572032e-02, -1.36347822e-01,  3.11246222e-03,\n",
       "       -7.03531054e-03,  1.42376465e-02,  8.69539141e-02, -8.92732756e-02,\n",
       "        1.69627536e-01,  1.15126075e-01, -4.07116344e-02, -8.14302117e-02,\n",
       "        2.36209304e-02, -6.54023567e-02, -4.39278733e-02, -1.24423048e-01,\n",
       "       -9.17961150e-02, -1.70479626e-01, -7.46777855e-02,  2.88326299e-02,\n",
       "       -2.34237321e-02,  1.04381975e-03, -9.60785551e-02, -4.33133626e-03,\n",
       "       -8.95622643e-03,  5.35297831e-02,  6.58837278e-02, -1.84875092e-02,\n",
       "        7.49399223e-02,  7.43343624e-02,  2.69090629e-02, -6.77397697e-02,\n",
       "       -2.02267602e-02, -2.17651363e-02,  1.49780470e-01,  6.13306791e-02,\n",
       "        2.53121691e-02,  6.72069507e-02, -7.81482056e-02, -2.50169544e-02,\n",
       "        1.50068734e-02, -4.67746472e-02,  3.57227271e-02, -6.82007792e-02,\n",
       "        2.45307535e-02,  2.83931478e-02, -1.94400404e-02,  4.01002057e-02,\n",
       "       -7.78303594e-02, -1.60341394e-02,  1.34869620e-01, -2.49627914e-02,\n",
       "       -7.13647597e-02,  4.27701943e-02,  3.62102858e-02, -2.16354242e-02,\n",
       "        3.10781652e-02,  1.05736365e-02, -4.99951553e-03,  4.66456794e-02,\n",
       "       -1.50478894e-04,  1.95351798e-02,  6.79205666e-02, -6.00905156e-03,\n",
       "        2.72521577e-02,  2.98000688e-02,  2.82934213e-02, -2.70820717e-02,\n",
       "        1.55257984e-02, -5.21947803e-02, -1.27771710e-01, -5.81642411e-02,\n",
       "        6.20498432e-02, -1.13746509e-01,  5.24847103e-02,  6.13328395e-02,\n",
       "        3.46849448e-02, -7.47270802e-02, -7.99512766e-02, -2.17491262e-02,\n",
       "        5.09508979e-02,  4.85338504e-02,  4.71920291e-02,  3.45678556e-03,\n",
       "       -3.87449592e-02,  2.40623346e-02, -5.15368429e-03, -7.31970656e-03,\n",
       "       -1.61933585e-02,  8.87207435e-02,  1.06483623e-01, -4.98894959e-03,\n",
       "       -4.95183638e-02, -5.96797594e-02, -7.65706894e-02,  1.16374190e-02,\n",
       "       -6.14070755e-03, -1.10411599e-02, -7.84963510e-02,  1.15976386e-02,\n",
       "        8.29563351e-02, -3.93623522e-03,  2.70320536e-02, -3.38692187e-03,\n",
       "        7.69811165e-02,  1.49146740e-01, -8.70407990e-02,  4.46534540e-02,\n",
       "        3.69633808e-02, -6.41195519e-03, -5.85825794e-02,  1.68780294e-01,\n",
       "       -2.43952820e-02,  6.90437052e-02,  8.32681810e-02, -3.63568676e-02,\n",
       "       -7.42803444e-02,  4.81667405e-02,  1.60409643e-02,  7.29563999e-02,\n",
       "       -2.83292771e-02, -5.17271257e-02,  3.56880246e-02, -2.73382363e-02,\n",
       "       -3.25643666e-02, -1.76736990e-02,  3.67012528e-03,  1.12630503e-02,\n",
       "       -1.83357405e-02, -1.55384059e-02,  6.64576865e-02,  3.54486786e-02,\n",
       "        6.37219607e-02, -7.97780581e-02, -7.38759092e-02,  9.41979354e-03,\n",
       "        2.84485418e-02, -5.33286368e-02, -7.73487215e-02,  1.52044710e-02,\n",
       "        2.85361069e-02, -2.73951189e-02,  5.05886552e-02, -5.61353230e-02,\n",
       "        1.75650292e-02, -1.80793003e-02,  8.67257957e-02,  1.27728350e-02,\n",
       "        9.26033667e-03,  4.92610047e-02,  5.76614545e-02,  6.47444959e-03,\n",
       "        1.34454122e-01, -6.26504691e-02,  3.99200800e-02,  3.06419592e-02,\n",
       "        8.45333850e-02,  2.85844199e-02, -4.85749464e-02, -3.46226874e-02,\n",
       "        2.11706274e-02,  1.01610845e-02,  2.12666522e-02, -2.74878457e-02,\n",
       "       -1.00609387e-01, -7.04763354e-02,  3.55977447e-02, -1.08485639e-01,\n",
       "        1.88625799e-02, -3.86571892e-02, -3.44627226e-02,  5.79685367e-02,\n",
       "       -2.35992439e-02, -2.55486005e-02, -1.37737146e-02,  8.12959233e-03,\n",
       "        1.94529561e-02,  8.58855268e-03,  7.30249718e-02, -1.29393518e-01,\n",
       "        4.33156479e-02, -3.65418818e-02,  6.63125825e-02, -1.67953453e-02,\n",
       "       -6.82222392e-03, -1.55052697e-02,  2.69711273e-02,  4.08748364e-02,\n",
       "       -7.89625721e-02,  3.78187475e-02,  2.84407248e-02,  1.22388917e-02,\n",
       "       -3.75220839e-02, -6.67848757e-02, -1.49318099e-02, -1.08442888e-02,\n",
       "       -1.90559804e-02, -8.29122334e-02, -5.63954809e-02,  2.18399101e-02,\n",
       "       -1.35149655e-02, -4.05181638e-02, -6.07369323e-02,  7.42153646e-03,\n",
       "        1.40202474e-02, -5.05828008e-02,  1.87539746e-02,  5.94822809e-04,\n",
       "       -2.68000239e-02, -5.65793934e-02,  3.48766671e-02, -5.02407211e-02,\n",
       "        2.40706718e-02,  2.42539257e-02,  4.42629132e-02, -4.51091515e-02,\n",
       "       -7.38639843e-02, -1.18448555e-02,  7.44461246e-02, -4.60820597e-02,\n",
       "       -3.47279615e-02, -8.96430354e-03, -8.74483730e-02, -2.52299415e-02,\n",
       "        4.71718321e-02,  9.50175359e-02, -6.63448377e-02, -1.11418596e-02,\n",
       "       -6.41604138e-02, -1.94537627e-02,  2.93514226e-02, -7.59855989e-02,\n",
       "        5.71400865e-02, -1.15648281e-01,  6.00266410e-02,  3.31312112e-02,\n",
       "       -4.72118274e-02, -4.05484748e-02,  1.09240611e-02, -5.47500674e-02,\n",
       "       -5.40966301e-02,  9.62327845e-02, -6.90837722e-02, -4.08249739e-02,\n",
       "       -8.52983087e-02,  7.01205418e-03, -4.32178674e-02,  1.10152355e-02,\n",
       "        1.11053824e-02,  1.30008010e-03, -1.58816395e-02, -7.33621401e-02,\n",
       "       -2.24455570e-02,  2.76631555e-03, -5.46695132e-03,  3.18170902e-02,\n",
       "       -1.86520573e-01,  6.50616939e-02, -2.31912624e-03,  1.64592427e-02,\n",
       "       -6.55134214e-02, -5.03865529e-02,  4.98652652e-02,  2.34512556e-02,\n",
       "       -1.68955290e-02,  1.25791304e-01, -4.19825284e-02,  2.17344196e-03,\n",
       "        2.00217157e-02,  6.57803589e-02,  8.55092904e-02, -3.11838134e-02,\n",
       "       -9.43417149e-02,  3.94133742e-02, -9.70205489e-02,  3.36976514e-02,\n",
       "        9.60072649e-03, -9.81366714e-02,  2.41763161e-02,  3.00571780e-02,\n",
       "       -4.85623822e-02, -1.35249410e-02,  1.43060705e-02, -3.38917512e-02,\n",
       "        4.54426258e-02, -9.87833447e-02,  4.32703833e-02, -8.42708880e-03,\n",
       "        1.71981212e-02, -1.65994224e-02, -6.06754425e-02,  7.72166144e-02,\n",
       "       -1.52109856e-02, -3.42297437e-02, -2.69098846e-04,  3.72378843e-02,\n",
       "       -7.67686725e-02, -6.10531009e-03, -9.63962944e-04, -5.82776716e-02,\n",
       "        4.27002566e-02, -2.96816449e-02, -7.55470072e-02,  1.69116401e-02,\n",
       "       -2.06134824e-02, -1.58574424e-02, -4.25952468e-02, -4.58856298e-03,\n",
       "       -5.53781683e-02,  3.94038150e-02, -1.18144740e-01,  1.11852387e-02,\n",
       "        6.17335071e-02,  1.45858752e-02, -6.08372492e-02, -1.32017843e-01,\n",
       "        6.20125071e-02,  6.42061002e-02, -1.86783499e-03, -6.52906908e-02,\n",
       "       -4.15652775e-02, -3.59405765e-02,  8.56637457e-02,  2.28059355e-02,\n",
       "        3.69586455e-02,  3.26486879e-02, -1.02060908e-02, -9.45113791e-02,\n",
       "        1.59112870e-02,  8.85483620e-03,  2.81430534e-02,  2.34010711e-03,\n",
       "       -1.38085054e-02,  1.52780094e-02,  3.00159462e-03, -2.53610798e-02,\n",
       "       -1.84615671e-02,  1.91372334e-02, -2.15270604e-02,  1.57483067e-02,\n",
       "        5.20280700e-02, -1.94012277e-02,  1.29147486e-03, -4.96474912e-02,\n",
       "       -6.01276199e-02, -3.77374618e-03,  1.15702422e-02,  2.73192848e-02,\n",
       "        3.28668116e-02,  3.06051936e-02,  1.48898376e-04, -3.75585868e-02,\n",
       "       -1.08888469e-01, -5.95328218e-02, -1.24142990e-04, -7.74827573e-02,\n",
       "        5.20240730e-02, -1.97010445e-02, -3.74016909e-02,  2.83885665e-02,\n",
       "        4.65336823e-02,  7.90929560e-02,  4.64230100e-02, -7.71403870e-02,\n",
       "        2.10478371e-03, -5.68245290e-02, -4.17052030e-02,  4.53375475e-02,\n",
       "        3.14875751e-02, -7.63333741e-02,  3.15554584e-02,  5.70981412e-02,\n",
       "        3.08647538e-02,  2.89530456e-02, -3.85558058e-02,  4.69477718e-02,\n",
       "        5.83897340e-03, -3.39378026e-02, -1.02036205e-01,  1.82247415e-02,\n",
       "        2.55374640e-02, -6.70728695e-02,  1.66064796e-02,  2.58268900e-02,\n",
       "        1.74810777e-02,  2.44914859e-02, -1.26245920e-02,  3.52652168e-02,\n",
       "       -2.63715663e-03,  4.34233416e-02, -4.39355057e-02, -1.39905857e-02,\n",
       "       -3.52795638e-02,  2.48933874e-03,  8.39748341e-02,  1.59627945e-02,\n",
       "       -1.35672913e-03, -1.11089002e-01,  3.26508474e-02,  2.73895092e-02,\n",
       "       -3.34964444e-02, -1.97500240e-02,  2.22651856e-02, -5.33933910e-02,\n",
       "        2.30539732e-02,  5.03937855e-02, -2.01872156e-03,  4.88261939e-02,\n",
       "        1.02387541e-02, -6.76726389e-02,  5.19965842e-02, -1.98130574e-02,\n",
       "        5.53825435e-02,  8.05371242e-03, -6.94869201e-02, -1.48664641e-02,\n",
       "       -8.58685849e-02, -3.22569841e-02,  2.02970106e-02, -2.63564865e-02,\n",
       "        3.79998373e-02,  6.28610128e-03, -2.53811950e-02, -1.26696809e-02,\n",
       "        1.71917310e-02,  1.88342096e-02, -2.79383119e-02, -5.78880309e-02,\n",
       "        3.26978237e-03,  5.83630151e-02, -4.37246868e-02, -7.10532823e-02,\n",
       "        1.49937698e-02, -4.01508719e-02, -4.51356893e-02,  2.58219365e-02,\n",
       "        8.55410601e-03,  4.57867743e-02,  1.57608536e-02, -9.04983217e-03,\n",
       "       -3.20926437e-02, -2.51692436e-02,  1.11343555e-04,  2.11759643e-02,\n",
       "        2.54001946e-02,  6.39059980e-03, -1.19798595e-03, -5.46789137e-02,\n",
       "        2.99117661e-02,  3.35911058e-03, -3.01724233e-03, -3.63994839e-02,\n",
       "       -2.00231853e-02,  5.45711813e-02,  1.95627626e-02, -3.72187867e-02,\n",
       "       -1.96316236e-02, -2.39632040e-02, -1.60222565e-03,  2.30367625e-02,\n",
       "        1.01469738e-03,  1.57260604e-02, -4.76171427e-02,  1.08761629e-02,\n",
       "        1.86442270e-02, -8.84107761e-03,  1.22090918e-03, -5.72188884e-02,\n",
       "       -3.92985943e-02,  1.06924113e-02,  1.24151756e-02, -4.08486432e-02,\n",
       "       -2.09092898e-02, -2.61190990e-02,  3.02148877e-02, -2.83887772e-02,\n",
       "        2.47709795e-02, -6.66880049e-02, -1.92064168e-02, -4.07409412e-02,\n",
       "        6.49063395e-03, -4.27862883e-02,  2.89375986e-03, -1.37249356e-02,\n",
       "        3.25937778e-02,  8.19469125e-04, -4.25684550e-03, -6.30295478e-02,\n",
       "        4.86105584e-02, -4.33403920e-02,  4.33451294e-02, -1.60266374e-02,\n",
       "        2.59170818e-03,  2.78059077e-02, -1.81098084e-03, -4.22946496e-02,\n",
       "        3.12164268e-02,  5.30130740e-02,  1.97282891e-02,  2.66143886e-02,\n",
       "       -1.14746030e-03,  4.76302223e-02, -3.46804547e-02, -4.15023960e-02,\n",
       "        6.46726525e-02, -2.32578931e-04, -4.61359791e-02,  1.27315891e-02,\n",
       "       -2.76730539e-02,  3.27284394e-02,  7.93114594e-03,  2.60918637e-02,\n",
       "        7.73898227e-02,  1.66877900e-02, -1.73848094e-02, -7.21958181e-03,\n",
       "       -2.50887099e-02,  2.43493222e-02,  5.77878293e-02,  1.43836991e-02,\n",
       "        1.67626760e-02, -2.77828757e-02,  4.13624857e-03,  1.49476918e-02,\n",
       "       -4.96611945e-02, -5.48679302e-04, -1.12699510e-02,  2.13502961e-02,\n",
       "        1.88377134e-02,  2.51531272e-02, -5.01815744e-02,  5.14703462e-02,\n",
       "       -1.45772595e-02, -5.36766365e-02, -2.79109150e-02, -1.46182537e-02,\n",
       "       -1.40902165e-02,  6.63194130e-02, -1.52310647e-02,  2.13989505e-02,\n",
       "        2.79717388e-02, -8.87003943e-03,  3.60589798e-02, -1.04870523e-02,\n",
       "        7.43329950e-04,  1.45136203e-02,  2.06269157e-02,  7.58616060e-03,\n",
       "       -2.31398391e-02,  2.34541311e-02,  1.56346140e-02,  2.37362204e-02,\n",
       "       -2.84042673e-02, -1.16109716e-02,  3.03404895e-02,  1.23841843e-02,\n",
       "       -2.46369275e-02, -3.91055869e-02,  5.62488638e-02, -3.19047506e-02,\n",
       "        4.00697075e-02, -2.96234628e-03,  1.20179309e-02, -3.54118941e-02,\n",
       "        3.25720310e-02,  4.91674850e-03, -2.14190889e-03, -3.84935933e-02,\n",
       "        1.52840795e-02, -4.59046371e-02, -1.90547345e-02, -2.15264547e-02,\n",
       "       -7.78652010e-03, -9.55948718e-03,  2.92022301e-02,  2.52479842e-03,\n",
       "       -1.44626077e-02,  1.60189406e-03, -9.53725558e-04, -7.20488757e-03,\n",
       "        5.71972747e-03, -4.84209932e-02, -2.30959650e-02, -1.30509801e-02,\n",
       "        2.99418425e-02, -2.16211609e-02,  1.49144938e-02,  4.49994754e-02,\n",
       "       -1.15671679e-02, -1.27454877e-02, -2.20079365e-02,  8.03231657e-03,\n",
       "        3.63004347e-02, -2.91275696e-02,  6.63610505e-03,  9.30529274e-03,\n",
       "        4.60807185e-03,  2.10852470e-03, -2.18124684e-02, -1.08405084e-02,\n",
       "        9.24517005e-03, -3.26821462e-02,  3.12227014e-02, -1.11998271e-02,\n",
       "        1.10866599e-02, -1.49072880e-03, -2.32041821e-02, -1.42961414e-02,\n",
       "        6.70128687e-03,  1.63180350e-02,  4.15034706e-02, -4.44415060e-02,\n",
       "       -6.20501018e-03,  7.18603053e-03,  1.24045491e-02, -6.72404367e-02,\n",
       "        7.41392001e-03,  3.79860296e-02,  2.52607059e-03, -7.66553329e-03,\n",
       "        1.06685750e-03,  1.23666611e-02, -1.88378792e-02,  3.37786001e-02,\n",
       "        2.05302217e-02,  7.37729396e-03,  1.69079238e-02, -1.26492552e-02,\n",
       "        4.83094275e-03, -3.61151735e-02, -3.17499820e-02, -1.18378759e-02,\n",
       "        4.87093243e-03,  9.52405799e-03,  5.48024228e-02,  1.44319970e-02,\n",
       "       -3.68176338e-02,  5.49943784e-03, -2.47499844e-02,  1.34470248e-02,\n",
       "       -3.34607167e-02, -3.18117949e-02, -2.01215083e-02,  7.42681702e-03,\n",
       "        1.75421834e-02, -3.24264028e-02,  4.00460253e-02,  2.16540271e-02,\n",
       "        3.54233024e-02,  5.12919509e-03,  1.41876126e-02, -2.36490583e-02,\n",
       "        6.16709214e-04, -7.76817822e-03,  1.63726928e-03, -2.54745742e-02,\n",
       "       -6.05717960e-03,  2.21148897e-02,  2.13609868e-02,  3.91859442e-03,\n",
       "        2.61295374e-03,  2.39526531e-02,  4.48928926e-02,  2.66014819e-02,\n",
       "        5.07157412e-03,  4.17820681e-03, -2.98200876e-02,  9.86645615e-04,\n",
       "       -1.03672502e-02, -2.64555978e-03,  2.17081514e-02, -2.00835617e-02,\n",
       "       -8.90460589e-03,  5.71785590e-03,  4.76842593e-03,  3.68188460e-02,\n",
       "        2.29707756e-02, -2.81716231e-02, -9.13379171e-03,  2.93720894e-02,\n",
       "       -1.63716338e-02, -1.49885436e-02,  2.15210180e-02,  8.40726018e-03,\n",
       "        1.41559027e-02,  1.35234570e-02,  1.62627240e-02,  2.47459973e-02,\n",
       "       -1.08729874e-02, -2.23842441e-02, -1.66324306e-03,  4.00006579e-03,\n",
       "       -1.67219375e-03,  1.25781318e-02, -1.32316946e-02,  3.34018210e-02,\n",
       "       -1.78073456e-02,  2.17129422e-03,  2.67029262e-02, -1.09847766e-02,\n",
       "       -3.76966236e-02, -3.65888506e-02, -2.47124068e-02,  3.20626072e-03,\n",
       "       -2.33442241e-02, -2.83017308e-02, -2.51213941e-02,  2.69797323e-03,\n",
       "       -7.33799957e-03,  2.69919196e-02, -1.89609185e-02, -2.92752495e-03,\n",
       "        4.19880454e-02,  4.14480384e-02, -2.26523300e-02,  2.11212049e-02,\n",
       "       -7.67313639e-03,  1.37114996e-02, -1.17233378e-02,  1.33738317e-02,\n",
       "        1.11223099e-02, -2.74214400e-03,  4.49522166e-03,  6.89030910e-03,\n",
       "        7.39206836e-03,  1.19122480e-02,  1.54992275e-03,  1.33146565e-02,\n",
       "       -4.03782052e-02,  1.85779183e-02,  2.14757808e-03,  1.16775777e-02,\n",
       "       -2.41034437e-02,  1.00612777e-02,  2.90766074e-02,  1.05289341e-02,\n",
       "        2.85775433e-02, -1.39894868e-02,  3.50280821e-02, -6.36812295e-03,\n",
       "       -1.38121794e-02,  5.53632584e-03, -2.80025138e-02, -4.68757852e-02,\n",
       "        5.85625122e-02, -1.47276821e-02,  1.83768497e-02,  1.61450089e-02,\n",
       "       -3.20196710e-03,  1.61113938e-03,  8.93972376e-03,  2.98547550e-02,\n",
       "        1.43139030e-02,  4.70479972e-02, -2.18310165e-02,  2.54311356e-02,\n",
       "        2.83212774e-02, -1.36771150e-02, -3.50475771e-03, -3.53287669e-02,\n",
       "        1.39065255e-02,  5.66665267e-03,  1.61115415e-02, -5.16146696e-03,\n",
       "       -6.60464337e-03,  1.69376412e-02, -6.36791151e-03, -9.43583631e-03,\n",
       "        3.49857413e-02, -1.96656792e-02])"
      ]
     },
     "execution_count": 132,
     "metadata": {},
     "output_type": "execute_result"
    }
   ],
   "source": [
    "X_train, X_test = train_test_split(principalComponents, test_size=0.2, random_state=100)"
   ]
  },
  {
   "cell_type": "code",
   "execution_count": 117,
   "metadata": {},
   "outputs": [
    {
     "name": "stdout",
     "output_type": "stream",
     "text": [
      "[name: \"/device:CPU:0\"\n",
      "device_type: \"CPU\"\n",
      "memory_limit: 268435456\n",
      "locality {\n",
      "}\n",
      "incarnation: 13370839485828891019\n",
      ", name: \"/device:GPU:0\"\n",
      "device_type: \"GPU\"\n",
      "memory_limit: 1441641267\n",
      "locality {\n",
      "  bus_id: 1\n",
      "  links {\n",
      "  }\n",
      "}\n",
      "incarnation: 1900635357411152402\n",
      "physical_device_desc: \"device: 0, name: GeForce GTX 750 Ti, pci bus id: 0000:01:00.0, compute capability: 5.0\"\n",
      "]\n"
     ]
    }
   ],
   "source": [
    "from tensorflow.python.client import device_lib\n",
    "import tensorflow as tf\n",
    "import keras\n",
    "print(device_lib.list_local_devices())\n",
    "\n",
    "config = tf.ConfigProto( device_count = {'GPU': 1 , 'CPU': 8} ) \n",
    "sess = tf.Session(config=config) \n",
    "keras.backend.set_session(sess)"
   ]
  },
  {
   "cell_type": "code",
   "execution_count": 118,
   "metadata": {},
   "outputs": [
    {
     "name": "stdout",
     "output_type": "stream",
     "text": [
      "866\n"
     ]
    }
   ],
   "source": [
    "inpu_dim = principalComponents.shape[1]\n",
    "print(inpu_dim)\n",
    "h_1 = 128\n",
    "h_2 = 64\n",
    "hidden_dim = 32\n",
    "encoding_dim = 4"
   ]
  },
  {
   "cell_type": "code",
   "execution_count": 119,
   "metadata": {},
   "outputs": [],
   "source": [
    "input_vect = Input(shape = (inpu_dim,))\n",
    "x = BatchNormalization()(input_vect)\n",
    "x = Dense(h_1, activation=\"relu\")(x)\n",
    "#x = BatchNormalization()(x)\n",
    "#x = Dense(h_2, activation=\"relu\")(x)\n",
    "#x = BatchNormalization()(x)\n",
    "#x = Dense(hidden_dim, activation=\"relu\")(x)\n",
    "x = BatchNormalization()(x)\n",
    "encoded = Dense(encoding_dim, activation=\"relu\")(x)\n",
    "\n",
    "x = BatchNormalization()(encoded)\n",
    "#x = Dense(hidden_dim, activation=\"relu\")(x)\n",
    "#x = BatchNormalization()(x)\n",
    "#x = Dense(h_2, activation=\"relu\")(x)\n",
    "#x = BatchNormalization()(x)\n",
    "x = Dense(h_1, activation=\"relu\")(x)\n",
    "x = BatchNormalization()(x)\n",
    "decoded = Dense(inpu_dim, activation=\"relu\")(x)\n",
    "\n",
    "autoencoder = Model(input_vect, decoded)\n",
    "encoder = Model(input_vect, encoded)"
   ]
  },
  {
   "cell_type": "code",
   "execution_count": 120,
   "metadata": {},
   "outputs": [],
   "source": [
    "adadelta = optimizers.Adadelta(lr=0.9, rho=0.95)"
   ]
  },
  {
   "cell_type": "code",
   "execution_count": 121,
   "metadata": {},
   "outputs": [],
   "source": [
    "autoencoder.compile(optimizer=adadelta, loss = \"MSE\",metrics=['mean_squared_error'])"
   ]
  },
  {
   "cell_type": "code",
   "execution_count": 122,
   "metadata": {},
   "outputs": [
    {
     "name": "stdout",
     "output_type": "stream",
     "text": [
      "Train on 33732 samples, validate on 8433 samples\n",
      "Epoch 1/100\n",
      "33732/33732 [==============================] - 2s 62us/step - loss: 0.0693 - mean_squared_error: 0.0693 - val_loss: 0.0370 - val_mean_squared_error: 0.0370\n",
      "Epoch 2/100\n",
      "33732/33732 [==============================] - 1s 28us/step - loss: 0.0265 - mean_squared_error: 0.0265 - val_loss: 0.0229 - val_mean_squared_error: 0.0229\n",
      "Epoch 3/100\n",
      "33732/33732 [==============================] - 1s 28us/step - loss: 0.0182 - mean_squared_error: 0.0182 - val_loss: 0.0183 - val_mean_squared_error: 0.0183\n",
      "Epoch 4/100\n",
      "33732/33732 [==============================] - 1s 28us/step - loss: 0.0153 - mean_squared_error: 0.0153 - val_loss: 0.0158 - val_mean_squared_error: 0.0158\n",
      "Epoch 5/100\n",
      "33732/33732 [==============================] - 1s 28us/step - loss: 0.0138 - mean_squared_error: 0.0138 - val_loss: 0.0143 - val_mean_squared_error: 0.0143\n",
      "Epoch 6/100\n",
      "33732/33732 [==============================] - 1s 28us/step - loss: 0.0129 - mean_squared_error: 0.0129 - val_loss: 0.0134 - val_mean_squared_error: 0.0134\n",
      "Epoch 7/100\n",
      "33732/33732 [==============================] - 1s 28us/step - loss: 0.0124 - mean_squared_error: 0.0124 - val_loss: 0.0128 - val_mean_squared_error: 0.0128\n",
      "Epoch 8/100\n",
      "33732/33732 [==============================] - 1s 28us/step - loss: 0.0120 - mean_squared_error: 0.0120 - val_loss: 0.0124 - val_mean_squared_error: 0.0124\n",
      "Epoch 9/100\n",
      "33732/33732 [==============================] - 1s 28us/step - loss: 0.0118 - mean_squared_error: 0.0118 - val_loss: 0.0121 - val_mean_squared_error: 0.0121\n",
      "Epoch 10/100\n",
      "33732/33732 [==============================] - 1s 29us/step - loss: 0.0116 - mean_squared_error: 0.0116 - val_loss: 0.0119 - val_mean_squared_error: 0.0119\n",
      "Epoch 11/100\n",
      "33732/33732 [==============================] - 1s 28us/step - loss: 0.0115 - mean_squared_error: 0.0115 - val_loss: 0.0117 - val_mean_squared_error: 0.0117\n",
      "Epoch 12/100\n",
      "33732/33732 [==============================] - 1s 28us/step - loss: 0.0114 - mean_squared_error: 0.0114 - val_loss: 0.0116 - val_mean_squared_error: 0.0116\n",
      "Epoch 13/100\n",
      "33732/33732 [==============================] - 1s 28us/step - loss: 0.0113 - mean_squared_error: 0.0113 - val_loss: 0.0115 - val_mean_squared_error: 0.0115\n",
      "Epoch 14/100\n",
      "33732/33732 [==============================] - 1s 28us/step - loss: 0.0112 - mean_squared_error: 0.0112 - val_loss: 0.0114 - val_mean_squared_error: 0.0114\n",
      "Epoch 15/100\n",
      "33732/33732 [==============================] - 1s 28us/step - loss: 0.0111 - mean_squared_error: 0.0111 - val_loss: 0.0113 - val_mean_squared_error: 0.0113\n",
      "Epoch 16/100\n",
      "33732/33732 [==============================] - 1s 28us/step - loss: 0.0110 - mean_squared_error: 0.0110 - val_loss: 0.0112 - val_mean_squared_error: 0.0112\n",
      "Epoch 17/100\n",
      "33732/33732 [==============================] - 1s 29us/step - loss: 0.0110 - mean_squared_error: 0.0110 - val_loss: 0.0112 - val_mean_squared_error: 0.0112\n",
      "Epoch 18/100\n",
      "33732/33732 [==============================] - 1s 28us/step - loss: 0.0109 - mean_squared_error: 0.0109 - val_loss: 0.0111 - val_mean_squared_error: 0.0111\n",
      "Epoch 19/100\n",
      "33732/33732 [==============================] - 1s 28us/step - loss: 0.0108 - mean_squared_error: 0.0108 - val_loss: 0.0110 - val_mean_squared_error: 0.0110\n",
      "Epoch 20/100\n",
      "33732/33732 [==============================] - 1s 28us/step - loss: 0.0108 - mean_squared_error: 0.0108 - val_loss: 0.0110 - val_mean_squared_error: 0.0110\n",
      "Epoch 21/100\n",
      "33732/33732 [==============================] - 1s 28us/step - loss: 0.0107 - mean_squared_error: 0.0107 - val_loss: 0.0109 - val_mean_squared_error: 0.0109\n",
      "Epoch 22/100\n",
      "33732/33732 [==============================] - 1s 28us/step - loss: 0.0107 - mean_squared_error: 0.0107 - val_loss: 0.0109 - val_mean_squared_error: 0.0109\n",
      "Epoch 23/100\n",
      "33732/33732 [==============================] - 1s 30us/step - loss: 0.0106 - mean_squared_error: 0.0106 - val_loss: 0.0108 - val_mean_squared_error: 0.0108\n",
      "Epoch 24/100\n",
      "33732/33732 [==============================] - 1s 29us/step - loss: 0.0105 - mean_squared_error: 0.0105 - val_loss: 0.0107 - val_mean_squared_error: 0.0107\n",
      "Epoch 25/100\n",
      "33732/33732 [==============================] - 1s 29us/step - loss: 0.0105 - mean_squared_error: 0.0105 - val_loss: 0.0107 - val_mean_squared_error: 0.0107\n",
      "Epoch 26/100\n",
      "33732/33732 [==============================] - 1s 28us/step - loss: 0.0104 - mean_squared_error: 0.0104 - val_loss: 0.0106 - val_mean_squared_error: 0.0106\n",
      "Epoch 27/100\n",
      "33732/33732 [==============================] - 1s 28us/step - loss: 0.0103 - mean_squared_error: 0.0103 - val_loss: 0.0105 - val_mean_squared_error: 0.0105\n",
      "Epoch 28/100\n",
      "33732/33732 [==============================] - 1s 29us/step - loss: 0.0103 - mean_squared_error: 0.0103 - val_loss: 0.0105 - val_mean_squared_error: 0.0105\n",
      "Epoch 29/100\n",
      "33732/33732 [==============================] - 1s 28us/step - loss: 0.0102 - mean_squared_error: 0.0102 - val_loss: 0.0104 - val_mean_squared_error: 0.0104\n",
      "Epoch 30/100\n",
      "33732/33732 [==============================] - 1s 28us/step - loss: 0.0101 - mean_squared_error: 0.0101 - val_loss: 0.0103 - val_mean_squared_error: 0.0103\n",
      "Epoch 31/100\n",
      "33732/33732 [==============================] - 1s 28us/step - loss: 0.0101 - mean_squared_error: 0.0101 - val_loss: 0.0103 - val_mean_squared_error: 0.0103\n",
      "Epoch 32/100\n",
      "33732/33732 [==============================] - 1s 28us/step - loss: 0.0100 - mean_squared_error: 0.0100 - val_loss: 0.0102 - val_mean_squared_error: 0.0102\n",
      "Epoch 33/100\n",
      "33732/33732 [==============================] - 1s 29us/step - loss: 0.0099 - mean_squared_error: 0.0099 - val_loss: 0.0101 - val_mean_squared_error: 0.0101\n",
      "Epoch 34/100\n",
      "33732/33732 [==============================] - 1s 28us/step - loss: 0.0099 - mean_squared_error: 0.0099 - val_loss: 0.0101 - val_mean_squared_error: 0.0101\n",
      "Epoch 35/100\n",
      "33732/33732 [==============================] - 1s 28us/step - loss: 0.0098 - mean_squared_error: 0.0098 - val_loss: 0.0100 - val_mean_squared_error: 0.0100\n",
      "Epoch 36/100\n",
      "33732/33732 [==============================] - 1s 28us/step - loss: 0.0097 - mean_squared_error: 0.0097 - val_loss: 0.0100 - val_mean_squared_error: 0.0100\n",
      "Epoch 37/100\n",
      "33732/33732 [==============================] - 1s 29us/step - loss: 0.0097 - mean_squared_error: 0.0097 - val_loss: 0.0099 - val_mean_squared_error: 0.0099\n",
      "Epoch 38/100\n",
      "33732/33732 [==============================] - 1s 29us/step - loss: 0.0096 - mean_squared_error: 0.0096 - val_loss: 0.0099 - val_mean_squared_error: 0.0099\n",
      "Epoch 39/100\n",
      "33732/33732 [==============================] - 1s 29us/step - loss: 0.0096 - mean_squared_error: 0.0096 - val_loss: 0.0098 - val_mean_squared_error: 0.0098\n",
      "Epoch 40/100\n",
      "33732/33732 [==============================] - 1s 29us/step - loss: 0.0095 - mean_squared_error: 0.0095 - val_loss: 0.0097 - val_mean_squared_error: 0.0097\n",
      "Epoch 41/100\n",
      "33732/33732 [==============================] - 1s 29us/step - loss: 0.0095 - mean_squared_error: 0.0095 - val_loss: 0.0097 - val_mean_squared_error: 0.0097\n",
      "Epoch 42/100\n",
      "33732/33732 [==============================] - 1s 28us/step - loss: 0.0094 - mean_squared_error: 0.0094 - val_loss: 0.0096 - val_mean_squared_error: 0.0096\n",
      "Epoch 43/100\n",
      "33732/33732 [==============================] - 1s 29us/step - loss: 0.0094 - mean_squared_error: 0.0094 - val_loss: 0.0096 - val_mean_squared_error: 0.0096\n",
      "Epoch 44/100\n",
      "33732/33732 [==============================] - 1s 28us/step - loss: 0.0094 - mean_squared_error: 0.0094 - val_loss: 0.0096 - val_mean_squared_error: 0.0096\n",
      "Epoch 45/100\n",
      "33732/33732 [==============================] - 1s 28us/step - loss: 0.0093 - mean_squared_error: 0.0093 - val_loss: 0.0095 - val_mean_squared_error: 0.0095\n",
      "Epoch 46/100\n",
      "33732/33732 [==============================] - 1s 28us/step - loss: 0.0093 - mean_squared_error: 0.0093 - val_loss: 0.0095 - val_mean_squared_error: 0.0095\n",
      "Epoch 47/100\n",
      "33732/33732 [==============================] - 1s 28us/step - loss: 0.0093 - mean_squared_error: 0.0093 - val_loss: 0.0094 - val_mean_squared_error: 0.0094\n",
      "Epoch 48/100\n",
      "33732/33732 [==============================] - 1s 28us/step - loss: 0.0092 - mean_squared_error: 0.0092 - val_loss: 0.0094 - val_mean_squared_error: 0.0094\n",
      "Epoch 49/100\n"
     ]
    },
    {
     "name": "stdout",
     "output_type": "stream",
     "text": [
      "33732/33732 [==============================] - 1s 28us/step - loss: 0.0092 - mean_squared_error: 0.0092 - val_loss: 0.0094 - val_mean_squared_error: 0.0094\n",
      "Epoch 50/100\n",
      "33732/33732 [==============================] - 1s 28us/step - loss: 0.0091 - mean_squared_error: 0.0091 - val_loss: 0.0093 - val_mean_squared_error: 0.0093\n",
      "Epoch 51/100\n",
      "33732/33732 [==============================] - 1s 28us/step - loss: 0.0091 - mean_squared_error: 0.0091 - val_loss: 0.0093 - val_mean_squared_error: 0.0093\n",
      "Epoch 52/100\n",
      "33732/33732 [==============================] - 1s 28us/step - loss: 0.0091 - mean_squared_error: 0.0091 - val_loss: 0.0093 - val_mean_squared_error: 0.0093\n",
      "Epoch 53/100\n",
      "33732/33732 [==============================] - 1s 28us/step - loss: 0.0091 - mean_squared_error: 0.0091 - val_loss: 0.0092 - val_mean_squared_error: 0.0092\n",
      "Epoch 54/100\n",
      "33732/33732 [==============================] - 1s 29us/step - loss: 0.0090 - mean_squared_error: 0.0090 - val_loss: 0.0092 - val_mean_squared_error: 0.0092\n",
      "Epoch 55/100\n",
      "33732/33732 [==============================] - 1s 28us/step - loss: 0.0090 - mean_squared_error: 0.0090 - val_loss: 0.0092 - val_mean_squared_error: 0.0092\n",
      "Epoch 56/100\n",
      "33732/33732 [==============================] - 1s 29us/step - loss: 0.0090 - mean_squared_error: 0.0090 - val_loss: 0.0092 - val_mean_squared_error: 0.0092\n",
      "Epoch 57/100\n",
      "33732/33732 [==============================] - 1s 28us/step - loss: 0.0089 - mean_squared_error: 0.0089 - val_loss: 0.0091 - val_mean_squared_error: 0.0091\n",
      "Epoch 58/100\n",
      "33732/33732 [==============================] - 1s 28us/step - loss: 0.0089 - mean_squared_error: 0.0089 - val_loss: 0.0091 - val_mean_squared_error: 0.0091\n",
      "Epoch 59/100\n",
      "33732/33732 [==============================] - 1s 28us/step - loss: 0.0089 - mean_squared_error: 0.0089 - val_loss: 0.0091 - val_mean_squared_error: 0.0091\n",
      "Epoch 60/100\n",
      "33732/33732 [==============================] - 1s 28us/step - loss: 0.0089 - mean_squared_error: 0.0089 - val_loss: 0.0091 - val_mean_squared_error: 0.0091\n",
      "Epoch 61/100\n",
      "33732/33732 [==============================] - 1s 28us/step - loss: 0.0088 - mean_squared_error: 0.0088 - val_loss: 0.0090 - val_mean_squared_error: 0.0090\n",
      "Epoch 62/100\n",
      "33732/33732 [==============================] - 1s 28us/step - loss: 0.0088 - mean_squared_error: 0.0088 - val_loss: 0.0090 - val_mean_squared_error: 0.0090\n",
      "Epoch 63/100\n",
      "33732/33732 [==============================] - 1s 28us/step - loss: 0.0088 - mean_squared_error: 0.0088 - val_loss: 0.0090 - val_mean_squared_error: 0.0090\n",
      "Epoch 64/100\n",
      "33732/33732 [==============================] - 1s 28us/step - loss: 0.0088 - mean_squared_error: 0.0088 - val_loss: 0.0090 - val_mean_squared_error: 0.0090\n",
      "Epoch 65/100\n",
      "33732/33732 [==============================] - 1s 29us/step - loss: 0.0087 - mean_squared_error: 0.0087 - val_loss: 0.0089 - val_mean_squared_error: 0.0089\n",
      "Epoch 66/100\n",
      "33732/33732 [==============================] - 1s 28us/step - loss: 0.0087 - mean_squared_error: 0.0087 - val_loss: 0.0089 - val_mean_squared_error: 0.0089\n",
      "Epoch 67/100\n",
      "33732/33732 [==============================] - 1s 28us/step - loss: 0.0087 - mean_squared_error: 0.0087 - val_loss: 0.0089 - val_mean_squared_error: 0.0089\n",
      "Epoch 68/100\n",
      "33732/33732 [==============================] - 1s 28us/step - loss: 0.0087 - mean_squared_error: 0.0087 - val_loss: 0.0089 - val_mean_squared_error: 0.0089\n",
      "Epoch 69/100\n",
      "33732/33732 [==============================] - 1s 28us/step - loss: 0.0087 - mean_squared_error: 0.0087 - val_loss: 0.0089 - val_mean_squared_error: 0.0089\n",
      "Epoch 70/100\n",
      "33732/33732 [==============================] - 1s 28us/step - loss: 0.0086 - mean_squared_error: 0.0086 - val_loss: 0.0088 - val_mean_squared_error: 0.0088\n",
      "Epoch 71/100\n",
      "33732/33732 [==============================] - 1s 29us/step - loss: 0.0086 - mean_squared_error: 0.0086 - val_loss: 0.0088 - val_mean_squared_error: 0.0088\n",
      "Epoch 72/100\n",
      "33732/33732 [==============================] - 1s 28us/step - loss: 0.0086 - mean_squared_error: 0.0086 - val_loss: 0.0088 - val_mean_squared_error: 0.0088\n",
      "Epoch 73/100\n",
      "33732/33732 [==============================] - 1s 29us/step - loss: 0.0086 - mean_squared_error: 0.0086 - val_loss: 0.0088 - val_mean_squared_error: 0.0088\n",
      "Epoch 74/100\n",
      "33732/33732 [==============================] - 1s 28us/step - loss: 0.0086 - mean_squared_error: 0.0086 - val_loss: 0.0088 - val_mean_squared_error: 0.0088\n",
      "Epoch 75/100\n",
      "33732/33732 [==============================] - 1s 28us/step - loss: 0.0085 - mean_squared_error: 0.0085 - val_loss: 0.0087 - val_mean_squared_error: 0.0087\n",
      "Epoch 76/100\n",
      "33732/33732 [==============================] - 1s 28us/step - loss: 0.0085 - mean_squared_error: 0.0085 - val_loss: 0.0087 - val_mean_squared_error: 0.0087\n",
      "Epoch 77/100\n",
      "33732/33732 [==============================] - 1s 28us/step - loss: 0.0085 - mean_squared_error: 0.0085 - val_loss: 0.0087 - val_mean_squared_error: 0.0087\n",
      "Epoch 78/100\n",
      "33732/33732 [==============================] - 1s 29us/step - loss: 0.0085 - mean_squared_error: 0.0085 - val_loss: 0.0087 - val_mean_squared_error: 0.0087\n",
      "Epoch 79/100\n",
      "33732/33732 [==============================] - 1s 29us/step - loss: 0.0085 - mean_squared_error: 0.0085 - val_loss: 0.0087 - val_mean_squared_error: 0.0087\n",
      "Epoch 80/100\n",
      "33732/33732 [==============================] - 1s 28us/step - loss: 0.0085 - mean_squared_error: 0.0085 - val_loss: 0.0087 - val_mean_squared_error: 0.0087\n",
      "Epoch 81/100\n",
      "33732/33732 [==============================] - 1s 28us/step - loss: 0.0084 - mean_squared_error: 0.0084 - val_loss: 0.0086 - val_mean_squared_error: 0.0086\n",
      "Epoch 82/100\n",
      "33732/33732 [==============================] - 1s 29us/step - loss: 0.0084 - mean_squared_error: 0.0084 - val_loss: 0.0086 - val_mean_squared_error: 0.0086\n",
      "Epoch 83/100\n",
      "33732/33732 [==============================] - 1s 29us/step - loss: 0.0084 - mean_squared_error: 0.0084 - val_loss: 0.0086 - val_mean_squared_error: 0.0086\n",
      "Epoch 84/100\n",
      "33732/33732 [==============================] - 1s 29us/step - loss: 0.0084 - mean_squared_error: 0.0084 - val_loss: 0.0086 - val_mean_squared_error: 0.0086\n",
      "Epoch 85/100\n",
      "33732/33732 [==============================] - 1s 28us/step - loss: 0.0084 - mean_squared_error: 0.0084 - val_loss: 0.0086 - val_mean_squared_error: 0.0086\n",
      "Epoch 86/100\n",
      "33732/33732 [==============================] - 1s 29us/step - loss: 0.0084 - mean_squared_error: 0.0084 - val_loss: 0.0086 - val_mean_squared_error: 0.0086\n",
      "Epoch 87/100\n",
      "33732/33732 [==============================] - 1s 29us/step - loss: 0.0083 - mean_squared_error: 0.0083 - val_loss: 0.0086 - val_mean_squared_error: 0.0086\n",
      "Epoch 88/100\n",
      "33732/33732 [==============================] - 1s 29us/step - loss: 0.0083 - mean_squared_error: 0.0083 - val_loss: 0.0085 - val_mean_squared_error: 0.0085\n",
      "Epoch 89/100\n",
      "33732/33732 [==============================] - 1s 28us/step - loss: 0.0083 - mean_squared_error: 0.0083 - val_loss: 0.0085 - val_mean_squared_error: 0.0085\n",
      "Epoch 90/100\n",
      "33732/33732 [==============================] - 1s 29us/step - loss: 0.0083 - mean_squared_error: 0.0083 - val_loss: 0.0085 - val_mean_squared_error: 0.0085\n",
      "Epoch 91/100\n",
      "33732/33732 [==============================] - 1s 28us/step - loss: 0.0083 - mean_squared_error: 0.0083 - val_loss: 0.0085 - val_mean_squared_error: 0.0085\n",
      "Epoch 92/100\n",
      "33732/33732 [==============================] - 1s 29us/step - loss: 0.0083 - mean_squared_error: 0.0083 - val_loss: 0.0085 - val_mean_squared_error: 0.0085\n",
      "Epoch 93/100\n",
      "33732/33732 [==============================] - 1s 29us/step - loss: 0.0083 - mean_squared_error: 0.0083 - val_loss: 0.0085 - val_mean_squared_error: 0.0085\n",
      "Epoch 94/100\n",
      "33732/33732 [==============================] - 1s 29us/step - loss: 0.0083 - mean_squared_error: 0.0083 - val_loss: 0.0085 - val_mean_squared_error: 0.0085\n",
      "Epoch 95/100\n",
      "33732/33732 [==============================] - 1s 29us/step - loss: 0.0082 - mean_squared_error: 0.0082 - val_loss: 0.0085 - val_mean_squared_error: 0.0085\n",
      "Epoch 96/100\n",
      "33732/33732 [==============================] - 1s 29us/step - loss: 0.0082 - mean_squared_error: 0.0082 - val_loss: 0.0084 - val_mean_squared_error: 0.0084\n",
      "Epoch 97/100\n"
     ]
    },
    {
     "name": "stdout",
     "output_type": "stream",
     "text": [
      "33732/33732 [==============================] - 1s 28us/step - loss: 0.0082 - mean_squared_error: 0.0082 - val_loss: 0.0084 - val_mean_squared_error: 0.0084\n",
      "Epoch 98/100\n",
      "33732/33732 [==============================] - 1s 28us/step - loss: 0.0082 - mean_squared_error: 0.0082 - val_loss: 0.0084 - val_mean_squared_error: 0.0084\n",
      "Epoch 99/100\n",
      "33732/33732 [==============================] - 1s 29us/step - loss: 0.0082 - mean_squared_error: 0.0082 - val_loss: 0.0084 - val_mean_squared_error: 0.0084\n",
      "Epoch 100/100\n",
      "33732/33732 [==============================] - 1s 29us/step - loss: 0.0082 - mean_squared_error: 0.0082 - val_loss: 0.0084 - val_mean_squared_error: 0.0084\n"
     ]
    }
   ],
   "source": [
    "history = autoencoder.fit(X_train, X_train, epochs = 100, batch_size = 1024, shuffle=True, validation_data=(X_test, X_test))"
   ]
  },
  {
   "cell_type": "code",
   "execution_count": 123,
   "metadata": {},
   "outputs": [
    {
     "data": {
      "image/png": "[encoded data removed]",
      "text/plain": [
       "<Figure size 432x288 with 1 Axes>"
      ]
     },
     "metadata": {
      "needs_background": "light"
     },
     "output_type": "display_data"
    }
   ],
   "source": [
    "plt.plot(history.history['mean_squared_error'], label='MSE (train data)')\n",
    "plt.plot(history.history['val_mean_squared_error'], label='MSE (val data)')\n",
    "plt.title('MSE for Chennai Reservoir Levels')\n",
    "plt.ylabel('MSE value')\n",
    "plt.xlabel('No. epoch')\n",
    "plt.legend(loc=\"upper left\")\n",
    "plt.show()"
   ]
  },
  {
   "cell_type": "code",
   "execution_count": 138,
   "metadata": {},
   "outputs": [],
   "source": [
    "encoded_values = autoencoder.predict(X_test)"
   ]
  },
  {
   "cell_type": "code",
   "execution_count": 139,
   "metadata": {},
   "outputs": [
    {
     "data": {
      "text/plain": [
       "(8433, 866)"
      ]
     },
     "execution_count": 139,
     "metadata": {},
     "output_type": "execute_result"
    }
   ],
   "source": [
    "encoded_values.shape"
   ]
  },
  {
   "cell_type": "code",
   "execution_count": 125,
   "metadata": {},
   "outputs": [],
   "source": [
    "from sklearn.manifold import TSNE\n",
    "X_embedded = TSNE(n_components=2).fit_transform(encoded_values)"
   ]
  },
  {
   "cell_type": "code",
   "execution_count": 126,
   "metadata": {},
   "outputs": [
    {
     "data": {
      "text/plain": [
       "<matplotlib.collections.PathCollection at 0x17d01a70c88>"
      ]
     },
     "execution_count": 126,
     "metadata": {},
     "output_type": "execute_result"
    },
    {
     "data": {
      "image/png": "[encoded data removed]",
      "text/plain": [
       "<Figure size 432x288 with 1 Axes>"
      ]
     },
     "metadata": {
      "needs_background": "light"
     },
     "output_type": "display_data"
    }
   ],
   "source": [
    "plt.scatter(X_embedded[:,0], X_embedded[:,1])"
   ]
  },
  {
   "cell_type": "code",
   "execution_count": 127,
   "metadata": {},
   "outputs": [
    {
     "data": {
      "image/png": "[encoded data removed]",
      "text/plain": [
       "<Figure size 432x288 with 1 Axes>"
      ]
     },
     "metadata": {
      "needs_background": "light"
     },
     "output_type": "display_data"
    }
   ],
   "source": [
    "from sklearn.cluster import DBSCAN\n",
    "from sklearn import metrics\n",
    "from sklearn.datasets import make_blobs\n",
    "from sklearn.preprocessing import StandardScaler\n",
    "X = encoded_values\n",
    "db = DBSCAN(eps=0.3, min_samples=5).fit(X)\n",
    "\n",
    "core_samples_mask = np.zeros_like(db.labels_, dtype=bool)\n",
    "core_samples_mask[db.core_sample_indices_] = True\n",
    "labels = db.labels_\n",
    "\n",
    "# Number of clusters in labels, ignoring noise if present.\n",
    "n_clusters_ = len(set(labels)) - (1 if -1 in labels else 0)\n",
    "n_noise_ = list(labels).count(-1)\n",
    "\n",
    "# #############################################################################\n",
    "# Plot result\n",
    "import matplotlib.pyplot as plt\n",
    "\n",
    "# Black removed and is used for noise instead.\n",
    "unique_labels = set(labels)\n",
    "colors = [plt.cm.Spectral(each)\n",
    "          for each in np.linspace(0, 1, len(unique_labels))]\n",
    "for k, col in zip(unique_labels, colors):\n",
    "    if k == -1:\n",
    "        # Black used for noise.\n",
    "        col = [0, 0, 0, 1]\n",
    "\n",
    "    class_member_mask = (labels == k)\n",
    "\n",
    "    xy = X[class_member_mask & core_samples_mask]\n",
    "    plt.plot(xy[:, 0], xy[:, 1], 'o', markerfacecolor=tuple(col),\n",
    "             markeredgecolor='k', markersize=14)\n",
    "\n",
    "    xy = X[class_member_mask & ~core_samples_mask]\n",
    "    plt.plot(xy[:, 0], xy[:, 1], 'o', markerfacecolor=tuple(col),\n",
    "             markeredgecolor='k', markersize=6)\n",
    "\n",
    "plt.title('Estimated number of clusters: %d' % n_clusters_)\n",
    "plt.show()"
   ]
  },
  {
   "cell_type": "code",
   "execution_count": null,
   "metadata": {},
   "outputs": [],
   "source": []
  },
  {
   "cell_type": "code",
   "execution_count": null,
   "metadata": {},
   "outputs": [],
   "source": []
  }
 ],
 "metadata": {
  "kernelspec": {
   "display_name": "Python 3",
   "language": "python",
   "name": "python3"
  },
  "language_info": {
   "codemirror_mode": {
    "name": "ipython",
    "version": 3
   },
   "file_extension": ".py",
   "mimetype": "text/x-python",
   "name": "python",
   "nbconvert_exporter": "python",
   "pygments_lexer": "ipython3",
   "version": "3.7.4"
  }
 },
 "nbformat": 4,
 "nbformat_minor": 2
}
