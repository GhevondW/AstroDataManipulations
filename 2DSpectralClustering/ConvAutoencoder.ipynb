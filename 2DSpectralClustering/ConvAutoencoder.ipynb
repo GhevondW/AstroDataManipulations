{
 "cells": [
  {
   "cell_type": "code",
   "execution_count": 1,
   "metadata": {},
   "outputs": [
    {
     "name": "stderr",
     "output_type": "stream",
     "text": [
      "Using TensorFlow backend.\n"
     ]
    }
   ],
   "source": [
    "import numpy as np\n",
    "import pandas as pd\n",
    "import seaborn as sns\n",
    "from sklearn.linear_model import LinearRegression\n",
    "import matplotlib.pyplot as plt\n",
    "from sklearn.model_selection import train_test_split\n",
    "from sklearn.feature_selection import RFE\n",
    "from sklearn.metrics import mean_squared_error, r2_score\n",
    "import os, fnmatch\n",
    "from sklearn.cluster import KMeans\n",
    "from sklearn.preprocessing import PolynomialFeatures \n",
    "import seaborn as sns\n",
    "%matplotlib inline\n",
    "from keras.layers import Input, Dense\n",
    "from keras.models import Model\n",
    "# from keras.op\n",
    "from keras import optimizers\n",
    "from keras import regularizers\n",
    "from PIL import Image\n",
    "from sklearn import preprocessing\n",
    "from sklearn.model_selection import train_test_split\n",
    "\n",
    "import keras\n",
    "from keras.models import load_model\n",
    "from keras.datasets import cifar10\n",
    "from keras.layers import Input, Dense, Conv2D, MaxPooling2D, UpSampling2D, BatchNormalization, Activation\n",
    "from keras.models import Model\n",
    "from keras.callbacks import EarlyStopping, ModelCheckpoint\n",
    "from keras.optimizers import Adam\n",
    "import os\n",
    "import pickle\n",
    "import numpy as np"
   ]
  },
  {
   "cell_type": "code",
   "execution_count": 2,
   "metadata": {},
   "outputs": [],
   "source": [
    "all_tiff_files = []\n",
    "listOfFiles = os.listdir('./clean_data/obj_test_res')\n",
    "pattern = \"*.tiff\"\n",
    "for entry in listOfFiles:\n",
    "    if fnmatch.fnmatch(entry, pattern):\n",
    "            all_tiff_files.append('./clean_data/obj_test_res/'+entry)"
   ]
  },
  {
   "cell_type": "code",
   "execution_count": 3,
   "metadata": {},
   "outputs": [
    {
     "name": "stdout",
     "output_type": "stream",
     "text": [
      "42165\n"
     ]
    }
   ],
   "source": [
    "print(len(all_tiff_files))"
   ]
  },
  {
   "cell_type": "code",
   "execution_count": 4,
   "metadata": {},
   "outputs": [],
   "source": [
    "images_list = []\n",
    "half_size = int(len(all_tiff_files) / 2)\n",
    "max_size = 0\n",
    "max_width = 0\n",
    "max_height = 0\n",
    "ind = 0\n",
    "for i in range(half_size):\n",
    "#    if(i == 25232):\n",
    "#        print(all_tiff_files[i])\n",
    "    im = Image.open(all_tiff_files[i])\n",
    "    arr = np.array(im)#.flatten()\n",
    "    #arr = np.expand_dims(arr, axis=1)\n",
    "    s = arr.shape\n",
    "    if s[0] > max_height:\n",
    "        max_height = s[0]\n",
    "    if s[1] > max_width:\n",
    "        max_width = s[1]\n",
    "        ind = i\n",
    "    images_list.append(arr)\n",
    "\n",
    "for i in range(half_size, len(all_tiff_files)):\n",
    "#    if(i == 25232):\n",
    "#        print(all_tiff_files[i])\n",
    "    im = Image.open(all_tiff_files[i])\n",
    "    arr = np.array(im)#.flatten()\n",
    "    #arr = np.expand_dims(arr, axis=1)\n",
    "    s = arr.shape\n",
    "    if s[0] > max_height:\n",
    "        max_height = s[0]\n",
    "    if s[1] > max_width:\n",
    "        max_width = s[1]\n",
    "        ind = i\n",
    "    images_list.append(arr)   "
   ]
  },
  {
   "cell_type": "code",
   "execution_count": 5,
   "metadata": {},
   "outputs": [
    {
     "name": "stdout",
     "output_type": "stream",
     "text": [
      "27 140 7748\n",
      "[[ 1560   260     0   624   164     0    64  1944   660     0]\n",
      " [ 1120     0     0    32     0     0     0  1666  1424   196]\n",
      " [   48     0     0     0     0     0     0   814  1606  1360]\n",
      " [    0     0     0   804   672   142     0     0     0     0]\n",
      " [    0     0   674  1390   944   836   636     0     0     0]\n",
      " [    0     0   730   748     0     0     0     0     0     0]\n",
      " [  960   798   152     0     0     0     0     0     0     0]\n",
      " [ 1900   884     0     0     0     0   198     0     0     0]\n",
      " [ 1112     0     0     0     0  1616  1502     0     0     0]\n",
      " [  304     0     0     0   306  3456  3062     0     0     0]\n",
      " [    0     0     0     0  1726  6322  5726  1588     0     0]\n",
      " [    0     0     0     0  3408  9158  7870  2618     0     0]\n",
      " [    0     0     0     0  3538 10188  8222  1618     0     0]\n",
      " [    0     0     0     0  2872 10400  8268   410     0     0]\n",
      " [    0     0     0     0  3316 10988  8758   298     0     0]\n",
      " [  356     0     0     0  3764 10520  8044     0     0     0]\n",
      " [  636     0     0     0  3364  9272  6596     0     0     0]\n",
      " [  688     0     0     0  3190  9010  6348     0     0     0]\n",
      " [  664     0     0     0  2586  8588  6166     0     0     0]\n",
      " [  260     0     0     0   920  7056  5148     0     0     0]\n",
      " [    0     0     0     0    24  6134  4940     0     0     0]\n",
      " [    0     0     0     0  1134  6570  5550   298     0     0]\n",
      " [    0     0     0     0  2558  6778  5370   844     0     0]\n",
      " [    0     0     0     0  1996  5602  4394  1004     0     0]\n",
      " [    0     0     0     0   370  4168  3794  1036     0     0]\n",
      " [    0     0     0     0   640  4490  4448   848     0     0]\n",
      " [    0     0     0     0  1606  5582  5500   684     0     0]\n",
      " [    0     0     0     0   498  5010  5270    66     0     0]\n",
      " [    0     0     0     0     0  4078  4524     0     0     0]\n",
      " [  264    74     0     0   732  4282  4078     0     0     0]\n",
      " [    0     0     0     0  1268  3968  2944     0     0     0]\n",
      " [    0     0     0     0   808  3146  1834     0     0     0]\n",
      " [    0     0     0     0  1754  3754  2322     0     0     0]\n",
      " [    0     0     0   666  2984  4772  3278     0     0     0]\n",
      " [    0     0     0     0  2304  4380  3202   232     0     0]\n",
      " [    0     0     0     0  1434  3878  2868   288     0     0]\n",
      " [    0     0     0     0  1712  4530  3196     0     0     0]\n",
      " [    0     0     0     0  1558  5064  3692     0     0     0]\n",
      " [    0     0     0     0   496  4542  3838     0     0     0]\n",
      " [    0     0     0     0     2  4136  4036   620     0     0]\n",
      " [    0     0     0     0   844  4754  4484  1158     0     0]\n",
      " [  168     0     0     0  1582  5386  4632   728     0     0]\n",
      " [  920     0     0     0  1036  5342  4590   240     0     0]\n",
      " [ 1104     0     0     0   648  5234  4690   266     0     0]\n",
      " [  200     0     0     0  1940  5740  4788   522     0     0]\n",
      " [    0     0     0     0  3660  6746  4924   484     0     0]\n",
      " [    0     0     0     0  3346  7066  4990   194     0     0]\n",
      " [    0     0     0     0  1586  6264  4732   136     0     0]\n",
      " [  312     0     0     0  1086  5830  4420    34     0     0]\n",
      " [   44     0     0     0  2046  6544  4214     0     0     0]\n",
      " [    0     0     0     0  2882  7288  3916     0     0     0]\n",
      " [    0     0     0     0  2678  6890  3326     0     0     0]\n",
      " [    0     0     0     0  1954  6106  3264     0     0     0]\n",
      " [   48     0     0     0  1734  6130  4216     0     0     0]\n",
      " [    0     0     0     0  2382  6394  4420     0     0     0]\n",
      " [    0     0     0     0  3612  6304  3358     0     0     0]\n",
      " [    0     0     0   190  4024  5842  2728     0     0     0]\n",
      " [    0     0     0     0  3408  5190  2936   250     0     0]\n",
      " [    0     0     0     0  2912  5068  3194     0     0     0]\n",
      " [    0     0     0     0  2452  5656  3584     0     0     0]\n",
      " [    0     0     0     0  1940  6310  4166     0     0     0]\n",
      " [    0     0     0     0  1902  6704  4274     0     0     0]\n",
      " [    0     0     0     0  2018  6600  3524     0     0     0]\n",
      " [    0     0     0     0  1568  5552  2070     0     0     0]\n",
      " [    0     0     0     0  1316  4912  1524     0     0     0]\n",
      " [    0     0     0     0  2580  6008  2610     0     0     0]\n",
      " [    0     0     0     0  4002  7028  3306     0     0     0]\n",
      " [    0   348     0     0  4126  6682  2694     0     0     0]\n",
      " [    0     0     0     0  3376  5776  1986     0     0     0]\n",
      " [    0     0     0     0  1968  4556  1852     0     0     0]\n",
      " [    0     0     0     0   892  3490  2122     0     0     0]\n",
      " [    0     0     0     0  1186  3114  2102     0     0     0]\n",
      " [    0     0     0     0  1764  2800   846     0     0     0]\n",
      " [    0     0     0     0  2012  2386     0     0     0     0]\n",
      " [    0     0   282   356  2216  2346     0     0     0     0]\n",
      " [    0     0     0   314  2280  2920   734     0     0     0]\n",
      " [  412     0     0     0  2172  3360  1688     0     0     0]\n",
      " [ 1324     0     0     0  1684  2626   750     0     0     0]\n",
      " [ 1212    96     0     0   976  1664     0     0     0     0]\n",
      " [    0     0     0     0  1022  1872     0     0     0     0]\n",
      " [    0     0     0     0  1480  2204   582     0     0     0]\n",
      " [    0     0     0     0  1524  1596   698   730     0     0]\n",
      " [  704   976   736   620  1460  1100   592  1060     0     0]]\n"
     ]
    }
   ],
   "source": [
    "print(max_width, max_height, ind)\n",
    "print(images_list[0])"
   ]
  },
  {
   "cell_type": "code",
   "execution_count": 6,
   "metadata": {},
   "outputs": [],
   "source": [
    "for i in range(len(images_list)):\n",
    "    s = images_list[i].shape\n",
    "    d_width = (max_width - s[1])\n",
    "    d_height = (max_height - s[0])\n",
    "    \n",
    "    d_top = int(d_height / 2)\n",
    "    d_bottom = int(d_height - d_top)\n",
    "    \n",
    "    d_left = int(d_width / 2)\n",
    "    d_right = int(d_width - d_left)\n",
    "    #print(d_top, d_bottom, d_left, d_right)\n",
    "    \n",
    "    arr = images_list[i]\n",
    "    for l in range(d_left):\n",
    "        arr = np.insert(arr, 0, 0, axis = 1)\n",
    "    \n",
    "    for r in range(d_right):\n",
    "        b = np.zeros((s[0],1))\n",
    "        arr = np.append(arr, b, axis = 1)\n",
    "    \n",
    "    for t in range(d_top):\n",
    "        arr = np.insert(arr, 0, 0, axis = 0)\n",
    "    \n",
    "    for b in range(d_bottom):\n",
    "        b = np.zeros((1, arr.shape[1],))\n",
    "        arr = np.append(arr, b, axis = 0)\n",
    "    \n",
    "    images_list[i] = arr\n",
    "    \n",
    "    #if i == 1024:\n",
    "    #    plt.imshow(arr)\n",
    "    "
   ]
  },
  {
   "cell_type": "code",
   "execution_count": 7,
   "metadata": {},
   "outputs": [
    {
     "name": "stdout",
     "output_type": "stream",
     "text": [
      "27 140\n"
     ]
    }
   ],
   "source": [
    "width = max_width\n",
    "height = max_height\n",
    "print(width, height)"
   ]
  },
  {
   "cell_type": "code",
   "execution_count": 133,
   "metadata": {},
   "outputs": [],
   "source": [
    "#plt.imshow(images_list[74])"
   ]
  },
  {
   "cell_type": "code",
   "execution_count": 24,
   "metadata": {},
   "outputs": [],
   "source": [
    "#min_max_scaler = preprocessing.MinMaxScaler()\n",
    "images_np = np.array(images_list)\n",
    "images_np /= 0xffff\n",
    "#X_train_minmax = min_max_scaler.fit_transform(images_np)\n",
    "X_train, X_test = train_test_split(images_np, test_size=0.33, random_state=100)"
   ]
  },
  {
   "cell_type": "code",
   "execution_count": 25,
   "metadata": {},
   "outputs": [
    {
     "name": "stdout",
     "output_type": "stream",
     "text": [
      "x_train shape: (28250, 140, 27)\n",
      "28250 train samples\n",
      "13915 test samples\n"
     ]
    }
   ],
   "source": [
    "print('x_train shape:', X_train.shape)\n",
    "print(X_train.shape[0], 'train samples')\n",
    "print(X_test.shape[0], 'test samples')"
   ]
  },
  {
   "cell_type": "code",
   "execution_count": null,
   "metadata": {},
   "outputs": [],
   "source": []
  },
  {
   "cell_type": "code",
   "execution_count": 34,
   "metadata": {},
   "outputs": [],
   "source": [
    "X_train = X_train.reshape(28250, 140, 27, 1)"
   ]
  },
  {
   "cell_type": "code",
   "execution_count": 35,
   "metadata": {},
   "outputs": [],
   "source": [
    "X_test = X_test.reshape(13915, 140, 27, 1)"
   ]
  },
  {
   "cell_type": "code",
   "execution_count": 15,
   "metadata": {},
   "outputs": [
    {
     "name": "stdout",
     "output_type": "stream",
     "text": [
      "[name: \"/device:CPU:0\"\n",
      "device_type: \"CPU\"\n",
      "memory_limit: 268435456\n",
      "locality {\n",
      "}\n",
      "incarnation: 14517204692061540317\n",
      ", name: \"/device:GPU:0\"\n",
      "device_type: \"GPU\"\n",
      "memory_limit: 1441641267\n",
      "locality {\n",
      "  bus_id: 1\n",
      "  links {\n",
      "  }\n",
      "}\n",
      "incarnation: 13310348708585866977\n",
      "physical_device_desc: \"device: 0, name: GeForce GTX 750 Ti, pci bus id: 0000:01:00.0, compute capability: 5.0\"\n",
      "]\n"
     ]
    }
   ],
   "source": [
    "from tensorflow.python.client import device_lib\n",
    "import tensorflow as tf\n",
    "import keras\n",
    "print(device_lib.list_local_devices())\n",
    "\n",
    "config = tf.ConfigProto( device_count = {'GPU': 1 , 'CPU': 8} ) \n",
    "sess = tf.Session(config=config) \n",
    "keras.backend.set_session(sess)"
   ]
  },
  {
   "cell_type": "code",
   "execution_count": 59,
   "metadata": {},
   "outputs": [],
   "source": [
    "input_img = Input(shape=(height, width, 1))\n",
    "x = Conv2D(64, (2, 2), padding='same')(input_img)\n",
    "x = BatchNormalization()(x)\n",
    "x = Activation('relu')(x)\n",
    "x = MaxPooling2D((2, 1))(x)\n",
    "x = Conv2D(32, (2, 2), padding='same')(x)\n",
    "x = BatchNormalization()(x)\n",
    "x = Activation('relu')(x)\n",
    "x = MaxPooling2D((2, 1))(x)\n",
    "x = Conv2D(16, (2, 2), padding='same')(x)\n",
    "x = BatchNormalization()(x)\n",
    "x = Activation('relu')(x)\n",
    "encoded = MaxPooling2D((5, 1))(x)\n",
    "\n",
    "x = Conv2D(16, (2, 2), padding='same')(encoded)\n",
    "x = BatchNormalization()(x)\n",
    "x = Activation('relu')(x)\n",
    "x = UpSampling2D((5, 1))(x)\n",
    "x = Conv2D(32, (2, 2), padding='same')(x)\n",
    "x = BatchNormalization()(x)\n",
    "x = Activation('relu')(x)\n",
    "x = UpSampling2D((2, 1))(x)\n",
    "x = Conv2D(64, (2, 2), padding='same')(x)\n",
    "x = BatchNormalization()(x)\n",
    "x = Activation('relu')(x)\n",
    "x = UpSampling2D((2, 1))(x)\n",
    "x = Conv2D(1, (2, 2), padding='same')(x)\n",
    "x = BatchNormalization()(x)\n",
    "decoded = Activation('relu')(x)"
   ]
  },
  {
   "cell_type": "code",
   "execution_count": 60,
   "metadata": {},
   "outputs": [
    {
     "name": "stdout",
     "output_type": "stream",
     "text": [
      "_________________________________________________________________\n",
      "Layer (type)                 Output Shape              Param #   \n",
      "=================================================================\n",
      "input_4 (InputLayer)         (None, 140, 27, 1)        0         \n",
      "_________________________________________________________________\n",
      "conv2d_22 (Conv2D)           (None, 140, 27, 64)       320       \n",
      "_________________________________________________________________\n",
      "batch_normalization_22 (Batc (None, 140, 27, 64)       256       \n",
      "_________________________________________________________________\n",
      "activation_22 (Activation)   (None, 140, 27, 64)       0         \n",
      "_________________________________________________________________\n",
      "max_pooling2d_10 (MaxPooling (None, 70, 27, 64)        0         \n",
      "_________________________________________________________________\n",
      "conv2d_23 (Conv2D)           (None, 70, 27, 32)        8224      \n",
      "_________________________________________________________________\n",
      "batch_normalization_23 (Batc (None, 70, 27, 32)        128       \n",
      "_________________________________________________________________\n",
      "activation_23 (Activation)   (None, 70, 27, 32)        0         \n",
      "_________________________________________________________________\n",
      "max_pooling2d_11 (MaxPooling (None, 35, 27, 32)        0         \n",
      "_________________________________________________________________\n",
      "conv2d_24 (Conv2D)           (None, 35, 27, 16)        2064      \n",
      "_________________________________________________________________\n",
      "batch_normalization_24 (Batc (None, 35, 27, 16)        64        \n",
      "_________________________________________________________________\n",
      "activation_24 (Activation)   (None, 35, 27, 16)        0         \n",
      "_________________________________________________________________\n",
      "max_pooling2d_12 (MaxPooling (None, 7, 27, 16)         0         \n",
      "_________________________________________________________________\n",
      "conv2d_25 (Conv2D)           (None, 7, 27, 16)         1040      \n",
      "_________________________________________________________________\n",
      "batch_normalization_25 (Batc (None, 7, 27, 16)         64        \n",
      "_________________________________________________________________\n",
      "activation_25 (Activation)   (None, 7, 27, 16)         0         \n",
      "_________________________________________________________________\n",
      "up_sampling2d_10 (UpSampling (None, 35, 27, 16)        0         \n",
      "_________________________________________________________________\n",
      "conv2d_26 (Conv2D)           (None, 35, 27, 32)        2080      \n",
      "_________________________________________________________________\n",
      "batch_normalization_26 (Batc (None, 35, 27, 32)        128       \n",
      "_________________________________________________________________\n",
      "activation_26 (Activation)   (None, 35, 27, 32)        0         \n",
      "_________________________________________________________________\n",
      "up_sampling2d_11 (UpSampling (None, 70, 27, 32)        0         \n",
      "_________________________________________________________________\n",
      "conv2d_27 (Conv2D)           (None, 70, 27, 64)        8256      \n",
      "_________________________________________________________________\n",
      "batch_normalization_27 (Batc (None, 70, 27, 64)        256       \n",
      "_________________________________________________________________\n",
      "activation_27 (Activation)   (None, 70, 27, 64)        0         \n",
      "_________________________________________________________________\n",
      "up_sampling2d_12 (UpSampling (None, 140, 27, 64)       0         \n",
      "_________________________________________________________________\n",
      "conv2d_28 (Conv2D)           (None, 140, 27, 1)        257       \n",
      "_________________________________________________________________\n",
      "batch_normalization_28 (Batc (None, 140, 27, 1)        4         \n",
      "_________________________________________________________________\n",
      "activation_28 (Activation)   (None, 140, 27, 1)        0         \n",
      "=================================================================\n",
      "Total params: 23,141\n",
      "Trainable params: 22,691\n",
      "Non-trainable params: 450\n",
      "_________________________________________________________________\n"
     ]
    }
   ],
   "source": [
    "model = Model(input_img, decoded)\n",
    "model.compile(optimizer='adam', loss='MSE')\n",
    "model.summary()"
   ]
  },
  {
   "cell_type": "code",
   "execution_count": 64,
   "metadata": {},
   "outputs": [
    {
     "name": "stdout",
     "output_type": "stream",
     "text": [
      "Train on 500 samples, validate on 100 samples\n",
      "Epoch 1/1000\n"
     ]
    },
    {
     "ename": "ResourceExhaustedError",
     "evalue": "2 root error(s) found.\n  (0) Resource exhausted: OOM when allocating tensor with shape[500,64,140,27] and type float on /job:localhost/replica:0/task:0/device:GPU:0 by allocator GPU_0_bfc\n\t [[{{node training_5/Adam/gradients/zeros_25}}]]\nHint: If you want to see a list of allocated tensors when OOM happens, add report_tensor_allocations_upon_oom to RunOptions for current allocation info.\n\n\t [[loss_5/mul/_1585]]\nHint: If you want to see a list of allocated tensors when OOM happens, add report_tensor_allocations_upon_oom to RunOptions for current allocation info.\n\n  (1) Resource exhausted: OOM when allocating tensor with shape[500,64,140,27] and type float on /job:localhost/replica:0/task:0/device:GPU:0 by allocator GPU_0_bfc\n\t [[{{node training_5/Adam/gradients/zeros_25}}]]\nHint: If you want to see a list of allocated tensors when OOM happens, add report_tensor_allocations_upon_oom to RunOptions for current allocation info.\n\n0 successful operations.\n0 derived errors ignored.",
     "output_type": "error",
     "traceback": [
      "\u001b[1;31m---------------------------------------------------------------------------\u001b[0m",
      "\u001b[1;31mResourceExhaustedError\u001b[0m                    Traceback (most recent call last)",
      "\u001b[1;32m<ipython-input-64-d7b0959125e5>\u001b[0m in \u001b[0;36m<module>\u001b[1;34m\u001b[0m\n\u001b[0;32m      4\u001b[0m                     \u001b[0mverbose\u001b[0m\u001b[1;33m=\u001b[0m\u001b[1;36m1\u001b[0m\u001b[1;33m,\u001b[0m\u001b[1;33m\u001b[0m\u001b[1;33m\u001b[0m\u001b[0m\n\u001b[0;32m      5\u001b[0m                     \u001b[0mvalidation_data\u001b[0m\u001b[1;33m=\u001b[0m\u001b[1;33m(\u001b[0m\u001b[0mX_test\u001b[0m\u001b[1;33m[\u001b[0m\u001b[1;33m:\u001b[0m\u001b[1;36m100\u001b[0m\u001b[1;33m]\u001b[0m\u001b[1;33m,\u001b[0m \u001b[0mX_test\u001b[0m\u001b[1;33m[\u001b[0m\u001b[1;33m:\u001b[0m\u001b[1;36m100\u001b[0m\u001b[1;33m]\u001b[0m\u001b[1;33m)\u001b[0m\u001b[1;33m,\u001b[0m\u001b[1;33m\u001b[0m\u001b[1;33m\u001b[0m\u001b[0m\n\u001b[1;32m----> 6\u001b[1;33m                     shuffle=True)\n\u001b[0m",
      "\u001b[1;32m~\\Anaconda3\\lib\\site-packages\\keras\\engine\\training.py\u001b[0m in \u001b[0;36mfit\u001b[1;34m(self, x, y, batch_size, epochs, verbose, callbacks, validation_split, validation_data, shuffle, class_weight, sample_weight, initial_epoch, steps_per_epoch, validation_steps, **kwargs)\u001b[0m\n\u001b[0;32m   1037\u001b[0m                                         \u001b[0minitial_epoch\u001b[0m\u001b[1;33m=\u001b[0m\u001b[0minitial_epoch\u001b[0m\u001b[1;33m,\u001b[0m\u001b[1;33m\u001b[0m\u001b[1;33m\u001b[0m\u001b[0m\n\u001b[0;32m   1038\u001b[0m                                         \u001b[0msteps_per_epoch\u001b[0m\u001b[1;33m=\u001b[0m\u001b[0msteps_per_epoch\u001b[0m\u001b[1;33m,\u001b[0m\u001b[1;33m\u001b[0m\u001b[1;33m\u001b[0m\u001b[0m\n\u001b[1;32m-> 1039\u001b[1;33m                                         validation_steps=validation_steps)\n\u001b[0m\u001b[0;32m   1040\u001b[0m \u001b[1;33m\u001b[0m\u001b[0m\n\u001b[0;32m   1041\u001b[0m     def evaluate(self, x=None, y=None,\n",
      "\u001b[1;32m~\\Anaconda3\\lib\\site-packages\\keras\\engine\\training_arrays.py\u001b[0m in \u001b[0;36mfit_loop\u001b[1;34m(model, f, ins, out_labels, batch_size, epochs, verbose, callbacks, val_f, val_ins, shuffle, callback_metrics, initial_epoch, steps_per_epoch, validation_steps)\u001b[0m\n\u001b[0;32m    197\u001b[0m                     \u001b[0mins_batch\u001b[0m\u001b[1;33m[\u001b[0m\u001b[0mi\u001b[0m\u001b[1;33m]\u001b[0m \u001b[1;33m=\u001b[0m \u001b[0mins_batch\u001b[0m\u001b[1;33m[\u001b[0m\u001b[0mi\u001b[0m\u001b[1;33m]\u001b[0m\u001b[1;33m.\u001b[0m\u001b[0mtoarray\u001b[0m\u001b[1;33m(\u001b[0m\u001b[1;33m)\u001b[0m\u001b[1;33m\u001b[0m\u001b[1;33m\u001b[0m\u001b[0m\n\u001b[0;32m    198\u001b[0m \u001b[1;33m\u001b[0m\u001b[0m\n\u001b[1;32m--> 199\u001b[1;33m                 \u001b[0mouts\u001b[0m \u001b[1;33m=\u001b[0m \u001b[0mf\u001b[0m\u001b[1;33m(\u001b[0m\u001b[0mins_batch\u001b[0m\u001b[1;33m)\u001b[0m\u001b[1;33m\u001b[0m\u001b[1;33m\u001b[0m\u001b[0m\n\u001b[0m\u001b[0;32m    200\u001b[0m                 \u001b[0mouts\u001b[0m \u001b[1;33m=\u001b[0m \u001b[0mto_list\u001b[0m\u001b[1;33m(\u001b[0m\u001b[0mouts\u001b[0m\u001b[1;33m)\u001b[0m\u001b[1;33m\u001b[0m\u001b[1;33m\u001b[0m\u001b[0m\n\u001b[0;32m    201\u001b[0m                 \u001b[1;32mfor\u001b[0m \u001b[0ml\u001b[0m\u001b[1;33m,\u001b[0m \u001b[0mo\u001b[0m \u001b[1;32min\u001b[0m \u001b[0mzip\u001b[0m\u001b[1;33m(\u001b[0m\u001b[0mout_labels\u001b[0m\u001b[1;33m,\u001b[0m \u001b[0mouts\u001b[0m\u001b[1;33m)\u001b[0m\u001b[1;33m:\u001b[0m\u001b[1;33m\u001b[0m\u001b[1;33m\u001b[0m\u001b[0m\n",
      "\u001b[1;32m~\\Anaconda3\\lib\\site-packages\\keras\\backend\\tensorflow_backend.py\u001b[0m in \u001b[0;36m__call__\u001b[1;34m(self, inputs)\u001b[0m\n\u001b[0;32m   2713\u001b[0m                 \u001b[1;32mreturn\u001b[0m \u001b[0mself\u001b[0m\u001b[1;33m.\u001b[0m\u001b[0m_legacy_call\u001b[0m\u001b[1;33m(\u001b[0m\u001b[0minputs\u001b[0m\u001b[1;33m)\u001b[0m\u001b[1;33m\u001b[0m\u001b[1;33m\u001b[0m\u001b[0m\n\u001b[0;32m   2714\u001b[0m \u001b[1;33m\u001b[0m\u001b[0m\n\u001b[1;32m-> 2715\u001b[1;33m             \u001b[1;32mreturn\u001b[0m \u001b[0mself\u001b[0m\u001b[1;33m.\u001b[0m\u001b[0m_call\u001b[0m\u001b[1;33m(\u001b[0m\u001b[0minputs\u001b[0m\u001b[1;33m)\u001b[0m\u001b[1;33m\u001b[0m\u001b[1;33m\u001b[0m\u001b[0m\n\u001b[0m\u001b[0;32m   2716\u001b[0m         \u001b[1;32melse\u001b[0m\u001b[1;33m:\u001b[0m\u001b[1;33m\u001b[0m\u001b[1;33m\u001b[0m\u001b[0m\n\u001b[0;32m   2717\u001b[0m             \u001b[1;32mif\u001b[0m \u001b[0mpy_any\u001b[0m\u001b[1;33m(\u001b[0m\u001b[0mis_tensor\u001b[0m\u001b[1;33m(\u001b[0m\u001b[0mx\u001b[0m\u001b[1;33m)\u001b[0m \u001b[1;32mfor\u001b[0m \u001b[0mx\u001b[0m \u001b[1;32min\u001b[0m \u001b[0minputs\u001b[0m\u001b[1;33m)\u001b[0m\u001b[1;33m:\u001b[0m\u001b[1;33m\u001b[0m\u001b[1;33m\u001b[0m\u001b[0m\n",
      "\u001b[1;32m~\\Anaconda3\\lib\\site-packages\\keras\\backend\\tensorflow_backend.py\u001b[0m in \u001b[0;36m_call\u001b[1;34m(self, inputs)\u001b[0m\n\u001b[0;32m   2673\u001b[0m             \u001b[0mfetched\u001b[0m \u001b[1;33m=\u001b[0m \u001b[0mself\u001b[0m\u001b[1;33m.\u001b[0m\u001b[0m_callable_fn\u001b[0m\u001b[1;33m(\u001b[0m\u001b[1;33m*\u001b[0m\u001b[0marray_vals\u001b[0m\u001b[1;33m,\u001b[0m \u001b[0mrun_metadata\u001b[0m\u001b[1;33m=\u001b[0m\u001b[0mself\u001b[0m\u001b[1;33m.\u001b[0m\u001b[0mrun_metadata\u001b[0m\u001b[1;33m)\u001b[0m\u001b[1;33m\u001b[0m\u001b[1;33m\u001b[0m\u001b[0m\n\u001b[0;32m   2674\u001b[0m         \u001b[1;32melse\u001b[0m\u001b[1;33m:\u001b[0m\u001b[1;33m\u001b[0m\u001b[1;33m\u001b[0m\u001b[0m\n\u001b[1;32m-> 2675\u001b[1;33m             \u001b[0mfetched\u001b[0m \u001b[1;33m=\u001b[0m \u001b[0mself\u001b[0m\u001b[1;33m.\u001b[0m\u001b[0m_callable_fn\u001b[0m\u001b[1;33m(\u001b[0m\u001b[1;33m*\u001b[0m\u001b[0marray_vals\u001b[0m\u001b[1;33m)\u001b[0m\u001b[1;33m\u001b[0m\u001b[1;33m\u001b[0m\u001b[0m\n\u001b[0m\u001b[0;32m   2676\u001b[0m         \u001b[1;32mreturn\u001b[0m \u001b[0mfetched\u001b[0m\u001b[1;33m[\u001b[0m\u001b[1;33m:\u001b[0m\u001b[0mlen\u001b[0m\u001b[1;33m(\u001b[0m\u001b[0mself\u001b[0m\u001b[1;33m.\u001b[0m\u001b[0moutputs\u001b[0m\u001b[1;33m)\u001b[0m\u001b[1;33m]\u001b[0m\u001b[1;33m\u001b[0m\u001b[1;33m\u001b[0m\u001b[0m\n\u001b[0;32m   2677\u001b[0m \u001b[1;33m\u001b[0m\u001b[0m\n",
      "\u001b[1;32m~\\Anaconda3\\lib\\site-packages\\tensorflow_core\\python\\client\\session.py\u001b[0m in \u001b[0;36m__call__\u001b[1;34m(self, *args, **kwargs)\u001b[0m\n\u001b[0;32m   1470\u001b[0m         ret = tf_session.TF_SessionRunCallable(self._session._session,\n\u001b[0;32m   1471\u001b[0m                                                \u001b[0mself\u001b[0m\u001b[1;33m.\u001b[0m\u001b[0m_handle\u001b[0m\u001b[1;33m,\u001b[0m \u001b[0margs\u001b[0m\u001b[1;33m,\u001b[0m\u001b[1;33m\u001b[0m\u001b[1;33m\u001b[0m\u001b[0m\n\u001b[1;32m-> 1472\u001b[1;33m                                                run_metadata_ptr)\n\u001b[0m\u001b[0;32m   1473\u001b[0m         \u001b[1;32mif\u001b[0m \u001b[0mrun_metadata\u001b[0m\u001b[1;33m:\u001b[0m\u001b[1;33m\u001b[0m\u001b[1;33m\u001b[0m\u001b[0m\n\u001b[0;32m   1474\u001b[0m           \u001b[0mproto_data\u001b[0m \u001b[1;33m=\u001b[0m \u001b[0mtf_session\u001b[0m\u001b[1;33m.\u001b[0m\u001b[0mTF_GetBuffer\u001b[0m\u001b[1;33m(\u001b[0m\u001b[0mrun_metadata_ptr\u001b[0m\u001b[1;33m)\u001b[0m\u001b[1;33m\u001b[0m\u001b[1;33m\u001b[0m\u001b[0m\n",
      "\u001b[1;31mResourceExhaustedError\u001b[0m: 2 root error(s) found.\n  (0) Resource exhausted: OOM when allocating tensor with shape[500,64,140,27] and type float on /job:localhost/replica:0/task:0/device:GPU:0 by allocator GPU_0_bfc\n\t [[{{node training_5/Adam/gradients/zeros_25}}]]\nHint: If you want to see a list of allocated tensors when OOM happens, add report_tensor_allocations_upon_oom to RunOptions for current allocation info.\n\n\t [[loss_5/mul/_1585]]\nHint: If you want to see a list of allocated tensors when OOM happens, add report_tensor_allocations_upon_oom to RunOptions for current allocation info.\n\n  (1) Resource exhausted: OOM when allocating tensor with shape[500,64,140,27] and type float on /job:localhost/replica:0/task:0/device:GPU:0 by allocator GPU_0_bfc\n\t [[{{node training_5/Adam/gradients/zeros_25}}]]\nHint: If you want to see a list of allocated tensors when OOM happens, add report_tensor_allocations_upon_oom to RunOptions for current allocation info.\n\n0 successful operations.\n0 derived errors ignored."
     ]
    }
   ],
   "source": [
    "history = model.fit(X_train[:500], X_train[:500],\n",
    "                    batch_size=1024,\n",
    "                    epochs=1000,\n",
    "                    verbose=1,\n",
    "                    validation_data=(X_test[:100], X_test[:100]),\n",
    "                    shuffle=True)"
   ]
  },
  {
   "cell_type": "code",
   "execution_count": 55,
   "metadata": {},
   "outputs": [],
   "source": [
    "test_img = X_test[1].reshape(140, 27)"
   ]
  },
  {
   "cell_type": "code",
   "execution_count": 56,
   "metadata": {},
   "outputs": [
    {
     "data": {
      "text/plain": [
       "<matplotlib.image.AxesImage at 0x287b8e165c8>"
      ]
     },
     "execution_count": 56,
     "metadata": {},
     "output_type": "execute_result"
    },
    {
     "data": {
      "image/png": "[encoded data removed]",
      "text/plain": [
       "<Figure size 432x288 with 1 Axes>"
      ]
     },
     "metadata": {
      "needs_background": "light"
     },
     "output_type": "display_data"
    }
   ],
   "source": [
    "plt.imshow(test_img)"
   ]
  },
  {
   "cell_type": "code",
   "execution_count": 57,
   "metadata": {},
   "outputs": [],
   "source": [
    "result_img = model.predict(X_test[1].reshape(1, 140, 27, 1))"
   ]
  },
  {
   "cell_type": "code",
   "execution_count": 58,
   "metadata": {},
   "outputs": [
    {
     "data": {
      "text/plain": [
       "<matplotlib.image.AxesImage at 0x287b8e6f148>"
      ]
     },
     "execution_count": 58,
     "metadata": {},
     "output_type": "execute_result"
    },
    {
     "data": {
      "image/png": "[encoded data removed]",
      "text/plain": [
       "<Figure size 432x288 with 1 Axes>"
      ]
     },
     "metadata": {
      "needs_background": "light"
     },
     "output_type": "display_data"
    }
   ],
   "source": [
    "plt.imshow(result_img.reshape(140, 27))"
   ]
  },
  {
   "cell_type": "code",
   "execution_count": null,
   "metadata": {},
   "outputs": [],
   "source": []
  }
 ],
 "metadata": {
  "kernelspec": {
   "display_name": "Python 3",
   "language": "python",
   "name": "python3"
  },
  "language_info": {
   "codemirror_mode": {
    "name": "ipython",
    "version": 3
   },
   "file_extension": ".py",
   "mimetype": "text/x-python",
   "name": "python",
   "nbconvert_exporter": "python",
   "pygments_lexer": "ipython3",
   "version": "3.7.4"
  }
 },
 "nbformat": 4,
 "nbformat_minor": 2
}
