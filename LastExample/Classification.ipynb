{
 "cells": [
  {
   "cell_type": "code",
   "execution_count": 276,
   "metadata": {},
   "outputs": [],
   "source": [
    "import numpy as np\n",
    "import pandas as pd\n",
    "import seaborn as sns\n",
    "from sklearn.linear_model import LinearRegression\n",
    "import matplotlib.pyplot as plt\n",
    "from sklearn.model_selection import train_test_split\n",
    "from sklearn.feature_selection import RFE\n",
    "from sklearn.metrics import mean_squared_error, r2_score\n",
    "import os, fnmatch\n",
    "from sklearn.cluster import KMeans\n",
    "from sklearn.preprocessing import PolynomialFeatures \n",
    "import seaborn as sns\n",
    "%matplotlib inline\n",
    "from keras.layers import Input, Dense\n",
    "from keras.models import Model\n",
    "# from keras.op\n",
    "from keras import optimizers\n",
    "from keras import regularizers\n",
    "from PIL import Image\n",
    "from sklearn import preprocessing\n",
    "from sklearn.model_selection import train_test_split\n",
    "\n",
    "import keras\n",
    "from keras.models import load_model\n",
    "from keras.datasets import cifar10\n",
    "from keras.layers import Input, Dense, Conv2D, MaxPooling2D, UpSampling2D, BatchNormalization, Activation\n",
    "from keras.models import Model\n",
    "from keras.callbacks import EarlyStopping, ModelCheckpoint\n",
    "from keras.optimizers import Adam\n",
    "import os\n",
    "import pickle\n",
    "import numpy as np"
   ]
  },
  {
   "cell_type": "code",
   "execution_count": 277,
   "metadata": {},
   "outputs": [],
   "source": [
    "data = pd.read_csv(\"DFBS_Unique.csv\");"
   ]
  },
  {
   "cell_type": "code",
   "execution_count": 278,
   "metadata": {},
   "outputs": [
    {
     "data": {
      "text/html": [
       "<div>\n",
       "<style scoped>\n",
       "    .dataframe tbody tr th:only-of-type {\n",
       "        vertical-align: middle;\n",
       "    }\n",
       "\n",
       "    .dataframe tbody tr th {\n",
       "        vertical-align: top;\n",
       "    }\n",
       "\n",
       "    .dataframe thead th {\n",
       "        text-align: right;\n",
       "    }\n",
       "</style>\n",
       "<table border=\"1\" class=\"dataframe\">\n",
       "  <thead>\n",
       "    <tr style=\"text-align: right;\">\n",
       "      <th></th>\n",
       "      <th>Unnamed: 0</th>\n",
       "      <th>_Glon</th>\n",
       "      <th>_Glat</th>\n",
       "      <th>_RAJ2000</th>\n",
       "      <th>_DEJ2000</th>\n",
       "      <th>Cl</th>\n",
       "      <th>Name</th>\n",
       "      <th>Vmag</th>\n",
       "      <th>z</th>\n",
       "      <th>plate</th>\n",
       "      <th>dx</th>\n",
       "      <th>dy</th>\n",
       "    </tr>\n",
       "  </thead>\n",
       "  <tbody>\n",
       "    <tr>\n",
       "      <td>0</td>\n",
       "      <td>0</td>\n",
       "      <td>deg</td>\n",
       "      <td>deg</td>\n",
       "      <td>deg</td>\n",
       "      <td>deg</td>\n",
       "      <td>NaN</td>\n",
       "      <td>NaN</td>\n",
       "      <td>mag</td>\n",
       "      <td>NaN</td>\n",
       "      <td>NaN</td>\n",
       "      <td>0</td>\n",
       "      <td>0</td>\n",
       "    </tr>\n",
       "    <tr>\n",
       "      <td>1</td>\n",
       "      <td>1</td>\n",
       "      <td>100.174423</td>\n",
       "      <td>-55.203358</td>\n",
       "      <td>0.04875</td>\n",
       "      <td>5.388056</td>\n",
       "      <td>Sy1</td>\n",
       "      <td>RXS J00001+0523</td>\n",
       "      <td>16.4</td>\n",
       "      <td>0.040</td>\n",
       "      <td>fbs0524_cor.fits.hdr</td>\n",
       "      <td>5424</td>\n",
       "      <td>857</td>\n",
       "    </tr>\n",
       "    <tr>\n",
       "      <td>2</td>\n",
       "      <td>2</td>\n",
       "      <td>99.844434</td>\n",
       "      <td>-57.30727</td>\n",
       "      <td>0.61</td>\n",
       "      <td>3.351667</td>\n",
       "      <td>Sy1</td>\n",
       "      <td>MARK 543</td>\n",
       "      <td>14.68</td>\n",
       "      <td>0.026</td>\n",
       "      <td>fbs1173_cor.fits.hdr</td>\n",
       "      <td>3982</td>\n",
       "      <td>5088</td>\n",
       "    </tr>\n",
       "    <tr>\n",
       "      <td>3</td>\n",
       "      <td>3</td>\n",
       "      <td>86.112841</td>\n",
       "      <td>-70.112882</td>\n",
       "      <td>0.88375</td>\n",
       "      <td>-10.744722</td>\n",
       "      <td>Sy1</td>\n",
       "      <td>NGC 7808</td>\n",
       "      <td>15.4</td>\n",
       "      <td>0.029</td>\n",
       "      <td>fbs0874_cor.fits.hdr</td>\n",
       "      <td>2871</td>\n",
       "      <td>555</td>\n",
       "    </tr>\n",
       "    <tr>\n",
       "      <td>4</td>\n",
       "      <td>4</td>\n",
       "      <td>114.304767</td>\n",
       "      <td>-16.638006</td>\n",
       "      <td>1.039583</td>\n",
       "      <td>45.440278</td>\n",
       "      <td>Sy1</td>\n",
       "      <td>RXS J00041+4526</td>\n",
       "      <td>16.9</td>\n",
       "      <td>0.120</td>\n",
       "      <td>fbs1036_cor.fits.hdr</td>\n",
       "      <td>3623</td>\n",
       "      <td>594</td>\n",
       "    </tr>\n",
       "  </tbody>\n",
       "</table>\n",
       "</div>"
      ],
      "text/plain": [
       "   Unnamed: 0       _Glon       _Glat  _RAJ2000    _DEJ2000   Cl  \\\n",
       "0           0         deg         deg       deg         deg  NaN   \n",
       "1           1  100.174423  -55.203358   0.04875    5.388056  Sy1   \n",
       "2           2   99.844434   -57.30727      0.61    3.351667  Sy1   \n",
       "3           3   86.112841  -70.112882   0.88375  -10.744722  Sy1   \n",
       "4           4  114.304767  -16.638006  1.039583   45.440278  Sy1   \n",
       "\n",
       "              Name   Vmag      z                 plate    dx    dy  \n",
       "0              NaN    mag    NaN                   NaN     0     0  \n",
       "1  RXS J00001+0523   16.4  0.040  fbs0524_cor.fits.hdr  5424   857  \n",
       "2         MARK 543  14.68  0.026  fbs1173_cor.fits.hdr  3982  5088  \n",
       "3         NGC 7808   15.4  0.029  fbs0874_cor.fits.hdr  2871   555  \n",
       "4  RXS J00041+4526   16.9  0.120  fbs1036_cor.fits.hdr  3623   594  "
      ]
     },
     "execution_count": 278,
     "metadata": {},
     "output_type": "execute_result"
    }
   ],
   "source": [
    "data.head()"
   ]
  },
  {
   "cell_type": "code",
   "execution_count": 279,
   "metadata": {},
   "outputs": [],
   "source": [
    "all_tiff_files = []\n",
    "listOfFiles = os.listdir('./UClassificationDataCleaned/')\n",
    "pattern = \"*.tiff\"\n",
    "for entry in listOfFiles:\n",
    "    if fnmatch.fnmatch(entry, pattern):\n",
    "            all_tiff_files.append('./UClassificationDataCleaned/'+entry)"
   ]
  },
  {
   "cell_type": "code",
   "execution_count": 280,
   "metadata": {},
   "outputs": [
    {
     "data": {
      "text/plain": [
       "2951"
      ]
     },
     "execution_count": 280,
     "metadata": {},
     "output_type": "execute_result"
    }
   ],
   "source": [
    "len(all_tiff_files)"
   ]
  },
  {
   "cell_type": "code",
   "execution_count": null,
   "metadata": {},
   "outputs": [],
   "source": []
  },
  {
   "cell_type": "code",
   "execution_count": null,
   "metadata": {},
   "outputs": [],
   "source": []
  },
  {
   "cell_type": "code",
   "execution_count": 281,
   "metadata": {},
   "outputs": [],
   "source": [
    "new_index = 0\n",
    "arr_data = []\n",
    "for index, row in data.iterrows():\n",
    "    if index == 0: continue\n",
    "    glon = row[\"_Glon\"]\n",
    "    glat = row[\"_Glat\"]\n",
    "    raj = row[\"_RAJ2000\"]\n",
    "    dej = row[\"_DEJ2000\"]\n",
    "    cl = row[\"Cl\"]\n",
    "    name = row[\"Name\"]\n",
    "    vmag = row[\"Vmag\"]\n",
    "    z = row[\"z\"]\n",
    "    plate = row[\"plate\"]\n",
    "    dx = row[\"dx\"]\n",
    "    dy = row[\"dy\"]\n",
    "    if cl == \"C\" or cl == \"PN\" or cl == \"cv\" : \n",
    "        continue\n",
    "        \n",
    "    for i in range(len(all_tiff_files)):\n",
    "        file_name = (all_tiff_files[i].split(\"/\")[2]).split(\".tiff\")[0];\n",
    "        if name == file_name:\n",
    "            arr_obj = []\n",
    "            arr_obj.append(name)\n",
    "            arr_obj.append(cl)\n",
    "            arr_obj.append(all_tiff_files[i])\n",
    "            arr_data.append(arr_obj)\n",
    "            break\n",
    "#\n",
    "        "
   ]
  },
  {
   "cell_type": "code",
   "execution_count": 282,
   "metadata": {},
   "outputs": [],
   "source": [
    "cl_data = pd.DataFrame(arr_data)"
   ]
  },
  {
   "cell_type": "code",
   "execution_count": 283,
   "metadata": {},
   "outputs": [
    {
     "data": {
      "text/html": [
       "<div>\n",
       "<style scoped>\n",
       "    .dataframe tbody tr th:only-of-type {\n",
       "        vertical-align: middle;\n",
       "    }\n",
       "\n",
       "    .dataframe tbody tr th {\n",
       "        vertical-align: top;\n",
       "    }\n",
       "\n",
       "    .dataframe thead th {\n",
       "        text-align: right;\n",
       "    }\n",
       "</style>\n",
       "<table border=\"1\" class=\"dataframe\">\n",
       "  <thead>\n",
       "    <tr style=\"text-align: right;\">\n",
       "      <th></th>\n",
       "      <th>0</th>\n",
       "      <th>1</th>\n",
       "      <th>2</th>\n",
       "    </tr>\n",
       "  </thead>\n",
       "  <tbody>\n",
       "    <tr>\n",
       "      <td>0</td>\n",
       "      <td>RXS J00001+0523</td>\n",
       "      <td>Sy1</td>\n",
       "      <td>./UClassificationDataCleaned/RXS J00001+0523.tiff</td>\n",
       "    </tr>\n",
       "    <tr>\n",
       "      <td>1</td>\n",
       "      <td>MARK 543</td>\n",
       "      <td>Sy1</td>\n",
       "      <td>./UClassificationDataCleaned/MARK 543.tiff</td>\n",
       "    </tr>\n",
       "    <tr>\n",
       "      <td>2</td>\n",
       "      <td>NGC 7808</td>\n",
       "      <td>Sy1</td>\n",
       "      <td>./UClassificationDataCleaned/NGC 7808.tiff</td>\n",
       "    </tr>\n",
       "    <tr>\n",
       "      <td>3</td>\n",
       "      <td>MARK 335</td>\n",
       "      <td>Sy1</td>\n",
       "      <td>./UClassificationDataCleaned/MARK 335.tiff</td>\n",
       "    </tr>\n",
       "    <tr>\n",
       "      <td>4</td>\n",
       "      <td>MS 00071-0231</td>\n",
       "      <td>Sy1</td>\n",
       "      <td>./UClassificationDataCleaned/MS 00071-0231.tiff</td>\n",
       "    </tr>\n",
       "  </tbody>\n",
       "</table>\n",
       "</div>"
      ],
      "text/plain": [
       "                 0    1                                                  2\n",
       "0  RXS J00001+0523  Sy1  ./UClassificationDataCleaned/RXS J00001+0523.tiff\n",
       "1         MARK 543  Sy1         ./UClassificationDataCleaned/MARK 543.tiff\n",
       "2         NGC 7808  Sy1         ./UClassificationDataCleaned/NGC 7808.tiff\n",
       "3         MARK 335  Sy1         ./UClassificationDataCleaned/MARK 335.tiff\n",
       "4    MS 00071-0231  Sy1    ./UClassificationDataCleaned/MS 00071-0231.tiff"
      ]
     },
     "execution_count": 283,
     "metadata": {},
     "output_type": "execute_result"
    }
   ],
   "source": [
    "cl_data.head()"
   ]
  },
  {
   "cell_type": "code",
   "execution_count": 284,
   "metadata": {},
   "outputs": [
    {
     "data": {
      "text/plain": [
       "sd     989\n",
       "Mrk    526\n",
       "M      452\n",
       "WD     309\n",
       "Sy1    304\n",
       "QSO    273\n",
       "Name: 1, dtype: int64"
      ]
     },
     "execution_count": 284,
     "metadata": {},
     "output_type": "execute_result"
    }
   ],
   "source": [
    "cl_data[1].value_counts()"
   ]
  },
  {
   "cell_type": "code",
   "execution_count": 285,
   "metadata": {},
   "outputs": [],
   "source": [
    "from sklearn import preprocessing\n",
    "le = preprocessing.LabelEncoder()"
   ]
  },
  {
   "cell_type": "code",
   "execution_count": 286,
   "metadata": {},
   "outputs": [],
   "source": [
    "le.fit(cl_data[1])\n",
    "cl_data[1]=le.transform(cl_data[1])"
   ]
  },
  {
   "cell_type": "code",
   "execution_count": 287,
   "metadata": {},
   "outputs": [
    {
     "data": {
      "text/html": [
       "<div>\n",
       "<style scoped>\n",
       "    .dataframe tbody tr th:only-of-type {\n",
       "        vertical-align: middle;\n",
       "    }\n",
       "\n",
       "    .dataframe tbody tr th {\n",
       "        vertical-align: top;\n",
       "    }\n",
       "\n",
       "    .dataframe thead th {\n",
       "        text-align: right;\n",
       "    }\n",
       "</style>\n",
       "<table border=\"1\" class=\"dataframe\">\n",
       "  <thead>\n",
       "    <tr style=\"text-align: right;\">\n",
       "      <th></th>\n",
       "      <th>0</th>\n",
       "      <th>1</th>\n",
       "      <th>2</th>\n",
       "    </tr>\n",
       "  </thead>\n",
       "  <tbody>\n",
       "    <tr>\n",
       "      <td>0</td>\n",
       "      <td>RXS J00001+0523</td>\n",
       "      <td>3</td>\n",
       "      <td>./UClassificationDataCleaned/RXS J00001+0523.tiff</td>\n",
       "    </tr>\n",
       "    <tr>\n",
       "      <td>1</td>\n",
       "      <td>MARK 543</td>\n",
       "      <td>3</td>\n",
       "      <td>./UClassificationDataCleaned/MARK 543.tiff</td>\n",
       "    </tr>\n",
       "    <tr>\n",
       "      <td>2</td>\n",
       "      <td>NGC 7808</td>\n",
       "      <td>3</td>\n",
       "      <td>./UClassificationDataCleaned/NGC 7808.tiff</td>\n",
       "    </tr>\n",
       "    <tr>\n",
       "      <td>3</td>\n",
       "      <td>MARK 335</td>\n",
       "      <td>3</td>\n",
       "      <td>./UClassificationDataCleaned/MARK 335.tiff</td>\n",
       "    </tr>\n",
       "    <tr>\n",
       "      <td>4</td>\n",
       "      <td>MS 00071-0231</td>\n",
       "      <td>3</td>\n",
       "      <td>./UClassificationDataCleaned/MS 00071-0231.tiff</td>\n",
       "    </tr>\n",
       "  </tbody>\n",
       "</table>\n",
       "</div>"
      ],
      "text/plain": [
       "                 0  1                                                  2\n",
       "0  RXS J00001+0523  3  ./UClassificationDataCleaned/RXS J00001+0523.tiff\n",
       "1         MARK 543  3         ./UClassificationDataCleaned/MARK 543.tiff\n",
       "2         NGC 7808  3         ./UClassificationDataCleaned/NGC 7808.tiff\n",
       "3         MARK 335  3         ./UClassificationDataCleaned/MARK 335.tiff\n",
       "4    MS 00071-0231  3    ./UClassificationDataCleaned/MS 00071-0231.tiff"
      ]
     },
     "execution_count": 287,
     "metadata": {},
     "output_type": "execute_result"
    }
   ],
   "source": [
    "cl_data.head()"
   ]
  },
  {
   "cell_type": "code",
   "execution_count": 288,
   "metadata": {},
   "outputs": [
    {
     "data": {
      "text/plain": [
       "5    989\n",
       "1    526\n",
       "0    452\n",
       "4    309\n",
       "3    304\n",
       "2    273\n",
       "Name: 1, dtype: int64"
      ]
     },
     "execution_count": 288,
     "metadata": {},
     "output_type": "execute_result"
    }
   ],
   "source": [
    "cl_data[1].value_counts()"
   ]
  },
  {
   "cell_type": "code",
   "execution_count": 289,
   "metadata": {},
   "outputs": [],
   "source": [
    "X = cl_data.iloc[:, 2]\n",
    "Y = cl_data.iloc[:, 1]"
   ]
  },
  {
   "cell_type": "code",
   "execution_count": 290,
   "metadata": {},
   "outputs": [],
   "source": [
    "X = X.values\n",
    "Y = Y.values"
   ]
  },
  {
   "cell_type": "code",
   "execution_count": 291,
   "metadata": {},
   "outputs": [],
   "source": [
    "images_list = []\n",
    "max_width = 0\n",
    "max_height = 0\n",
    "ind = 0\n",
    "for i in range(len(X)):\n",
    "    im = Image.open(X[i])\n",
    "    arr = np.array(im)#.flatten()\n",
    "    \n",
    "    arr=(arr-arr.min())/(arr.max()-arr.min())\n",
    "    #arr = arr / 0xffff\n",
    "    s = arr.shape\n",
    "    if s[0] > max_height:\n",
    "        max_height = s[0]\n",
    "    if s[1] > max_width:\n",
    "        max_width = s[1]\n",
    "        ind = i\n",
    "    images_list.append(arr)"
   ]
  },
  {
   "cell_type": "code",
   "execution_count": 292,
   "metadata": {},
   "outputs": [
    {
     "name": "stdout",
     "output_type": "stream",
     "text": [
      "20 140\n"
     ]
    }
   ],
   "source": [
    "print(max_width, max_height)"
   ]
  },
  {
   "cell_type": "code",
   "execution_count": 293,
   "metadata": {},
   "outputs": [],
   "source": [
    "for i in range(len(images_list)):\n",
    "    s = images_list[i].shape\n",
    "    d_width = (max_width - s[1])\n",
    "    d_height = (max_height - s[0])\n",
    "    \n",
    "    d_top = int(d_height / 2)\n",
    "    d_bottom = int(d_height - d_top)\n",
    "    \n",
    "    d_left = int(d_width / 2)\n",
    "    d_right = int(d_width - d_left)\n",
    "    #print(d_top, d_bottom, d_left, d_right)\n",
    "    \n",
    "    arr = images_list[i]\n",
    "    for l in range(d_left):\n",
    "        arr = np.insert(arr, 0, 0, axis = 1)\n",
    "    \n",
    "    for r in range(d_right):\n",
    "        b = np.zeros((s[0],1))\n",
    "        arr = np.append(arr, b, axis = 1)\n",
    "    \n",
    "    for t in range(d_top):\n",
    "        arr = np.insert(arr, 0, 0, axis = 0)\n",
    "    \n",
    "    for b in range(d_bottom):\n",
    "        b = np.zeros((1, arr.shape[1],))\n",
    "        arr = np.append(arr, b, axis = 0)\n",
    "    \n",
    "    images_list[i] = arr#.flatten()"
   ]
  },
  {
   "cell_type": "code",
   "execution_count": 294,
   "metadata": {},
   "outputs": [
    {
     "name": "stdout",
     "output_type": "stream",
     "text": [
      "20 140\n"
     ]
    },
    {
     "data": {
      "text/plain": [
       "<matplotlib.image.AxesImage at 0x25d3a35aec8>"
      ]
     },
     "execution_count": 294,
     "metadata": {},
     "output_type": "execute_result"
    },
    {
     "data": {
      "image/png": "[encoded data removed]",
      "text/plain": [
       "<Figure size 432x288 with 1 Axes>"
      ]
     },
     "metadata": {
      "needs_background": "light"
     },
     "output_type": "display_data"
    }
   ],
   "source": [
    "width = max_width\n",
    "height = max_height\n",
    "print(width, height)\n",
    "plt.imshow(images_list[12])"
   ]
  },
  {
   "cell_type": "code",
   "execution_count": 295,
   "metadata": {},
   "outputs": [
    {
     "name": "stdout",
     "output_type": "stream",
     "text": [
      "[name: \"/device:CPU:0\"\n",
      "device_type: \"CPU\"\n",
      "memory_limit: 268435456\n",
      "locality {\n",
      "}\n",
      "incarnation: 3219887759534250492\n",
      ", name: \"/device:GPU:0\"\n",
      "device_type: \"GPU\"\n",
      "memory_limit: 1441641267\n",
      "locality {\n",
      "  bus_id: 1\n",
      "  links {\n",
      "  }\n",
      "}\n",
      "incarnation: 10034078363121410156\n",
      "physical_device_desc: \"device: 0, name: GeForce GTX 750 Ti, pci bus id: 0000:01:00.0, compute capability: 5.0\"\n",
      "]\n"
     ]
    }
   ],
   "source": [
    "from tensorflow.python.client import device_lib\n",
    "import tensorflow as tf\n",
    "import keras\n",
    "print(device_lib.list_local_devices())\n",
    "\n",
    "config = tf.ConfigProto( device_count = {'GPU': 1 , 'CPU': 8} ) \n",
    "sess = tf.Session(config=config) \n",
    "keras.backend.set_session(sess)"
   ]
  },
  {
   "cell_type": "code",
   "execution_count": 299,
   "metadata": {},
   "outputs": [],
   "source": [
    "images_np = np.array(images_list)\n",
    "file_names_np = np.array(all_tiff_files)"
   ]
  },
  {
   "cell_type": "code",
   "execution_count": 300,
   "metadata": {},
   "outputs": [],
   "source": [
    "X_train, X_test, Y_train, Y_test = train_test_split(images_np, Y, test_size=0.2, random_state=100, stratify=Y)\n",
    "Y_train = keras.utils.to_categorical(Y_train, 6)\n",
    "Y_test = keras.utils.to_categorical(Y_test, 6)"
   ]
  },
  {
   "cell_type": "code",
   "execution_count": 301,
   "metadata": {},
   "outputs": [],
   "source": [
    "X_train = X_train.reshape(X_train.shape[0], 140, 20, 1)\n",
    "X_test = X_test.reshape(X_test.shape[0], 140, 20, 1)\n",
    "input_shape = (140, 20, 1)"
   ]
  },
  {
   "cell_type": "code",
   "execution_count": 302,
   "metadata": {},
   "outputs": [
    {
     "name": "stdout",
     "output_type": "stream",
     "text": [
      "x_train shape: (2282, 140, 20, 1)\n",
      "2282 train samples\n",
      "571 test samples\n"
     ]
    }
   ],
   "source": [
    "print('x_train shape:', X_train.shape)\n",
    "print(X_train.shape[0], 'train samples')\n",
    "print(X_test.shape[0], 'test samples')"
   ]
  },
  {
   "cell_type": "code",
   "execution_count": 404,
   "metadata": {},
   "outputs": [],
   "source": [
    "from keras.models import Sequential\n",
    "from keras.layers import Dense, Conv2D, Dropout, Flatten, MaxPooling2D\n",
    "\n",
    "model = Sequential()\n",
    "model.add(Conv2D(128, kernel_size=(3,3), input_shape=input_shape, padding=\"same\"))\n",
    "model.add(MaxPooling2D(pool_size=(3, 1)))\n",
    "\n",
    "model.add(Conv2D(64, (3, 3), padding=\"same\"))\n",
    "model.add(Activation('relu'))\n",
    "model.add(MaxPooling2D(pool_size=(3, 1)))\n",
    "\n",
    "model.add(Conv2D(32, (3, 3), padding=\"same\"))\n",
    "model.add(Activation('relu'))\n",
    "model.add(MaxPooling2D(pool_size=(3, 4)))\n",
    "\n",
    "model.add(Flatten()) # Flattening the 2D arrays for fully connected layers\n",
    "model.add(Dense(128, activation=tf.nn.relu))\n",
    "model.add(Dropout(0.5))\n",
    "model.add(Dense(6,activation=tf.nn.softmax))"
   ]
  },
  {
   "cell_type": "code",
   "execution_count": null,
   "metadata": {},
   "outputs": [],
   "source": [
    "#model.compile(optimizer='adam', \n",
    "#              loss='sparse_categorical_crossentropy', \n",
    "#              metrics=['accuracy'])\n",
    "#model.fit(x=x_train,y=y_train, epochs=10)"
   ]
  },
  {
   "cell_type": "code",
   "execution_count": 221,
   "metadata": {},
   "outputs": [],
   "source": [
    "from keras.regularizers import l2\n",
    "from keras.regularizers import l1\n",
    "from keras.layers import Dropout\n",
    "inpu_dim = X_train.shape[1]\n",
    "h_1 = 2048\n",
    "h_2 = 1024\n",
    "h_3 = 512\n",
    "out_shape = 6\n",
    "\n",
    "input_vect = Input(shape = (inpu_dim,))\n",
    "x = BatchNormalization()(input_vect)\n",
    "x = Dropout(0.5)(x)\n",
    "x = Dense(h_1, activation=\"relu\")(x)\n",
    "x = BatchNormalization()(x)\n",
    "x = Dropout(0.5)(x)\n",
    "x = Dense(h_2, activation=\"relu\")(x)\n",
    "x = BatchNormalization()(x)\n",
    "x = Dropout(0.5)(x)\n",
    "x = Dense(h_3, activation=\"relu\")(x)\n",
    "x = BatchNormalization()(x)\n",
    "x = Dropout(0.5)(x)\n",
    "encoded = Dense(out_shape, activation='softmax')(x)\n",
    "\n",
    "encoder = Model(input_vect, encoded)"
   ]
  },
  {
   "cell_type": "code",
   "execution_count": 405,
   "metadata": {},
   "outputs": [
    {
     "name": "stdout",
     "output_type": "stream",
     "text": [
      "_________________________________________________________________\n",
      "Layer (type)                 Output Shape              Param #   \n",
      "=================================================================\n",
      "conv2d_24 (Conv2D)           (None, 140, 20, 128)      1280      \n",
      "_________________________________________________________________\n",
      "max_pooling2d_24 (MaxPooling (None, 46, 20, 128)       0         \n",
      "_________________________________________________________________\n",
      "conv2d_25 (Conv2D)           (None, 46, 20, 64)        73792     \n",
      "_________________________________________________________________\n",
      "activation_9 (Activation)    (None, 46, 20, 64)        0         \n",
      "_________________________________________________________________\n",
      "max_pooling2d_25 (MaxPooling (None, 15, 20, 64)        0         \n",
      "_________________________________________________________________\n",
      "conv2d_26 (Conv2D)           (None, 15, 20, 32)        18464     \n",
      "_________________________________________________________________\n",
      "activation_10 (Activation)   (None, 15, 20, 32)        0         \n",
      "_________________________________________________________________\n",
      "max_pooling2d_26 (MaxPooling (None, 5, 5, 32)          0         \n",
      "_________________________________________________________________\n",
      "flatten_15 (Flatten)         (None, 800)               0         \n",
      "_________________________________________________________________\n",
      "dense_45 (Dense)             (None, 128)               102528    \n",
      "_________________________________________________________________\n",
      "dropout_31 (Dropout)         (None, 128)               0         \n",
      "_________________________________________________________________\n",
      "dense_46 (Dense)             (None, 6)                 774       \n",
      "=================================================================\n",
      "Total params: 196,838\n",
      "Trainable params: 196,838\n",
      "Non-trainable params: 0\n",
      "_________________________________________________________________\n"
     ]
    }
   ],
   "source": [
    "model.summary()"
   ]
  },
  {
   "cell_type": "code",
   "execution_count": 406,
   "metadata": {},
   "outputs": [],
   "source": [
    "#image data generator keras\n",
    "cw = {0:1, 1:1, 2:4, 3:1, 4:4, 5:1}\n",
    "adadelta = optimizers.Adadelta(lr=0.1, rho=0.95)\n",
    "model.compile(optimizer=adadelta , loss='binary_crossentropy', metrics=['accuracy'])"
   ]
  },
  {
   "cell_type": "code",
   "execution_count": 407,
   "metadata": {},
   "outputs": [
    {
     "name": "stdout",
     "output_type": "stream",
     "text": [
      "Train on 2282 samples, validate on 571 samples\n",
      "Epoch 1/100\n",
      "2282/2282 [==============================] - 5s 2ms/step - loss: 0.7180 - acc: 0.8333 - val_loss: 0.4533 - val_acc: 0.8333\n",
      "Epoch 2/100\n",
      "2282/2282 [==============================] - 2s 884us/step - loss: 0.6961 - acc: 0.8333 - val_loss: 0.4582 - val_acc: 0.8333\n",
      "Epoch 3/100\n",
      "2282/2282 [==============================] - 2s 900us/step - loss: 0.6860 - acc: 0.8330 - val_loss: 0.4474 - val_acc: 0.8333\n",
      "Epoch 4/100\n",
      "2282/2282 [==============================] - 2s 909us/step - loss: 0.6783 - acc: 0.8333 - val_loss: 0.4478 - val_acc: 0.8333\n",
      "Epoch 5/100\n",
      "2282/2282 [==============================] - 2s 906us/step - loss: 0.6692 - acc: 0.8328 - val_loss: 0.4432 - val_acc: 0.8330\n",
      "Epoch 6/100\n",
      "2282/2282 [==============================] - 2s 905us/step - loss: 0.6592 - acc: 0.8338 - val_loss: 0.4225 - val_acc: 0.8342\n",
      "Epoch 7/100\n",
      "2282/2282 [==============================] - 2s 903us/step - loss: 0.6461 - acc: 0.8382 - val_loss: 0.4073 - val_acc: 0.8403\n",
      "Epoch 8/100\n",
      "2282/2282 [==============================] - 2s 905us/step - loss: 0.6323 - acc: 0.8394 - val_loss: 0.3984 - val_acc: 0.8479\n",
      "Epoch 9/100\n",
      "2282/2282 [==============================] - 2s 908us/step - loss: 0.6238 - acc: 0.8403 - val_loss: 0.3918 - val_acc: 0.8441\n",
      "Epoch 10/100\n",
      "2282/2282 [==============================] - 2s 901us/step - loss: 0.6148 - acc: 0.8437 - val_loss: 0.3907 - val_acc: 0.8435\n",
      "Epoch 11/100\n",
      "2282/2282 [==============================] - 2s 883us/step - loss: 0.6026 - acc: 0.8445 - val_loss: 0.3680 - val_acc: 0.8535\n",
      "Epoch 12/100\n",
      "2282/2282 [==============================] - 2s 885us/step - loss: 0.5980 - acc: 0.8456 - val_loss: 0.3848 - val_acc: 0.8424\n",
      "Epoch 13/100\n",
      "2282/2282 [==============================] - 2s 899us/step - loss: 0.5946 - acc: 0.8457 - val_loss: 0.3747 - val_acc: 0.8482\n",
      "Epoch 14/100\n",
      "2282/2282 [==============================] - 2s 907us/step - loss: 0.5765 - acc: 0.8486 - val_loss: 0.3666 - val_acc: 0.8473\n",
      "Epoch 15/100\n",
      "2282/2282 [==============================] - 2s 921us/step - loss: 0.5824 - acc: 0.8471 - val_loss: 0.3791 - val_acc: 0.8427\n",
      "Epoch 16/100\n",
      "2282/2282 [==============================] - 2s 909us/step - loss: 0.5790 - acc: 0.8456 - val_loss: 0.3541 - val_acc: 0.8494\n",
      "Epoch 17/100\n",
      "2282/2282 [==============================] - 2s 906us/step - loss: 0.5740 - acc: 0.8485 - val_loss: 0.3596 - val_acc: 0.8508\n",
      "Epoch 18/100\n",
      "2282/2282 [==============================] - 2s 907us/step - loss: 0.5730 - acc: 0.8474 - val_loss: 0.3543 - val_acc: 0.8508\n",
      "Epoch 19/100\n",
      "2282/2282 [==============================] - 2s 914us/step - loss: 0.5628 - acc: 0.8512 - val_loss: 0.3498 - val_acc: 0.8520\n",
      "Epoch 20/100\n",
      "2282/2282 [==============================] - 2s 916us/step - loss: 0.5764 - acc: 0.8476 - val_loss: 0.3493 - val_acc: 0.8523\n",
      "Epoch 21/100\n",
      "2282/2282 [==============================] - 2s 912us/step - loss: 0.5628 - acc: 0.8515 - val_loss: 0.3508 - val_acc: 0.8532\n",
      "Epoch 22/100\n",
      "2282/2282 [==============================] - 2s 918us/step - loss: 0.5616 - acc: 0.8495 - val_loss: 0.3483 - val_acc: 0.8520\n",
      "Epoch 23/100\n",
      "2282/2282 [==============================] - 2s 913us/step - loss: 0.5628 - acc: 0.8468 - val_loss: 0.3500 - val_acc: 0.8511\n",
      "Epoch 24/100\n",
      "2282/2282 [==============================] - 2s 888us/step - loss: 0.5564 - acc: 0.8500 - val_loss: 0.3573 - val_acc: 0.8503\n",
      "Epoch 25/100\n",
      "2282/2282 [==============================] - 2s 908us/step - loss: 0.5584 - acc: 0.8477 - val_loss: 0.3499 - val_acc: 0.8511\n",
      "Epoch 26/100\n",
      "2282/2282 [==============================] - 2s 905us/step - loss: 0.5559 - acc: 0.8501 - val_loss: 0.3388 - val_acc: 0.8564\n",
      "Epoch 27/100\n",
      "2282/2282 [==============================] - 2s 897us/step - loss: 0.5507 - acc: 0.8540 - val_loss: 0.3442 - val_acc: 0.8523\n",
      "Epoch 28/100\n",
      "2282/2282 [==============================] - 2s 900us/step - loss: 0.5492 - acc: 0.8512 - val_loss: 0.3414 - val_acc: 0.8581\n",
      "Epoch 29/100\n",
      "2282/2282 [==============================] - 2s 912us/step - loss: 0.5451 - acc: 0.8524 - val_loss: 0.3390 - val_acc: 0.8590\n",
      "Epoch 30/100\n",
      "2282/2282 [==============================] - 2s 910us/step - loss: 0.5465 - acc: 0.8540 - val_loss: 0.3411 - val_acc: 0.8561\n",
      "Epoch 31/100\n",
      "2282/2282 [==============================] - 2s 913us/step - loss: 0.5456 - acc: 0.8525 - val_loss: 0.3361 - val_acc: 0.8558\n",
      "Epoch 32/100\n",
      "2282/2282 [==============================] - 2s 910us/step - loss: 0.5504 - acc: 0.8514 - val_loss: 0.3462 - val_acc: 0.8541\n",
      "Epoch 33/100\n",
      "2282/2282 [==============================] - 2s 911us/step - loss: 0.5430 - acc: 0.8546 - val_loss: 0.3460 - val_acc: 0.8576\n",
      "Epoch 34/100\n",
      "2282/2282 [==============================] - 2s 900us/step - loss: 0.5414 - acc: 0.8531 - val_loss: 0.3367 - val_acc: 0.8596\n",
      "Epoch 35/100\n",
      "2282/2282 [==============================] - 2s 918us/step - loss: 0.5389 - acc: 0.8556 - val_loss: 0.3355 - val_acc: 0.8593\n",
      "Epoch 36/100\n",
      "2282/2282 [==============================] - 2s 911us/step - loss: 0.5374 - acc: 0.8558 - val_loss: 0.3353 - val_acc: 0.8579\n",
      "Epoch 37/100\n",
      "2282/2282 [==============================] - 2s 911us/step - loss: 0.5342 - acc: 0.8569 - val_loss: 0.3326 - val_acc: 0.8576\n",
      "Epoch 38/100\n",
      "2282/2282 [==============================] - 2s 919us/step - loss: 0.5333 - acc: 0.8559 - val_loss: 0.3399 - val_acc: 0.8538\n",
      "Epoch 39/100\n",
      "2282/2282 [==============================] - 2s 905us/step - loss: 0.5355 - acc: 0.8550 - val_loss: 0.3309 - val_acc: 0.8593\n",
      "Epoch 40/100\n",
      "2282/2282 [==============================] - 2s 909us/step - loss: 0.5325 - acc: 0.8553 - val_loss: 0.3317 - val_acc: 0.8631\n",
      "Epoch 41/100\n",
      "2282/2282 [==============================] - 2s 913us/step - loss: 0.5286 - acc: 0.8558 - val_loss: 0.3252 - val_acc: 0.8643\n",
      "Epoch 42/100\n",
      "2282/2282 [==============================] - 2s 918us/step - loss: 0.5282 - acc: 0.8574 - val_loss: 0.3303 - val_acc: 0.8584\n",
      "Epoch 43/100\n",
      "2282/2282 [==============================] - 2s 904us/step - loss: 0.5251 - acc: 0.8581 - val_loss: 0.3302 - val_acc: 0.8596\n",
      "Epoch 44/100\n",
      "2282/2282 [==============================] - 2s 915us/step - loss: 0.5236 - acc: 0.8598 - val_loss: 0.3335 - val_acc: 0.8599\n",
      "Epoch 45/100\n",
      "2282/2282 [==============================] - 2s 925us/step - loss: 0.5290 - acc: 0.8556 - val_loss: 0.3272 - val_acc: 0.8619\n",
      "Epoch 46/100\n",
      "2282/2282 [==============================] - 2s 907us/step - loss: 0.5193 - acc: 0.8577 - val_loss: 0.3251 - val_acc: 0.8651\n",
      "Epoch 47/100\n",
      "2282/2282 [==============================] - 2s 914us/step - loss: 0.5174 - acc: 0.8618 - val_loss: 0.3353 - val_acc: 0.8622\n",
      "Epoch 48/100\n",
      "2282/2282 [==============================] - 2s 912us/step - loss: 0.5145 - acc: 0.8586 - val_loss: 0.3315 - val_acc: 0.8622\n",
      "Epoch 49/100\n",
      "2282/2282 [==============================] - 2s 914us/step - loss: 0.5204 - acc: 0.8579 - val_loss: 0.3186 - val_acc: 0.8649\n",
      "Epoch 50/100\n",
      "2282/2282 [==============================] - 2s 907us/step - loss: 0.5225 - acc: 0.8612 - val_loss: 0.3351 - val_acc: 0.8631\n",
      "Epoch 51/100\n",
      "2282/2282 [==============================] - 2s 889us/step - loss: 0.5230 - acc: 0.8582 - val_loss: 0.3236 - val_acc: 0.8646\n",
      "Epoch 52/100\n",
      "2282/2282 [==============================] - 2s 919us/step - loss: 0.5138 - acc: 0.8613 - val_loss: 0.3158 - val_acc: 0.8678\n",
      "Epoch 53/100\n",
      "2282/2282 [==============================] - 2s 914us/step - loss: 0.5134 - acc: 0.8634 - val_loss: 0.3151 - val_acc: 0.8663\n",
      "Epoch 54/100\n",
      "2282/2282 [==============================] - 2s 926us/step - loss: 0.5133 - acc: 0.8635 - val_loss: 0.3296 - val_acc: 0.8649\n",
      "Epoch 55/100\n",
      "2282/2282 [==============================] - 2s 929us/step - loss: 0.5142 - acc: 0.8634 - val_loss: 0.3178 - val_acc: 0.8669\n",
      "Epoch 56/100\n",
      "2282/2282 [==============================] - 2s 923us/step - loss: 0.5072 - acc: 0.8614 - val_loss: 0.3254 - val_acc: 0.8599\n",
      "Epoch 57/100\n",
      "2282/2282 [==============================] - 2s 891us/step - loss: 0.5122 - acc: 0.8598 - val_loss: 0.3095 - val_acc: 0.8719\n",
      "Epoch 58/100\n",
      "2282/2282 [==============================] - 2s 892us/step - loss: 0.5070 - acc: 0.8623 - val_loss: 0.3165 - val_acc: 0.8651\n",
      "Epoch 59/100\n",
      "2282/2282 [==============================] - 2s 906us/step - loss: 0.5026 - acc: 0.8638 - val_loss: 0.3113 - val_acc: 0.8716\n",
      "Epoch 60/100\n"
     ]
    },
    {
     "name": "stdout",
     "output_type": "stream",
     "text": [
      "2282/2282 [==============================] - 2s 910us/step - loss: 0.5029 - acc: 0.8608 - val_loss: 0.3093 - val_acc: 0.8722\n",
      "Epoch 61/100\n",
      "2282/2282 [==============================] - 2s 908us/step - loss: 0.5073 - acc: 0.8639 - val_loss: 0.3180 - val_acc: 0.8695\n",
      "Epoch 62/100\n",
      "2282/2282 [==============================] - 2s 921us/step - loss: 0.4946 - acc: 0.8654 - val_loss: 0.3102 - val_acc: 0.8692\n",
      "Epoch 63/100\n",
      "2282/2282 [==============================] - 2s 930us/step - loss: 0.5063 - acc: 0.8609 - val_loss: 0.3146 - val_acc: 0.8704\n",
      "Epoch 64/100\n",
      "2282/2282 [==============================] - 2s 912us/step - loss: 0.4961 - acc: 0.8655 - val_loss: 0.3163 - val_acc: 0.8678\n",
      "Epoch 65/100\n",
      "2282/2282 [==============================] - 2s 915us/step - loss: 0.5047 - acc: 0.8631 - val_loss: 0.3150 - val_acc: 0.8687\n",
      "Epoch 66/100\n",
      "2282/2282 [==============================] - 2s 918us/step - loss: 0.5006 - acc: 0.8631 - val_loss: 0.3241 - val_acc: 0.8616\n",
      "Epoch 67/100\n",
      "2282/2282 [==============================] - 2s 923us/step - loss: 0.4878 - acc: 0.8669 - val_loss: 0.3172 - val_acc: 0.8695\n",
      "Epoch 68/100\n",
      "2282/2282 [==============================] - 2s 919us/step - loss: 0.4887 - acc: 0.8661 - val_loss: 0.3166 - val_acc: 0.8722\n",
      "Epoch 69/100\n",
      "2282/2282 [==============================] - 2s 918us/step - loss: 0.4966 - acc: 0.8680 - val_loss: 0.3205 - val_acc: 0.8611\n",
      "Epoch 70/100\n",
      "2282/2282 [==============================] - 2s 921us/step - loss: 0.4917 - acc: 0.8683 - val_loss: 0.3158 - val_acc: 0.8669\n",
      "Epoch 71/100\n",
      "2282/2282 [==============================] - 2s 913us/step - loss: 0.4887 - acc: 0.8696 - val_loss: 0.3161 - val_acc: 0.8701\n",
      "Epoch 72/100\n",
      "2282/2282 [==============================] - 2s 909us/step - loss: 0.4858 - acc: 0.8679 - val_loss: 0.3141 - val_acc: 0.8716\n",
      "Epoch 73/100\n",
      "2282/2282 [==============================] - 2s 898us/step - loss: 0.4859 - acc: 0.8658 - val_loss: 0.2960 - val_acc: 0.8762\n",
      "Epoch 74/100\n",
      "2282/2282 [==============================] - 2s 934us/step - loss: 0.4863 - acc: 0.8703 - val_loss: 0.3105 - val_acc: 0.8745\n",
      "Epoch 75/100\n",
      "2282/2282 [==============================] - 2s 918us/step - loss: 0.4767 - acc: 0.8707 - val_loss: 0.3080 - val_acc: 0.8733\n",
      "Epoch 76/100\n",
      "2282/2282 [==============================] - 2s 901us/step - loss: 0.4849 - acc: 0.8721 - val_loss: 0.3172 - val_acc: 0.8681\n",
      "Epoch 77/100\n",
      "2282/2282 [==============================] - 2s 936us/step - loss: 0.4783 - acc: 0.8722 - val_loss: 0.3120 - val_acc: 0.8724\n",
      "Epoch 78/100\n",
      "2282/2282 [==============================] - 2s 932us/step - loss: 0.4778 - acc: 0.8703 - val_loss: 0.3095 - val_acc: 0.8745\n",
      "Epoch 79/100\n",
      "2282/2282 [==============================] - 2s 925us/step - loss: 0.4737 - acc: 0.8712 - val_loss: 0.2993 - val_acc: 0.8736\n",
      "Epoch 80/100\n",
      "2282/2282 [==============================] - 2s 926us/step - loss: 0.4749 - acc: 0.8726 - val_loss: 0.3075 - val_acc: 0.8692\n",
      "Epoch 81/100\n",
      "2282/2282 [==============================] - 2s 919us/step - loss: 0.4702 - acc: 0.8732 - val_loss: 0.3229 - val_acc: 0.8622\n",
      "Epoch 82/100\n",
      "2282/2282 [==============================] - 2s 920us/step - loss: 0.4733 - acc: 0.8721 - val_loss: 0.3083 - val_acc: 0.8698\n",
      "Epoch 83/100\n",
      "2282/2282 [==============================] - 2s 927us/step - loss: 0.4654 - acc: 0.8764 - val_loss: 0.3152 - val_acc: 0.8698\n",
      "Epoch 84/100\n",
      "2282/2282 [==============================] - 2s 933us/step - loss: 0.4757 - acc: 0.8731 - val_loss: 0.3039 - val_acc: 0.8759\n",
      "Epoch 85/100\n",
      "2282/2282 [==============================] - 2s 911us/step - loss: 0.4674 - acc: 0.8736 - val_loss: 0.3035 - val_acc: 0.8783\n",
      "Epoch 86/100\n",
      "2282/2282 [==============================] - 2s 901us/step - loss: 0.4723 - acc: 0.8717 - val_loss: 0.3055 - val_acc: 0.8751\n",
      "Epoch 87/100\n",
      "2282/2282 [==============================] - 2s 918us/step - loss: 0.4668 - acc: 0.8736 - val_loss: 0.3061 - val_acc: 0.8771\n",
      "Epoch 88/100\n",
      "2282/2282 [==============================] - 2s 919us/step - loss: 0.4664 - acc: 0.8752 - val_loss: 0.3115 - val_acc: 0.8783\n",
      "Epoch 89/100\n",
      "2282/2282 [==============================] - 2s 917us/step - loss: 0.4670 - acc: 0.8718 - val_loss: 0.3002 - val_acc: 0.8754\n",
      "Epoch 90/100\n",
      "2282/2282 [==============================] - 2s 904us/step - loss: 0.4632 - acc: 0.8758 - val_loss: 0.2921 - val_acc: 0.8806\n",
      "Epoch 91/100\n",
      "2282/2282 [==============================] - 2s 924us/step - loss: 0.4729 - acc: 0.8731 - val_loss: 0.2888 - val_acc: 0.8803\n",
      "Epoch 92/100\n",
      "2282/2282 [==============================] - 2s 920us/step - loss: 0.4603 - acc: 0.8757 - val_loss: 0.3020 - val_acc: 0.8736\n",
      "Epoch 93/100\n",
      "2282/2282 [==============================] - 2s 923us/step - loss: 0.4586 - acc: 0.8739 - val_loss: 0.3008 - val_acc: 0.8777\n",
      "Epoch 94/100\n",
      "2282/2282 [==============================] - 2s 918us/step - loss: 0.4582 - acc: 0.8770 - val_loss: 0.3029 - val_acc: 0.8727\n",
      "Epoch 95/100\n",
      "2282/2282 [==============================] - 2s 911us/step - loss: 0.4622 - acc: 0.8782 - val_loss: 0.3189 - val_acc: 0.8660\n",
      "Epoch 96/100\n",
      "2282/2282 [==============================] - 2s 938us/step - loss: 0.4620 - acc: 0.8738 - val_loss: 0.3099 - val_acc: 0.8751\n",
      "Epoch 97/100\n",
      "2282/2282 [==============================] - 2s 933us/step - loss: 0.4553 - acc: 0.8754 - val_loss: 0.2879 - val_acc: 0.8797\n",
      "Epoch 98/100\n",
      "2282/2282 [==============================] - 2s 930us/step - loss: 0.4521 - acc: 0.8800 - val_loss: 0.3135 - val_acc: 0.8739\n",
      "Epoch 99/100\n",
      "2282/2282 [==============================] - 2s 924us/step - loss: 0.4573 - acc: 0.8753 - val_loss: 0.2886 - val_acc: 0.8812\n",
      "Epoch 100/100\n",
      "2282/2282 [==============================] - 2s 936us/step - loss: 0.4465 - acc: 0.8796 - val_loss: 0.3085 - val_acc: 0.8675\n"
     ]
    }
   ],
   "source": [
    "history = model.fit(X_train, Y_train, epochs = 100, batch_size = 64, shuffle=True, validation_data=(X_test, Y_test), class_weight=cw)"
   ]
  },
  {
   "cell_type": "code",
   "execution_count": 408,
   "metadata": {},
   "outputs": [
    {
     "data": {
      "image/png": "[encoded data removed]",
      "text/plain": [
       "<Figure size 432x288 with 1 Axes>"
      ]
     },
     "metadata": {
      "needs_background": "light"
     },
     "output_type": "display_data"
    }
   ],
   "source": [
    "plt.plot(history.history['acc'], label='MSE (train data)')\n",
    "plt.plot(history.history['val_acc'], label='MSE (val data)')\n",
    "plt.title('MSE for Chennai Reservoir Levels')\n",
    "plt.ylabel('MSE value')\n",
    "plt.xlabel('No. epoch')\n",
    "plt.legend(loc=\"upper left\")\n",
    "plt.show()"
   ]
  },
  {
   "cell_type": "code",
   "execution_count": 409,
   "metadata": {},
   "outputs": [],
   "source": [
    "prediction = model.predict(X_test)"
   ]
  },
  {
   "cell_type": "code",
   "execution_count": 410,
   "metadata": {},
   "outputs": [
    {
     "data": {
      "text/plain": [
       "array([[0., 0., 0., 0., 1., 0.],\n",
       "       [0., 0., 0., 0., 0., 1.],\n",
       "       [0., 1., 0., 0., 0., 0.],\n",
       "       ...,\n",
       "       [0., 1., 0., 0., 0., 0.],\n",
       "       [0., 0., 1., 0., 0., 0.],\n",
       "       [1., 0., 0., 0., 0., 0.]], dtype=float32)"
      ]
     },
     "execution_count": 410,
     "metadata": {},
     "output_type": "execute_result"
    }
   ],
   "source": [
    "#Y_pred = keras.utils.to_categorical(Y, 9)\n",
    "Y_test"
   ]
  },
  {
   "cell_type": "code",
   "execution_count": 411,
   "metadata": {},
   "outputs": [],
   "source": [
    "for i in range(len(prediction)):\n",
    "    prediction[i] = prediction[i] > 0.5"
   ]
  },
  {
   "cell_type": "code",
   "execution_count": 412,
   "metadata": {},
   "outputs": [
    {
     "data": {
      "text/plain": [
       "array([[0., 0., 0., 0., 0., 0.],\n",
       "       [0., 0., 1., 0., 0., 0.],\n",
       "       [0., 0., 0., 0., 0., 0.],\n",
       "       ...,\n",
       "       [0., 0., 1., 0., 0., 0.],\n",
       "       [0., 0., 1., 0., 0., 0.],\n",
       "       [1., 0., 0., 0., 0., 0.]], dtype=float32)"
      ]
     },
     "execution_count": 412,
     "metadata": {},
     "output_type": "execute_result"
    }
   ],
   "source": [
    "prediction"
   ]
  },
  {
   "cell_type": "code",
   "execution_count": 413,
   "metadata": {},
   "outputs": [
    {
     "data": {
      "text/plain": [
       "(571, 6)"
      ]
     },
     "execution_count": 413,
     "metadata": {},
     "output_type": "execute_result"
    }
   ],
   "source": [
    "prediction.shape"
   ]
  },
  {
   "cell_type": "code",
   "execution_count": 414,
   "metadata": {},
   "outputs": [
    {
     "data": {
      "text/plain": [
       "(571, 6)"
      ]
     },
     "execution_count": 414,
     "metadata": {},
     "output_type": "execute_result"
    }
   ],
   "source": [
    "Y_test.shape"
   ]
  },
  {
   "cell_type": "code",
   "execution_count": 415,
   "metadata": {},
   "outputs": [],
   "source": [
    "c = 0\n",
    "for i in range(len(Y_test)):\n",
    "    if(np.array_equal(Y_test[i], prediction[i])):\n",
    "        c = c + 1\n",
    "        "
   ]
  },
  {
   "cell_type": "code",
   "execution_count": 416,
   "metadata": {},
   "outputs": [
    {
     "name": "stdout",
     "output_type": "stream",
     "text": [
      "243\n"
     ]
    }
   ],
   "source": [
    "print(c)"
   ]
  },
  {
   "cell_type": "code",
   "execution_count": 417,
   "metadata": {},
   "outputs": [
    {
     "name": "stdout",
     "output_type": "stream",
     "text": [
      "Accuracy: 0.425569176882662\n",
      "F1 score: 0.5137289726558679\n",
      "Recall: 0.425569176882662\n",
      "Precision: 0.7447473820539534\n",
      "\n",
      " clasification report:\n",
      "               precision    recall  f1-score   support\n",
      "\n",
      "           0       0.88      0.66      0.75        90\n",
      "           1       0.77      0.35      0.48       105\n",
      "           2       0.27      0.42      0.33        55\n",
      "           3       0.80      0.07      0.12        61\n",
      "           4       0.40      0.35      0.38        62\n",
      "           5       0.89      0.49      0.64       198\n",
      "\n",
      "   micro avg       0.66      0.43      0.52       571\n",
      "   macro avg       0.67      0.39      0.45       571\n",
      "weighted avg       0.74      0.43      0.51       571\n",
      " samples avg       0.43      0.43      0.43       571\n",
      "\n"
     ]
    },
    {
     "name": "stderr",
     "output_type": "stream",
     "text": [
      "C:\\Users\\Ghevond\\Anaconda3\\lib\\site-packages\\sklearn\\metrics\\classification.py:1437: UndefinedMetricWarning: Precision and F-score are ill-defined and being set to 0.0 in samples with no predicted labels.\n",
      "  'precision', 'predicted', average, warn_for)\n"
     ]
    },
    {
     "ename": "ValueError",
     "evalue": "multilabel-indicator is not supported",
     "output_type": "error",
     "traceback": [
      "\u001b[1;31m---------------------------------------------------------------------------\u001b[0m",
      "\u001b[1;31mValueError\u001b[0m                                Traceback (most recent call last)",
      "\u001b[1;32m<ipython-input-417-9c9624fd7a4c>\u001b[0m in \u001b[0;36m<module>\u001b[1;34m\u001b[0m\n\u001b[0;32m      6\u001b[0m \u001b[0mprint\u001b[0m \u001b[1;33m(\u001b[0m\u001b[1;34m'Precision:'\u001b[0m\u001b[1;33m,\u001b[0m \u001b[0mprecision_score\u001b[0m\u001b[1;33m(\u001b[0m\u001b[0mY_test\u001b[0m\u001b[1;33m,\u001b[0m \u001b[0mprediction\u001b[0m\u001b[1;33m,\u001b[0m \u001b[0maverage\u001b[0m \u001b[1;33m=\u001b[0m \u001b[1;34m\"weighted\"\u001b[0m\u001b[1;33m)\u001b[0m\u001b[1;33m)\u001b[0m\u001b[1;33m\u001b[0m\u001b[1;33m\u001b[0m\u001b[0m\n\u001b[0;32m      7\u001b[0m \u001b[0mprint\u001b[0m \u001b[1;33m(\u001b[0m\u001b[1;34m'\\n clasification report:\\n'\u001b[0m\u001b[1;33m,\u001b[0m \u001b[0mclassification_report\u001b[0m\u001b[1;33m(\u001b[0m\u001b[0mY_test\u001b[0m\u001b[1;33m,\u001b[0m\u001b[0mprediction\u001b[0m\u001b[1;33m)\u001b[0m\u001b[1;33m)\u001b[0m\u001b[1;33m\u001b[0m\u001b[1;33m\u001b[0m\u001b[0m\n\u001b[1;32m----> 8\u001b[1;33m \u001b[0mprint\u001b[0m \u001b[1;33m(\u001b[0m\u001b[1;34m'\\n confussion matrix:\\n'\u001b[0m\u001b[1;33m,\u001b[0m\u001b[0mconfusion_matrix\u001b[0m\u001b[1;33m(\u001b[0m\u001b[0mY_test\u001b[0m\u001b[1;33m,\u001b[0m \u001b[0mprediction\u001b[0m\u001b[1;33m)\u001b[0m\u001b[1;33m)\u001b[0m\u001b[1;33m\u001b[0m\u001b[1;33m\u001b[0m\u001b[0m\n\u001b[0m",
      "\u001b[1;32m~\\Anaconda3\\lib\\site-packages\\sklearn\\metrics\\classification.py\u001b[0m in \u001b[0;36mconfusion_matrix\u001b[1;34m(y_true, y_pred, labels, sample_weight)\u001b[0m\n\u001b[0;32m    253\u001b[0m     \u001b[0my_type\u001b[0m\u001b[1;33m,\u001b[0m \u001b[0my_true\u001b[0m\u001b[1;33m,\u001b[0m \u001b[0my_pred\u001b[0m \u001b[1;33m=\u001b[0m \u001b[0m_check_targets\u001b[0m\u001b[1;33m(\u001b[0m\u001b[0my_true\u001b[0m\u001b[1;33m,\u001b[0m \u001b[0my_pred\u001b[0m\u001b[1;33m)\u001b[0m\u001b[1;33m\u001b[0m\u001b[1;33m\u001b[0m\u001b[0m\n\u001b[0;32m    254\u001b[0m     \u001b[1;32mif\u001b[0m \u001b[0my_type\u001b[0m \u001b[1;32mnot\u001b[0m \u001b[1;32min\u001b[0m \u001b[1;33m(\u001b[0m\u001b[1;34m\"binary\"\u001b[0m\u001b[1;33m,\u001b[0m \u001b[1;34m\"multiclass\"\u001b[0m\u001b[1;33m)\u001b[0m\u001b[1;33m:\u001b[0m\u001b[1;33m\u001b[0m\u001b[1;33m\u001b[0m\u001b[0m\n\u001b[1;32m--> 255\u001b[1;33m         \u001b[1;32mraise\u001b[0m \u001b[0mValueError\u001b[0m\u001b[1;33m(\u001b[0m\u001b[1;34m\"%s is not supported\"\u001b[0m \u001b[1;33m%\u001b[0m \u001b[0my_type\u001b[0m\u001b[1;33m)\u001b[0m\u001b[1;33m\u001b[0m\u001b[1;33m\u001b[0m\u001b[0m\n\u001b[0m\u001b[0;32m    256\u001b[0m \u001b[1;33m\u001b[0m\u001b[0m\n\u001b[0;32m    257\u001b[0m     \u001b[1;32mif\u001b[0m \u001b[0mlabels\u001b[0m \u001b[1;32mis\u001b[0m \u001b[1;32mNone\u001b[0m\u001b[1;33m:\u001b[0m\u001b[1;33m\u001b[0m\u001b[1;33m\u001b[0m\u001b[0m\n",
      "\u001b[1;31mValueError\u001b[0m: multilabel-indicator is not supported"
     ]
    }
   ],
   "source": [
    "from sklearn.metrics import precision_score, recall_score, confusion_matrix, classification_report, accuracy_score, f1_score\n",
    "\n",
    "print('Accuracy:', accuracy_score(Y_test, prediction))\n",
    "print ('F1 score:', f1_score(Y_test, prediction, average = \"weighted\"))\n",
    "print ('Recall:', recall_score(Y_test, prediction, average = \"weighted\"))\n",
    "print ('Precision:', precision_score(Y_test, prediction, average = \"weighted\"))\n",
    "print ('\\n clasification report:\\n', classification_report(Y_test,prediction))\n",
    "print ('\\n confussion matrix:\\n',confusion_matrix(Y_test, prediction))"
   ]
  },
  {
   "cell_type": "code",
   "execution_count": 342,
   "metadata": {},
   "outputs": [
    {
     "data": {
      "text/plain": [
       "array([[0., 0., 1., ..., 0., 0., 0.],\n",
       "       [0., 0., 0., ..., 0., 0., 0.],\n",
       "       [0., 0., 1., ..., 0., 0., 0.],\n",
       "       ...,\n",
       "       [0., 0., 0., ..., 0., 0., 1.],\n",
       "       [0., 0., 0., ..., 0., 0., 0.],\n",
       "       [0., 0., 0., ..., 0., 0., 1.]], dtype=float32)"
      ]
     },
     "execution_count": 342,
     "metadata": {},
     "output_type": "execute_result"
    }
   ],
   "source": [
    "prediction"
   ]
  },
  {
   "cell_type": "code",
   "execution_count": null,
   "metadata": {},
   "outputs": [],
   "source": []
  }
 ],
 "metadata": {
  "kernelspec": {
   "display_name": "Python 3",
   "language": "python",
   "name": "python3"
  },
  "language_info": {
   "codemirror_mode": {
    "name": "ipython",
    "version": 3
   },
   "file_extension": ".py",
   "mimetype": "text/x-python",
   "name": "python",
   "nbconvert_exporter": "python",
   "pygments_lexer": "ipython3",
   "version": "3.7.4"
  }
 },
 "nbformat": 4,
 "nbformat_minor": 2
}
