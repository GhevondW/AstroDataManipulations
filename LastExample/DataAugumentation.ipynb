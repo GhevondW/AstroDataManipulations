{
 "cells": [
  {
   "cell_type": "code",
   "execution_count": 9,
   "metadata": {},
   "outputs": [],
   "source": [
    "import numpy as np\n",
    "import pandas as pd\n",
    "import seaborn as sns\n",
    "from sklearn.linear_model import LinearRegression\n",
    "import matplotlib.pyplot as plt\n",
    "from sklearn.model_selection import train_test_split\n",
    "from sklearn.feature_selection import RFE\n",
    "from sklearn.metrics import mean_squared_error, r2_score\n",
    "import os, fnmatch\n",
    "from sklearn.cluster import KMeans\n",
    "from sklearn.preprocessing import PolynomialFeatures \n",
    "import seaborn as sns\n",
    "%matplotlib inline\n",
    "from keras.layers import Input, Dense\n",
    "from keras.models import Model\n",
    "# from keras.op\n",
    "from keras import optimizers\n",
    "from keras import regularizers\n",
    "from PIL import Image\n",
    "from sklearn import preprocessing\n",
    "from sklearn.model_selection import train_test_split\n",
    "\n",
    "import keras\n",
    "from keras.models import load_model\n",
    "from keras.datasets import cifar10\n",
    "from keras.layers import Input, Dense, Conv2D, MaxPooling2D, UpSampling2D, BatchNormalization, Activation\n",
    "from keras.models import Model\n",
    "from keras.callbacks import EarlyStopping, ModelCheckpoint\n",
    "from keras.optimizers import Adam\n",
    "import os\n",
    "import pickle\n",
    "import numpy as np"
   ]
  },
  {
   "cell_type": "code",
   "execution_count": 10,
   "metadata": {},
   "outputs": [],
   "source": [
    "data = pd.read_csv(\"DFBS_Unique.csv\");"
   ]
  },
  {
   "cell_type": "code",
   "execution_count": 11,
   "metadata": {},
   "outputs": [
    {
     "data": {
      "text/html": [
       "<div>\n",
       "<style scoped>\n",
       "    .dataframe tbody tr th:only-of-type {\n",
       "        vertical-align: middle;\n",
       "    }\n",
       "\n",
       "    .dataframe tbody tr th {\n",
       "        vertical-align: top;\n",
       "    }\n",
       "\n",
       "    .dataframe thead th {\n",
       "        text-align: right;\n",
       "    }\n",
       "</style>\n",
       "<table border=\"1\" class=\"dataframe\">\n",
       "  <thead>\n",
       "    <tr style=\"text-align: right;\">\n",
       "      <th></th>\n",
       "      <th>Unnamed: 0</th>\n",
       "      <th>_Glon</th>\n",
       "      <th>_Glat</th>\n",
       "      <th>_RAJ2000</th>\n",
       "      <th>_DEJ2000</th>\n",
       "      <th>Cl</th>\n",
       "      <th>Name</th>\n",
       "      <th>Vmag</th>\n",
       "      <th>z</th>\n",
       "      <th>plate</th>\n",
       "      <th>dx</th>\n",
       "      <th>dy</th>\n",
       "    </tr>\n",
       "  </thead>\n",
       "  <tbody>\n",
       "    <tr>\n",
       "      <td>0</td>\n",
       "      <td>0</td>\n",
       "      <td>deg</td>\n",
       "      <td>deg</td>\n",
       "      <td>deg</td>\n",
       "      <td>deg</td>\n",
       "      <td>NaN</td>\n",
       "      <td>NaN</td>\n",
       "      <td>mag</td>\n",
       "      <td>NaN</td>\n",
       "      <td>NaN</td>\n",
       "      <td>0</td>\n",
       "      <td>0</td>\n",
       "    </tr>\n",
       "    <tr>\n",
       "      <td>1</td>\n",
       "      <td>1</td>\n",
       "      <td>100.174423</td>\n",
       "      <td>-55.203358</td>\n",
       "      <td>0.04875</td>\n",
       "      <td>5.388056</td>\n",
       "      <td>Sy1</td>\n",
       "      <td>RXS J00001+0523</td>\n",
       "      <td>16.4</td>\n",
       "      <td>0.040</td>\n",
       "      <td>fbs0524_cor.fits.hdr</td>\n",
       "      <td>5424</td>\n",
       "      <td>857</td>\n",
       "    </tr>\n",
       "    <tr>\n",
       "      <td>2</td>\n",
       "      <td>2</td>\n",
       "      <td>99.844434</td>\n",
       "      <td>-57.30727</td>\n",
       "      <td>0.61</td>\n",
       "      <td>3.351667</td>\n",
       "      <td>Sy1</td>\n",
       "      <td>MARK 543</td>\n",
       "      <td>14.68</td>\n",
       "      <td>0.026</td>\n",
       "      <td>fbs1173_cor.fits.hdr</td>\n",
       "      <td>3982</td>\n",
       "      <td>5088</td>\n",
       "    </tr>\n",
       "    <tr>\n",
       "      <td>3</td>\n",
       "      <td>3</td>\n",
       "      <td>86.112841</td>\n",
       "      <td>-70.112882</td>\n",
       "      <td>0.88375</td>\n",
       "      <td>-10.744722</td>\n",
       "      <td>Sy1</td>\n",
       "      <td>NGC 7808</td>\n",
       "      <td>15.4</td>\n",
       "      <td>0.029</td>\n",
       "      <td>fbs0874_cor.fits.hdr</td>\n",
       "      <td>2871</td>\n",
       "      <td>555</td>\n",
       "    </tr>\n",
       "    <tr>\n",
       "      <td>4</td>\n",
       "      <td>4</td>\n",
       "      <td>114.304767</td>\n",
       "      <td>-16.638006</td>\n",
       "      <td>1.039583</td>\n",
       "      <td>45.440278</td>\n",
       "      <td>Sy1</td>\n",
       "      <td>RXS J00041+4526</td>\n",
       "      <td>16.9</td>\n",
       "      <td>0.120</td>\n",
       "      <td>fbs1036_cor.fits.hdr</td>\n",
       "      <td>3623</td>\n",
       "      <td>594</td>\n",
       "    </tr>\n",
       "  </tbody>\n",
       "</table>\n",
       "</div>"
      ],
      "text/plain": [
       "   Unnamed: 0       _Glon       _Glat  _RAJ2000    _DEJ2000   Cl  \\\n",
       "0           0         deg         deg       deg         deg  NaN   \n",
       "1           1  100.174423  -55.203358   0.04875    5.388056  Sy1   \n",
       "2           2   99.844434   -57.30727      0.61    3.351667  Sy1   \n",
       "3           3   86.112841  -70.112882   0.88375  -10.744722  Sy1   \n",
       "4           4  114.304767  -16.638006  1.039583   45.440278  Sy1   \n",
       "\n",
       "              Name   Vmag      z                 plate    dx    dy  \n",
       "0              NaN    mag    NaN                   NaN     0     0  \n",
       "1  RXS J00001+0523   16.4  0.040  fbs0524_cor.fits.hdr  5424   857  \n",
       "2         MARK 543  14.68  0.026  fbs1173_cor.fits.hdr  3982  5088  \n",
       "3         NGC 7808   15.4  0.029  fbs0874_cor.fits.hdr  2871   555  \n",
       "4  RXS J00041+4526   16.9  0.120  fbs1036_cor.fits.hdr  3623   594  "
      ]
     },
     "execution_count": 11,
     "metadata": {},
     "output_type": "execute_result"
    }
   ],
   "source": [
    "data.head()"
   ]
  },
  {
   "cell_type": "code",
   "execution_count": 12,
   "metadata": {},
   "outputs": [],
   "source": [
    "all_tiff_files = []\n",
    "listOfFiles = os.listdir('./UClassificationDataCleaned/')\n",
    "pattern = \"*.tiff\"\n",
    "for entry in listOfFiles:\n",
    "    if fnmatch.fnmatch(entry, pattern):\n",
    "            all_tiff_files.append('./UClassificationDataCleaned/'+entry)"
   ]
  },
  {
   "cell_type": "code",
   "execution_count": 13,
   "metadata": {},
   "outputs": [
    {
     "data": {
      "text/plain": [
       "2951"
      ]
     },
     "execution_count": 13,
     "metadata": {},
     "output_type": "execute_result"
    }
   ],
   "source": [
    "len(all_tiff_files)"
   ]
  },
  {
   "cell_type": "code",
   "execution_count": 14,
   "metadata": {},
   "outputs": [],
   "source": [
    "new_index = 0\n",
    "arr_data = []\n",
    "for index, row in data.iterrows():\n",
    "    if index == 0: continue\n",
    "    glon = row[\"_Glon\"]\n",
    "    glat = row[\"_Glat\"]\n",
    "    raj = row[\"_RAJ2000\"]\n",
    "    dej = row[\"_DEJ2000\"]\n",
    "    cl = row[\"Cl\"]\n",
    "    name = row[\"Name\"]\n",
    "    vmag = row[\"Vmag\"]\n",
    "    z = row[\"z\"]\n",
    "    plate = row[\"plate\"]\n",
    "    dx = row[\"dx\"]\n",
    "    dy = row[\"dy\"]\n",
    "    #if cl == \"C\" or cl == \"PN\" or cl == \"cv\" : \n",
    "    #    continue\n",
    "        \n",
    "    for i in range(len(all_tiff_files)):\n",
    "        file_name = (all_tiff_files[i].split(\"/\")[2]).split(\".tiff\")[0];\n",
    "        if name == file_name:\n",
    "            arr_obj = []\n",
    "            arr_obj.append(name)\n",
    "            arr_obj.append(cl)\n",
    "            arr_obj.append(all_tiff_files[i])\n",
    "            arr_data.append(arr_obj)\n",
    "            break"
   ]
  },
  {
   "cell_type": "code",
   "execution_count": 15,
   "metadata": {},
   "outputs": [
    {
     "data": {
      "text/html": [
       "<div>\n",
       "<style scoped>\n",
       "    .dataframe tbody tr th:only-of-type {\n",
       "        vertical-align: middle;\n",
       "    }\n",
       "\n",
       "    .dataframe tbody tr th {\n",
       "        vertical-align: top;\n",
       "    }\n",
       "\n",
       "    .dataframe thead th {\n",
       "        text-align: right;\n",
       "    }\n",
       "</style>\n",
       "<table border=\"1\" class=\"dataframe\">\n",
       "  <thead>\n",
       "    <tr style=\"text-align: right;\">\n",
       "      <th></th>\n",
       "      <th>0</th>\n",
       "      <th>1</th>\n",
       "      <th>2</th>\n",
       "    </tr>\n",
       "  </thead>\n",
       "  <tbody>\n",
       "    <tr>\n",
       "      <td>0</td>\n",
       "      <td>RXS J00001+0523</td>\n",
       "      <td>Sy1</td>\n",
       "      <td>./UClassificationDataCleaned/RXS J00001+0523.tiff</td>\n",
       "    </tr>\n",
       "    <tr>\n",
       "      <td>1</td>\n",
       "      <td>MARK 543</td>\n",
       "      <td>Sy1</td>\n",
       "      <td>./UClassificationDataCleaned/MARK 543.tiff</td>\n",
       "    </tr>\n",
       "    <tr>\n",
       "      <td>2</td>\n",
       "      <td>NGC 7808</td>\n",
       "      <td>Sy1</td>\n",
       "      <td>./UClassificationDataCleaned/NGC 7808.tiff</td>\n",
       "    </tr>\n",
       "    <tr>\n",
       "      <td>3</td>\n",
       "      <td>MARK 335</td>\n",
       "      <td>Sy1</td>\n",
       "      <td>./UClassificationDataCleaned/MARK 335.tiff</td>\n",
       "    </tr>\n",
       "    <tr>\n",
       "      <td>4</td>\n",
       "      <td>MS 00071-0231</td>\n",
       "      <td>Sy1</td>\n",
       "      <td>./UClassificationDataCleaned/MS 00071-0231.tiff</td>\n",
       "    </tr>\n",
       "  </tbody>\n",
       "</table>\n",
       "</div>"
      ],
      "text/plain": [
       "                 0    1                                                  2\n",
       "0  RXS J00001+0523  Sy1  ./UClassificationDataCleaned/RXS J00001+0523.tiff\n",
       "1         MARK 543  Sy1         ./UClassificationDataCleaned/MARK 543.tiff\n",
       "2         NGC 7808  Sy1         ./UClassificationDataCleaned/NGC 7808.tiff\n",
       "3         MARK 335  Sy1         ./UClassificationDataCleaned/MARK 335.tiff\n",
       "4    MS 00071-0231  Sy1    ./UClassificationDataCleaned/MS 00071-0231.tiff"
      ]
     },
     "execution_count": 15,
     "metadata": {},
     "output_type": "execute_result"
    }
   ],
   "source": [
    "cl_data = pd.DataFrame(arr_data)\n",
    "cl_data.head()"
   ]
  },
  {
   "cell_type": "code",
   "execution_count": 16,
   "metadata": {},
   "outputs": [
    {
     "data": {
      "text/plain": [
       "sd     989\n",
       "Mrk    526\n",
       "M      452\n",
       "WD     309\n",
       "Sy1    304\n",
       "QSO    273\n",
       "cv      63\n",
       "PN      21\n",
       "C       14\n",
       "Name: 1, dtype: int64"
      ]
     },
     "execution_count": 16,
     "metadata": {},
     "output_type": "execute_result"
    }
   ],
   "source": [
    "cl_data[1].value_counts()"
   ]
  },
  {
   "cell_type": "code",
   "execution_count": 18,
   "metadata": {},
   "outputs": [],
   "source": [
    "for index, row in cl_data.iterrows():\n",
    "    cl = row[1]\n",
    "    path = row[2]\n",
    "    im = Image.open(path)\n",
    "    arr = np.array(im)#.flatten()\n",
    "    image = Image.fromarray(arr, 'I;16')\n",
    "    \n",
    "    new_path = \"./Class/\"+cl+\"/\"+path.split(\"/\")[2]\n",
    "    \n",
    "    image.save(new_path)"
   ]
  },
  {
   "cell_type": "code",
   "execution_count": null,
   "metadata": {},
   "outputs": [],
   "source": []
  }
 ],
 "metadata": {
  "kernelspec": {
   "display_name": "Python 3",
   "language": "python",
   "name": "python3"
  },
  "language_info": {
   "codemirror_mode": {
    "name": "ipython",
    "version": 3
   },
   "file_extension": ".py",
   "mimetype": "text/x-python",
   "name": "python",
   "nbconvert_exporter": "python",
   "pygments_lexer": "ipython3",
   "version": "3.7.4"
  }
 },
 "nbformat": 4,
 "nbformat_minor": 2
}
