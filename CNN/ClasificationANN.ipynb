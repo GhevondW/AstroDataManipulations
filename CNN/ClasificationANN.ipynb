{
 "cells": [
  {
   "cell_type": "code",
   "execution_count": 85,
   "metadata": {},
   "outputs": [],
   "source": [
    "import numpy as np\n",
    "import pandas as pd\n",
    "import seaborn as sns\n",
    "from sklearn.linear_model import LinearRegression\n",
    "import matplotlib.pyplot as plt\n",
    "from sklearn.model_selection import train_test_split\n",
    "from sklearn.feature_selection import RFE\n",
    "from sklearn.metrics import mean_squared_error, r2_score\n",
    "import os, fnmatch\n",
    "from sklearn.cluster import KMeans\n",
    "from sklearn.preprocessing import PolynomialFeatures \n",
    "import seaborn as sns\n",
    "%matplotlib inline\n",
    "from keras.layers import Input, Dense\n",
    "from keras.models import Model\n",
    "# from keras.op\n",
    "from keras import optimizers\n",
    "from keras import regularizers\n",
    "from PIL import Image\n",
    "from sklearn import preprocessing\n",
    "from sklearn.model_selection import train_test_split\n",
    "\n",
    "import keras\n",
    "from keras.models import load_model\n",
    "from keras.datasets import cifar10\n",
    "from keras.layers import Input, Dense, Conv2D, MaxPooling2D, UpSampling2D, BatchNormalization, Activation\n",
    "from keras.models import Model\n",
    "from keras.callbacks import EarlyStopping, ModelCheckpoint\n",
    "from keras.optimizers import Adam\n",
    "import os\n",
    "import pickle\n",
    "import numpy as np\n",
    "from keras.preprocessing.image import ImageDataGenerator, array_to_img, img_to_array"
   ]
  },
  {
   "cell_type": "code",
   "execution_count": 86,
   "metadata": {},
   "outputs": [],
   "source": [
    "class_path = \"./DataCreation/Dataset/Train_8bit/\"\n",
    "data_train = []\n",
    "data_train_names = os.listdir(class_path)\n",
    "pattern = \"*.tiff\"\n",
    "for entry in data_train_names:\n",
    "    if fnmatch.fnmatch(entry, pattern):\n",
    "            data_train.append(class_path+entry)"
   ]
  },
  {
   "cell_type": "code",
   "execution_count": 87,
   "metadata": {},
   "outputs": [
    {
     "name": "stdout",
     "output_type": "stream",
     "text": [
      "9456 9456\n"
     ]
    }
   ],
   "source": [
    "print(len(data_train_names), len(data_train))"
   ]
  },
  {
   "cell_type": "code",
   "execution_count": 88,
   "metadata": {},
   "outputs": [],
   "source": [
    "class_path = \"./DataCreation/Dataset/Test_8bit/\"\n",
    "data_test = []\n",
    "data_test_names = os.listdir(class_path)\n",
    "pattern = \"*.tiff\"\n",
    "for entry in data_test_names:\n",
    "    if fnmatch.fnmatch(entry, pattern):\n",
    "            data_test.append(class_path+entry)"
   ]
  },
  {
   "cell_type": "code",
   "execution_count": 89,
   "metadata": {},
   "outputs": [
    {
     "name": "stdout",
     "output_type": "stream",
     "text": [
      "2707 2707\n"
     ]
    }
   ],
   "source": [
    "print(len(data_test_names), len(data_test))"
   ]
  },
  {
   "cell_type": "code",
   "execution_count": 90,
   "metadata": {},
   "outputs": [],
   "source": [
    "data_train_list = []\n",
    "for i in range(len(data_train)):\n",
    "    arr_obj = []\n",
    "    cl = (data_train[i].split(\"/\")[4]).split(\"~~~\")[0]\n",
    "    if cl == \"Sy1\" or cl == \"cv\" or cl == \"WD\" or cl == \"QSO\": continue\n",
    "    arr_obj.append(cl)\n",
    "    arr_obj.append(data_train[i])\n",
    "    data_train_list.append(arr_obj)\n",
    "    \n",
    "data_test_list = []\n",
    "for i in range(len(data_test)):\n",
    "    arr_obj = []\n",
    "    cl = (data_test[i].split(\"/\")[4]).split(\"~~~\")[0]\n",
    "    if cl == \"Sy1\" or cl == \"cv\" or cl == \"WD\" or cl == \"QSO\": continue\n",
    "    arr_obj.append(cl)\n",
    "    arr_obj.append(data_test[i])\n",
    "    data_test_list.append(arr_obj)"
   ]
  },
  {
   "cell_type": "code",
   "execution_count": 91,
   "metadata": {},
   "outputs": [
    {
     "name": "stdout",
     "output_type": "stream",
     "text": [
      "6832 1953\n"
     ]
    }
   ],
   "source": [
    "print(len(data_train_list), len(data_test_list))"
   ]
  },
  {
   "cell_type": "code",
   "execution_count": 92,
   "metadata": {},
   "outputs": [],
   "source": [
    "df_train = pd.DataFrame(data_train_list)\n",
    "df_test = pd.DataFrame(data_test_list)"
   ]
  },
  {
   "cell_type": "code",
   "execution_count": 93,
   "metadata": {},
   "outputs": [
    {
     "data": {
      "text/html": [
       "<div>\n",
       "<style scoped>\n",
       "    .dataframe tbody tr th:only-of-type {\n",
       "        vertical-align: middle;\n",
       "    }\n",
       "\n",
       "    .dataframe tbody tr th {\n",
       "        vertical-align: top;\n",
       "    }\n",
       "\n",
       "    .dataframe thead th {\n",
       "        text-align: right;\n",
       "    }\n",
       "</style>\n",
       "<table border=\"1\" class=\"dataframe\">\n",
       "  <thead>\n",
       "    <tr style=\"text-align: right;\">\n",
       "      <th></th>\n",
       "      <th>0</th>\n",
       "      <th>1</th>\n",
       "    </tr>\n",
       "  </thead>\n",
       "  <tbody>\n",
       "    <tr>\n",
       "      <td>0</td>\n",
       "      <td>C</td>\n",
       "      <td>./DataCreation/Dataset/Train_8bit/C~~~0445+010...</td>\n",
       "    </tr>\n",
       "    <tr>\n",
       "      <td>1</td>\n",
       "      <td>C</td>\n",
       "      <td>./DataCreation/Dataset/Train_8bit/C~~~0445+010...</td>\n",
       "    </tr>\n",
       "    <tr>\n",
       "      <td>2</td>\n",
       "      <td>C</td>\n",
       "      <td>./DataCreation/Dataset/Train_8bit/C~~~0445+010...</td>\n",
       "    </tr>\n",
       "    <tr>\n",
       "      <td>3</td>\n",
       "      <td>C</td>\n",
       "      <td>./DataCreation/Dataset/Train_8bit/C~~~0445+010...</td>\n",
       "    </tr>\n",
       "    <tr>\n",
       "      <td>4</td>\n",
       "      <td>C</td>\n",
       "      <td>./DataCreation/Dataset/Train_8bit/C~~~0445+010...</td>\n",
       "    </tr>\n",
       "  </tbody>\n",
       "</table>\n",
       "</div>"
      ],
      "text/plain": [
       "   0                                                  1\n",
       "0  C  ./DataCreation/Dataset/Train_8bit/C~~~0445+010...\n",
       "1  C  ./DataCreation/Dataset/Train_8bit/C~~~0445+010...\n",
       "2  C  ./DataCreation/Dataset/Train_8bit/C~~~0445+010...\n",
       "3  C  ./DataCreation/Dataset/Train_8bit/C~~~0445+010...\n",
       "4  C  ./DataCreation/Dataset/Train_8bit/C~~~0445+010..."
      ]
     },
     "execution_count": 93,
     "metadata": {},
     "output_type": "execute_result"
    }
   ],
   "source": [
    "df_train.head()"
   ]
  },
  {
   "cell_type": "code",
   "execution_count": 94,
   "metadata": {},
   "outputs": [
    {
     "data": {
      "text/html": [
       "<div>\n",
       "<style scoped>\n",
       "    .dataframe tbody tr th:only-of-type {\n",
       "        vertical-align: middle;\n",
       "    }\n",
       "\n",
       "    .dataframe tbody tr th {\n",
       "        vertical-align: top;\n",
       "    }\n",
       "\n",
       "    .dataframe thead th {\n",
       "        text-align: right;\n",
       "    }\n",
       "</style>\n",
       "<table border=\"1\" class=\"dataframe\">\n",
       "  <thead>\n",
       "    <tr style=\"text-align: right;\">\n",
       "      <th></th>\n",
       "      <th>0</th>\n",
       "      <th>1</th>\n",
       "    </tr>\n",
       "  </thead>\n",
       "  <tbody>\n",
       "    <tr>\n",
       "      <td>0</td>\n",
       "      <td>C</td>\n",
       "      <td>./DataCreation/Dataset/Test_8bit/C~~~0833-0605...</td>\n",
       "    </tr>\n",
       "    <tr>\n",
       "      <td>1</td>\n",
       "      <td>C</td>\n",
       "      <td>./DataCreation/Dataset/Test_8bit/C~~~0833-0605...</td>\n",
       "    </tr>\n",
       "    <tr>\n",
       "      <td>2</td>\n",
       "      <td>C</td>\n",
       "      <td>./DataCreation/Dataset/Test_8bit/C~~~0833-0605...</td>\n",
       "    </tr>\n",
       "    <tr>\n",
       "      <td>3</td>\n",
       "      <td>C</td>\n",
       "      <td>./DataCreation/Dataset/Test_8bit/C~~~0833-0605...</td>\n",
       "    </tr>\n",
       "    <tr>\n",
       "      <td>4</td>\n",
       "      <td>C</td>\n",
       "      <td>./DataCreation/Dataset/Test_8bit/C~~~0833-0605...</td>\n",
       "    </tr>\n",
       "  </tbody>\n",
       "</table>\n",
       "</div>"
      ],
      "text/plain": [
       "   0                                                  1\n",
       "0  C  ./DataCreation/Dataset/Test_8bit/C~~~0833-0605...\n",
       "1  C  ./DataCreation/Dataset/Test_8bit/C~~~0833-0605...\n",
       "2  C  ./DataCreation/Dataset/Test_8bit/C~~~0833-0605...\n",
       "3  C  ./DataCreation/Dataset/Test_8bit/C~~~0833-0605...\n",
       "4  C  ./DataCreation/Dataset/Test_8bit/C~~~0833-0605..."
      ]
     },
     "execution_count": 94,
     "metadata": {},
     "output_type": "execute_result"
    }
   ],
   "source": [
    "df_test.head()"
   ]
  },
  {
   "cell_type": "code",
   "execution_count": 95,
   "metadata": {},
   "outputs": [
    {
     "data": {
      "text/plain": [
       "sd     2750\n",
       "C      1655\n",
       "Mrk    1525\n",
       "M       770\n",
       "PN      132\n",
       "Name: 0, dtype: int64"
      ]
     },
     "execution_count": 95,
     "metadata": {},
     "output_type": "execute_result"
    }
   ],
   "source": [
    "df_train[0].value_counts()"
   ]
  },
  {
   "cell_type": "code",
   "execution_count": 96,
   "metadata": {},
   "outputs": [
    {
     "data": {
      "text/plain": [
       "sd     785\n",
       "C      470\n",
       "Mrk    430\n",
       "M      220\n",
       "PN      48\n",
       "Name: 0, dtype: int64"
      ]
     },
     "execution_count": 96,
     "metadata": {},
     "output_type": "execute_result"
    }
   ],
   "source": [
    "df_test[0].value_counts()"
   ]
  },
  {
   "cell_type": "code",
   "execution_count": 97,
   "metadata": {},
   "outputs": [],
   "source": [
    "from sklearn import preprocessing\n",
    "le = preprocessing.LabelEncoder()\n",
    "le.fit(df_train[0])\n",
    "df_train[0]=le.transform(df_train[0])"
   ]
  },
  {
   "cell_type": "code",
   "execution_count": 98,
   "metadata": {},
   "outputs": [
    {
     "data": {
      "text/plain": [
       "4    2750\n",
       "0    1655\n",
       "2    1525\n",
       "1     770\n",
       "3     132\n",
       "Name: 0, dtype: int64"
      ]
     },
     "execution_count": 98,
     "metadata": {},
     "output_type": "execute_result"
    }
   ],
   "source": [
    "df_train[0].value_counts()"
   ]
  },
  {
   "cell_type": "code",
   "execution_count": 99,
   "metadata": {},
   "outputs": [],
   "source": [
    "for index, Row in df_test.iterrows():\n",
    "    cl = Row[0]\n",
    "    if cl == 'sd':\n",
    "        df_test.at[index, 0] = 4\n",
    "    elif cl == \"C\":\n",
    "        df_test.at[index, 0] = 0\n",
    "    elif cl == \"Mrk\":\n",
    "        df_test.at[index, 0] = 2\n",
    "    elif cl == \"M\":\n",
    "        df_test.at[index, 0] = 1\n",
    "    elif cl == \"PN\":\n",
    "        df_test.at[index, 0] = 3\n",
    "#    elif cl == \"Sy1\":\n",
    "#        df_test.at[index, 0] = 5\n",
    "#    elif cl == \"WD\":\n",
    "#        df_test.at[index, 0] = 6\n",
    "#    elif cl == \"PN\":\n",
    "#        df_test.at[index, 0] = 3\n",
    "#    elif cl == \"cv\":\n",
    "#        df_test.at[index, 0] = 7"
   ]
  },
  {
   "cell_type": "code",
   "execution_count": 100,
   "metadata": {},
   "outputs": [
    {
     "data": {
      "text/plain": [
       "4    785\n",
       "0    470\n",
       "2    430\n",
       "1    220\n",
       "3     48\n",
       "Name: 0, dtype: int64"
      ]
     },
     "execution_count": 100,
     "metadata": {},
     "output_type": "execute_result"
    }
   ],
   "source": [
    "df_test[0].value_counts()"
   ]
  },
  {
   "cell_type": "code",
   "execution_count": 101,
   "metadata": {},
   "outputs": [],
   "source": [
    "X_tr = df_train.iloc[:, 1]\n",
    "Y_tr = df_train.iloc[:, 0]\n",
    "X_tr = X_tr.values\n",
    "Y_tr = Y_tr.values\n",
    "\n",
    "X_ts = df_test.iloc[:, 1]\n",
    "Y_ts = df_test.iloc[:, 0]\n",
    "X_ts = X_ts.values\n",
    "Y_ts = Y_ts.values"
   ]
  },
  {
   "cell_type": "code",
   "execution_count": 102,
   "metadata": {},
   "outputs": [],
   "source": [
    "images_list_train = []\n",
    "max_width = 0\n",
    "max_height = 0\n",
    "ind = 0\n",
    "for i in range(len(X_tr)):\n",
    "    im = Image.open(X_tr[i])\n",
    "    arr = np.array(im)#.flatten()\n",
    "    \n",
    "    arr=(arr-arr.min())/(arr.max()-arr.min())\n",
    "    #arr = arr / 0xffff\n",
    "    s = arr.shape\n",
    "    if s[0] > max_height:\n",
    "        max_height = s[0]\n",
    "    if s[1] > max_width:\n",
    "        max_width = s[1]\n",
    "        ind = i\n",
    "    images_list_train.append(arr)\n",
    "    \n",
    "images_list_test = []\n",
    "ind = 0\n",
    "for i in range(len(X_ts)):\n",
    "    im = Image.open(X_ts[i])\n",
    "    arr = np.array(im)#.flatten()\n",
    "    \n",
    "    arr=(arr-arr.min())/(arr.max()-arr.min())\n",
    "    #arr = arr / 0xffff\n",
    "    s = arr.shape\n",
    "    if s[0] > max_height:\n",
    "        max_height = s[0]\n",
    "    if s[1] > max_width:\n",
    "        max_width = s[1]\n",
    "        ind = i\n",
    "    images_list_test.append(arr)"
   ]
  },
  {
   "cell_type": "code",
   "execution_count": 103,
   "metadata": {},
   "outputs": [
    {
     "name": "stdout",
     "output_type": "stream",
     "text": [
      "40 140\n"
     ]
    }
   ],
   "source": [
    "print(max_width, max_height)"
   ]
  },
  {
   "cell_type": "code",
   "execution_count": 104,
   "metadata": {},
   "outputs": [],
   "source": [
    "for i in range(len(images_list_train)):\n",
    "    s = images_list_train[i].shape\n",
    "    d_width = (max_width - s[1])\n",
    "    d_height = (max_height - s[0])\n",
    "    \n",
    "    d_top = int(d_height / 2)\n",
    "    d_bottom = int(d_height - d_top)\n",
    "    \n",
    "    d_left = int(d_width / 2)\n",
    "    d_right = int(d_width - d_left)\n",
    "    #print(d_top, d_bottom, d_left, d_right)\n",
    "    \n",
    "    arr = images_list_train[i]\n",
    "    for l in range(d_left):\n",
    "        arr = np.insert(arr, 0, 0, axis = 1)\n",
    "    \n",
    "    for r in range(d_right):\n",
    "        b = np.zeros((s[0],1))\n",
    "        arr = np.append(arr, b, axis = 1)\n",
    "    \n",
    "    for t in range(d_top):\n",
    "        arr = np.insert(arr, 0, 0, axis = 0)\n",
    "    \n",
    "    for b in range(d_bottom):\n",
    "        b = np.zeros((1, arr.shape[1],))\n",
    "        arr = np.append(arr, b, axis = 0)\n",
    "    \n",
    "    images_list_train[i] = arr.flatten()\n",
    "\n",
    "for i in range(len(images_list_test)):\n",
    "    s = images_list_test[i].shape\n",
    "    d_width = (max_width - s[1])\n",
    "    d_height = (max_height - s[0])\n",
    "    \n",
    "    d_top = int(d_height / 2)\n",
    "    d_bottom = int(d_height - d_top)\n",
    "    \n",
    "    d_left = int(d_width / 2)\n",
    "    d_right = int(d_width - d_left)\n",
    "    #print(d_top, d_bottom, d_left, d_right)\n",
    "    \n",
    "    arr = images_list_test[i]\n",
    "    for l in range(d_left):\n",
    "        arr = np.insert(arr, 0, 0, axis = 1)\n",
    "    \n",
    "    for r in range(d_right):\n",
    "        b = np.zeros((s[0],1))\n",
    "        arr = np.append(arr, b, axis = 1)\n",
    "    \n",
    "    for t in range(d_top):\n",
    "        arr = np.insert(arr, 0, 0, axis = 0)\n",
    "    \n",
    "    for b in range(d_bottom):\n",
    "        b = np.zeros((1, arr.shape[1],))\n",
    "        arr = np.append(arr, b, axis = 0)\n",
    "    \n",
    "    images_list_test[i] = arr.flatten()"
   ]
  },
  {
   "cell_type": "code",
   "execution_count": 105,
   "metadata": {},
   "outputs": [
    {
     "name": "stdout",
     "output_type": "stream",
     "text": [
      "40 140\n"
     ]
    },
    {
     "data": {
      "text/plain": [
       "<matplotlib.image.AxesImage at 0x1f6b0009a08>"
      ]
     },
     "execution_count": 105,
     "metadata": {},
     "output_type": "execute_result"
    },
    {
     "data": {
      "image/png": "[encoded data removed]",
      "text/plain": [
       "<Figure size 432x288 with 1 Axes>"
      ]
     },
     "metadata": {
      "needs_background": "light"
     },
     "output_type": "display_data"
    }
   ],
   "source": [
    "width = max_width\n",
    "height = max_height\n",
    "print(width, height)\n",
    "plt.imshow(images_list_train[25].reshape(140, 40))"
   ]
  },
  {
   "cell_type": "code",
   "execution_count": 106,
   "metadata": {},
   "outputs": [],
   "source": [
    "from tensorflow.python.client import device_lib\n",
    "import tensorflow as tf\n",
    "import keras\n",
    "#print(device_lib.list_local_devices())\n",
    "\n",
    "config = tf.ConfigProto( device_count = {'GPU': 0 , 'CPU': 8} ) \n",
    "sess = tf.Session(config=config) \n",
    "keras.backend.set_session(sess)"
   ]
  },
  {
   "cell_type": "code",
   "execution_count": 107,
   "metadata": {},
   "outputs": [],
   "source": [
    "images_np_train = np.array(images_list_train)\n",
    "images_np_test = np.array(images_list_test)"
   ]
  },
  {
   "cell_type": "code",
   "execution_count": 108,
   "metadata": {},
   "outputs": [],
   "source": [
    "class_count = 5\n",
    "X_train = images_np_train\n",
    "Y_train = Y_tr\n",
    "Y_train = keras.utils.to_categorical(Y_train, class_count)\n",
    "\n",
    "X_test = images_np_test\n",
    "Y_test = Y_ts\n",
    "Y_test = keras.utils.to_categorical(Y_test, class_count)"
   ]
  },
  {
   "cell_type": "code",
   "execution_count": 109,
   "metadata": {},
   "outputs": [],
   "source": [
    "X_train = X_train.reshape(X_train.shape[0], 140, 40, 1)\n",
    "X_test = X_test.reshape(X_test.shape[0], 140, 40, 1)\n",
    "input_shape = (140, 40, 1)"
   ]
  },
  {
   "cell_type": "code",
   "execution_count": 110,
   "metadata": {},
   "outputs": [
    {
     "name": "stdout",
     "output_type": "stream",
     "text": [
      "x_train shape: (6832, 140, 40, 1)\n",
      "6832 train samples\n",
      "1953 test samples\n"
     ]
    }
   ],
   "source": [
    "print('x_train shape:', X_train.shape)\n",
    "print(X_train.shape[0], 'train samples')\n",
    "print(X_test.shape[0], 'test samples')"
   ]
  },
  {
   "cell_type": "code",
   "execution_count": 116,
   "metadata": {},
   "outputs": [],
   "source": [
    "from keras.models import Sequential\n",
    "from keras.layers import Dense, Conv2D, Dropout, Flatten, MaxPooling2D\n",
    "\n",
    "model = Sequential()\n",
    "model.add(Conv2D(128, kernel_size=(3,3), input_shape=input_shape, padding=\"same\"))\n",
    "model.add(MaxPooling2D(pool_size=(3, 1)))\n",
    "\n",
    "model.add(Conv2D(64, (3, 3), padding=\"same\"))\n",
    "model.add(Activation('relu'))\n",
    "model.add(MaxPooling2D(pool_size=(3, 1)))\n",
    "\n",
    "model.add(Conv2D(32, (3, 3), padding=\"same\"))\n",
    "model.add(Activation('relu'))\n",
    "model.add(MaxPooling2D(pool_size=(3, 4)))\n",
    "\n",
    "model.add(Flatten()) # Flattening the 2D arrays for fully connected layers\n",
    "model.add(Dense(128, activation=tf.nn.relu))\n",
    "model.add(Dropout(0.5))\n",
    "model.add(Dense(class_count,activation=tf.nn.softmax))"
   ]
  },
  {
   "cell_type": "code",
   "execution_count": 117,
   "metadata": {},
   "outputs": [],
   "source": [
    "#from keras.regularizers import l2\n",
    "#from keras.regularizers import l1\n",
    "#from keras.layers import Dropout\n",
    "#inpu_dim = X_train.shape[1]\n",
    "#h_1 = 3072\n",
    "#h_2 = 2048\n",
    "#h_3 = 1024\n",
    "#h_4 = 512\n",
    "#h_5 = 128\n",
    "#out_shape = class_count\n",
    "#\n",
    "##, kernel_regularizer = keras.regularizers.l1_l2(l1=0.01, l2=0.01)\n",
    "#\n",
    "#input_vect = Input(shape = (inpu_dim,))\n",
    "#x = BatchNormalization()(input_vect)\n",
    "#x = Dropout(0.5)(x)\n",
    "#x = Dense(h_1, activation=\"relu\")(x)\n",
    "#x = BatchNormalization()(x)\n",
    "#x = Dropout(0.5)(x)\n",
    "#x = Dense(h_2, activation=\"relu\")(x)\n",
    "#x = BatchNormalization()(x)\n",
    "#x = Dropout(0.5)(x)\n",
    "#x = Dense(h_3, activation=\"relu\")(x)\n",
    "#x = BatchNormalization()(x)\n",
    "#x = Dropout(0.3)(x)\n",
    "#x = Dense(h_4, activation=\"relu\")(x)\n",
    "#x = BatchNormalization()(x)\n",
    "#x = Dropout(0.3)(x)\n",
    "#x = Dense(h_5, activation=\"relu\")(x)\n",
    "#x = BatchNormalization()(x)\n",
    "#x = Dropout(0.3)(x)\n",
    "##x = Dense(h_4, activation=\"relu\", kernel_regularizer = keras.regularizers.l1_l2(l1=0.01, l2=0.01))(x)\n",
    "##x = BatchNormalization()(x)\n",
    "##x = Dropout(0.3)(x)\n",
    "#out_layer = Dense(out_shape, activation='softmax')(x)\n",
    "#\n",
    "#model = Model(input_vect, out_layer)"
   ]
  },
  {
   "cell_type": "code",
   "execution_count": 118,
   "metadata": {},
   "outputs": [
    {
     "name": "stdout",
     "output_type": "stream",
     "text": [
      "_________________________________________________________________\n",
      "Layer (type)                 Output Shape              Param #   \n",
      "=================================================================\n",
      "conv2d_4 (Conv2D)            (None, 140, 40, 128)      1280      \n",
      "_________________________________________________________________\n",
      "max_pooling2d_4 (MaxPooling2 (None, 46, 40, 128)       0         \n",
      "_________________________________________________________________\n",
      "conv2d_5 (Conv2D)            (None, 46, 40, 64)        73792     \n",
      "_________________________________________________________________\n",
      "activation_3 (Activation)    (None, 46, 40, 64)        0         \n",
      "_________________________________________________________________\n",
      "max_pooling2d_5 (MaxPooling2 (None, 15, 40, 64)        0         \n",
      "_________________________________________________________________\n",
      "conv2d_6 (Conv2D)            (None, 15, 40, 32)        18464     \n",
      "_________________________________________________________________\n",
      "activation_4 (Activation)    (None, 15, 40, 32)        0         \n",
      "_________________________________________________________________\n",
      "max_pooling2d_6 (MaxPooling2 (None, 5, 10, 32)         0         \n",
      "_________________________________________________________________\n",
      "flatten_2 (Flatten)          (None, 1600)              0         \n",
      "_________________________________________________________________\n",
      "dense_15 (Dense)             (None, 128)               204928    \n",
      "_________________________________________________________________\n",
      "dropout_14 (Dropout)         (None, 128)               0         \n",
      "_________________________________________________________________\n",
      "dense_16 (Dense)             (None, 5)                 645       \n",
      "=================================================================\n",
      "Total params: 299,109\n",
      "Trainable params: 299,109\n",
      "Non-trainable params: 0\n",
      "_________________________________________________________________\n"
     ]
    }
   ],
   "source": [
    "model.summary()"
   ]
  },
  {
   "cell_type": "code",
   "execution_count": 119,
   "metadata": {},
   "outputs": [],
   "source": [
    "adadelta = optimizers.Adadelta(lr=0.05, rho=0.95)\n",
    "model.compile(optimizer=adadelta , loss='categorical_crossentropy', metrics=['accuracy'])"
   ]
  },
  {
   "cell_type": "code",
   "execution_count": 120,
   "metadata": {},
   "outputs": [
    {
     "name": "stdout",
     "output_type": "stream",
     "text": [
      "Train on 6832 samples, validate on 1953 samples\n",
      "Epoch 1/35\n",
      "6832/6832 [==============================] - 80s 12ms/step - loss: 1.1979 - acc: 0.5119 - val_loss: 0.9039 - val_acc: 0.6902\n",
      "Epoch 2/35\n",
      "6832/6832 [==============================] - 78s 11ms/step - loss: 0.8158 - acc: 0.6953 - val_loss: 0.7733 - val_acc: 0.7179\n",
      "Epoch 3/35\n",
      "6832/6832 [==============================] - 78s 11ms/step - loss: 0.7129 - acc: 0.7458 - val_loss: 0.6544 - val_acc: 0.7629\n",
      "Epoch 4/35\n",
      "6832/6832 [==============================] - 79s 11ms/step - loss: 0.6658 - acc: 0.7626 - val_loss: 0.6146 - val_acc: 0.7768\n",
      "Epoch 5/35\n",
      "6832/6832 [==============================] - 78s 11ms/step - loss: 0.6275 - acc: 0.7714 - val_loss: 0.5737 - val_acc: 0.7865\n",
      "Epoch 6/35\n",
      "6832/6832 [==============================] - 77s 11ms/step - loss: 0.6087 - acc: 0.7841 - val_loss: 0.5509 - val_acc: 0.8111\n",
      "Epoch 7/35\n",
      "6832/6832 [==============================] - 78s 11ms/step - loss: 0.5784 - acc: 0.7939 - val_loss: 0.5397 - val_acc: 0.8085\n",
      "Epoch 8/35\n",
      "6832/6832 [==============================] - 78s 11ms/step - loss: 0.5596 - acc: 0.8034 - val_loss: 0.5085 - val_acc: 0.8290\n",
      "Epoch 9/35\n",
      "6832/6832 [==============================] - 78s 11ms/step - loss: 0.5514 - acc: 0.8074 - val_loss: 0.5079 - val_acc: 0.8182\n",
      "Epoch 10/35\n",
      "6832/6832 [==============================] - 78s 11ms/step - loss: 0.5392 - acc: 0.8085 - val_loss: 0.4924 - val_acc: 0.8208\n",
      "Epoch 11/35\n",
      "6832/6832 [==============================] - 78s 11ms/step - loss: 0.5236 - acc: 0.8135 - val_loss: 0.4741 - val_acc: 0.8464\n",
      "Epoch 12/35\n",
      "6832/6832 [==============================] - 78s 11ms/step - loss: 0.5141 - acc: 0.8186 - val_loss: 0.4685 - val_acc: 0.8500\n",
      "Epoch 13/35\n",
      "6832/6832 [==============================] - 78s 11ms/step - loss: 0.5036 - acc: 0.8248 - val_loss: 0.4565 - val_acc: 0.8402\n",
      "Epoch 14/35\n",
      "6832/6832 [==============================] - 78s 11ms/step - loss: 0.4897 - acc: 0.8249 - val_loss: 0.4480 - val_acc: 0.8443\n",
      "Epoch 15/35\n",
      "6832/6832 [==============================] - 77s 11ms/step - loss: 0.4823 - acc: 0.8308 - val_loss: 0.4500 - val_acc: 0.8505\n",
      "Epoch 16/35\n",
      "6832/6832 [==============================] - 78s 11ms/step - loss: 0.4762 - acc: 0.8320 - val_loss: 0.4461 - val_acc: 0.8454\n",
      "Epoch 17/35\n",
      "6832/6832 [==============================] - 78s 11ms/step - loss: 0.4585 - acc: 0.8390 - val_loss: 0.4456 - val_acc: 0.8418\n",
      "Epoch 18/35\n",
      "6832/6832 [==============================] - 78s 11ms/step - loss: 0.4587 - acc: 0.8374 - val_loss: 0.4260 - val_acc: 0.8536\n",
      "Epoch 19/35\n",
      "6832/6832 [==============================] - 83s 12ms/step - loss: 0.4509 - acc: 0.8393 - val_loss: 0.4501 - val_acc: 0.8423\n",
      "Epoch 20/35\n",
      "6832/6832 [==============================] - 84s 12ms/step - loss: 0.4432 - acc: 0.8432 - val_loss: 0.4176 - val_acc: 0.8602\n",
      "Epoch 21/35\n",
      "6832/6832 [==============================] - 78s 11ms/step - loss: 0.4447 - acc: 0.8424 - val_loss: 0.4281 - val_acc: 0.8658\n",
      "Epoch 22/35\n",
      "6832/6832 [==============================] - 79s 12ms/step - loss: 0.4363 - acc: 0.8450 - val_loss: 0.4176 - val_acc: 0.8582\n",
      "Epoch 23/35\n",
      "6832/6832 [==============================] - 80s 12ms/step - loss: 0.4302 - acc: 0.8519 - val_loss: 0.4142 - val_acc: 0.8515\n",
      "Epoch 24/35\n",
      "6832/6832 [==============================] - 81s 12ms/step - loss: 0.4196 - acc: 0.8476 - val_loss: 0.4171 - val_acc: 0.8571\n",
      "Epoch 25/35\n",
      "6832/6832 [==============================] - 81s 12ms/step - loss: 0.4180 - acc: 0.8538 - val_loss: 0.4071 - val_acc: 0.8612\n",
      "Epoch 26/35\n",
      "6832/6832 [==============================] - 78s 11ms/step - loss: 0.4093 - acc: 0.8577 - val_loss: 0.4125 - val_acc: 0.8577\n",
      "Epoch 27/35\n",
      "6832/6832 [==============================] - 78s 11ms/step - loss: 0.4027 - acc: 0.8580 - val_loss: 0.3927 - val_acc: 0.8618\n",
      "Epoch 28/35\n",
      "6832/6832 [==============================] - 80s 12ms/step - loss: 0.4036 - acc: 0.8598 - val_loss: 0.3976 - val_acc: 0.8592\n",
      "Epoch 29/35\n",
      "6832/6832 [==============================] - 79s 12ms/step - loss: 0.4037 - acc: 0.8592 - val_loss: 0.3917 - val_acc: 0.8756\n",
      "Epoch 30/35\n",
      "6832/6832 [==============================] - 79s 12ms/step - loss: 0.3942 - acc: 0.8557 - val_loss: 0.3928 - val_acc: 0.8725\n",
      "Epoch 31/35\n",
      "6832/6832 [==============================] - 78s 11ms/step - loss: 0.3918 - acc: 0.8604 - val_loss: 0.3914 - val_acc: 0.8812\n",
      "Epoch 32/35\n",
      "6832/6832 [==============================] - 84s 12ms/step - loss: 0.3864 - acc: 0.8605 - val_loss: 0.3832 - val_acc: 0.8776\n",
      "Epoch 33/35\n",
      "6832/6832 [==============================] - 82s 12ms/step - loss: 0.3817 - acc: 0.8662 - val_loss: 0.3821 - val_acc: 0.8735\n",
      "Epoch 34/35\n",
      "6832/6832 [==============================] - 82s 12ms/step - loss: 0.3821 - acc: 0.8596 - val_loss: 0.3812 - val_acc: 0.8751\n",
      "Epoch 35/35\n",
      "6832/6832 [==============================] - 82s 12ms/step - loss: 0.3747 - acc: 0.8652 - val_loss: 0.3786 - val_acc: 0.8710\n"
     ]
    }
   ],
   "source": [
    "cw = {0:1, 1:1, 2:1, 3:1, 4:1}\n",
    "history = model.fit(X_train, Y_train, epochs = 35, batch_size = 32, shuffle=True, validation_data=(X_test, Y_test), class_weight=cw)"
   ]
  },
  {
   "cell_type": "code",
   "execution_count": 121,
   "metadata": {},
   "outputs": [
    {
     "data": {
      "image/png": "[encoded data removed]",
      "text/plain": [
       "<Figure size 432x288 with 1 Axes>"
      ]
     },
     "metadata": {
      "needs_background": "light"
     },
     "output_type": "display_data"
    }
   ],
   "source": [
    "plt.plot(history.history['acc'], label='MSE (train data)')\n",
    "plt.plot(history.history['val_acc'], label='MSE (val data)')\n",
    "plt.title('MSE for Chennai Reservoir Levels')\n",
    "plt.ylabel('MSE value')\n",
    "plt.xlabel('No. epoch')\n",
    "plt.legend(loc=\"upper left\")\n",
    "plt.show()"
   ]
  },
  {
   "cell_type": "code",
   "execution_count": 125,
   "metadata": {},
   "outputs": [],
   "source": [
    "prediction = model.predict(X_train)"
   ]
  },
  {
   "cell_type": "code",
   "execution_count": 126,
   "metadata": {},
   "outputs": [],
   "source": [
    "for i in range(len(prediction)):\n",
    "    prediction[i] = prediction[i] > 0.5"
   ]
  },
  {
   "cell_type": "code",
   "execution_count": 128,
   "metadata": {},
   "outputs": [
    {
     "name": "stdout",
     "output_type": "stream",
     "text": [
      "Accuracy: 0.8687060889929742\n",
      "F1 score: 0.8788883848395046\n",
      "Recall: 0.8687060889929742\n",
      "Precision: 0.8974380276285455\n",
      "\n",
      " clasification report:\n",
      "               precision    recall  f1-score   support\n",
      "\n",
      "           0       0.86      0.84      0.85      1655\n",
      "           1       0.80      0.49      0.61       770\n",
      "           2       0.89      0.91      0.90      1525\n",
      "           3       1.00      1.00      1.00       132\n",
      "           4       0.95      0.96      0.96      2750\n",
      "\n",
      "   micro avg       0.90      0.87      0.89      6832\n",
      "   macro avg       0.90      0.84      0.86      6832\n",
      "weighted avg       0.90      0.87      0.88      6832\n",
      " samples avg       0.87      0.87      0.87      6832\n",
      "\n"
     ]
    },
    {
     "ename": "ValueError",
     "evalue": "multilabel-indicator is not supported",
     "output_type": "error",
     "traceback": [
      "\u001b[1;31m---------------------------------------------------------------------------\u001b[0m",
      "\u001b[1;31mValueError\u001b[0m                                Traceback (most recent call last)",
      "\u001b[1;32m<ipython-input-128-1fc7f83c59e8>\u001b[0m in \u001b[0;36m<module>\u001b[1;34m\u001b[0m\n\u001b[0;32m      7\u001b[0m \u001b[0mprint\u001b[0m \u001b[1;33m(\u001b[0m\u001b[1;34m'Precision:'\u001b[0m\u001b[1;33m,\u001b[0m \u001b[0mprecision_score\u001b[0m\u001b[1;33m(\u001b[0m\u001b[0mthis_y\u001b[0m\u001b[1;33m,\u001b[0m \u001b[0mprediction\u001b[0m\u001b[1;33m,\u001b[0m \u001b[0maverage\u001b[0m \u001b[1;33m=\u001b[0m \u001b[1;34m\"weighted\"\u001b[0m\u001b[1;33m)\u001b[0m\u001b[1;33m)\u001b[0m\u001b[1;33m\u001b[0m\u001b[1;33m\u001b[0m\u001b[0m\n\u001b[0;32m      8\u001b[0m \u001b[0mprint\u001b[0m \u001b[1;33m(\u001b[0m\u001b[1;34m'\\n clasification report:\\n'\u001b[0m\u001b[1;33m,\u001b[0m \u001b[0mclassification_report\u001b[0m\u001b[1;33m(\u001b[0m\u001b[0mthis_y\u001b[0m\u001b[1;33m,\u001b[0m\u001b[0mprediction\u001b[0m\u001b[1;33m)\u001b[0m\u001b[1;33m)\u001b[0m\u001b[1;33m\u001b[0m\u001b[1;33m\u001b[0m\u001b[0m\n\u001b[1;32m----> 9\u001b[1;33m \u001b[0mprint\u001b[0m \u001b[1;33m(\u001b[0m\u001b[1;34m'\\n confussion matrix:\\n'\u001b[0m\u001b[1;33m,\u001b[0m\u001b[0mconfusion_matrix\u001b[0m\u001b[1;33m(\u001b[0m\u001b[0mthis_y\u001b[0m\u001b[1;33m,\u001b[0m \u001b[0mprediction\u001b[0m\u001b[1;33m)\u001b[0m\u001b[1;33m)\u001b[0m\u001b[1;33m\u001b[0m\u001b[1;33m\u001b[0m\u001b[0m\n\u001b[0m",
      "\u001b[1;32m~\\Anaconda3\\lib\\site-packages\\sklearn\\metrics\\classification.py\u001b[0m in \u001b[0;36mconfusion_matrix\u001b[1;34m(y_true, y_pred, labels, sample_weight)\u001b[0m\n\u001b[0;32m    253\u001b[0m     \u001b[0my_type\u001b[0m\u001b[1;33m,\u001b[0m \u001b[0my_true\u001b[0m\u001b[1;33m,\u001b[0m \u001b[0my_pred\u001b[0m \u001b[1;33m=\u001b[0m \u001b[0m_check_targets\u001b[0m\u001b[1;33m(\u001b[0m\u001b[0my_true\u001b[0m\u001b[1;33m,\u001b[0m \u001b[0my_pred\u001b[0m\u001b[1;33m)\u001b[0m\u001b[1;33m\u001b[0m\u001b[1;33m\u001b[0m\u001b[0m\n\u001b[0;32m    254\u001b[0m     \u001b[1;32mif\u001b[0m \u001b[0my_type\u001b[0m \u001b[1;32mnot\u001b[0m \u001b[1;32min\u001b[0m \u001b[1;33m(\u001b[0m\u001b[1;34m\"binary\"\u001b[0m\u001b[1;33m,\u001b[0m \u001b[1;34m\"multiclass\"\u001b[0m\u001b[1;33m)\u001b[0m\u001b[1;33m:\u001b[0m\u001b[1;33m\u001b[0m\u001b[1;33m\u001b[0m\u001b[0m\n\u001b[1;32m--> 255\u001b[1;33m         \u001b[1;32mraise\u001b[0m \u001b[0mValueError\u001b[0m\u001b[1;33m(\u001b[0m\u001b[1;34m\"%s is not supported\"\u001b[0m \u001b[1;33m%\u001b[0m \u001b[0my_type\u001b[0m\u001b[1;33m)\u001b[0m\u001b[1;33m\u001b[0m\u001b[1;33m\u001b[0m\u001b[0m\n\u001b[0m\u001b[0;32m    256\u001b[0m \u001b[1;33m\u001b[0m\u001b[0m\n\u001b[0;32m    257\u001b[0m     \u001b[1;32mif\u001b[0m \u001b[0mlabels\u001b[0m \u001b[1;32mis\u001b[0m \u001b[1;32mNone\u001b[0m\u001b[1;33m:\u001b[0m\u001b[1;33m\u001b[0m\u001b[1;33m\u001b[0m\u001b[0m\n",
      "\u001b[1;31mValueError\u001b[0m: multilabel-indicator is not supported"
     ]
    }
   ],
   "source": [
    "from sklearn.metrics import precision_score, recall_score, confusion_matrix, classification_report, accuracy_score, f1_score\n",
    "\n",
    "this_y = Y_train\n",
    "print('Accuracy:', accuracy_score(this_y, prediction))\n",
    "print ('F1 score:', f1_score(this_y, prediction, average = \"weighted\"))\n",
    "print ('Recall:', recall_score(this_y, prediction, average = \"weighted\"))\n",
    "print ('Precision:', precision_score(this_y, prediction, average = \"weighted\"))\n",
    "print ('\\n clasification report:\\n', classification_report(this_y,prediction))\n",
    "print ('\\n confussion matrix:\\n',confusion_matrix(this_y, prediction))"
   ]
  },
  {
   "cell_type": "code",
   "execution_count": 77,
   "metadata": {},
   "outputs": [
    {
     "name": "stdout",
     "output_type": "stream",
     "text": [
      "Saved model to disk\n"
     ]
    }
   ],
   "source": [
    "#model_json = model.to_json()\n",
    "#with open(\"model.json\", \"w\") as json_file:\n",
    "#    json_file.write(model_json)\n",
    "## serialize weights to HDF5\n",
    "#model.save_weights(\"model.h5\")\n",
    "#print(\"Saved model to disk\")"
   ]
  },
  {
   "cell_type": "code",
   "execution_count": null,
   "metadata": {},
   "outputs": [],
   "source": []
  }
 ],
 "metadata": {
  "kernelspec": {
   "display_name": "Python 3",
   "language": "python",
   "name": "python3"
  },
  "language_info": {
   "codemirror_mode": {
    "name": "ipython",
    "version": 3
   },
   "file_extension": ".py",
   "mimetype": "text/x-python",
   "name": "python",
   "nbconvert_exporter": "python",
   "pygments_lexer": "ipython3",
   "version": "3.7.4"
  }
 },
 "nbformat": 4,
 "nbformat_minor": 2
}
